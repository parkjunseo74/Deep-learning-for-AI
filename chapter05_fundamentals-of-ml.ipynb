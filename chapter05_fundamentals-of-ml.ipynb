{
  "cells": [
    {
      "cell_type": "markdown",
      "metadata": {
        "id": "Tb4XG89jOr7d"
      },
      "source": [
        "This is a companion notebook for the book [Deep Learning with Python, Second Edition](https://www.manning.com/books/deep-learning-with-python-second-edition?a_aid=keras&a_bid=76564dff). For readability, it only contains runnable code blocks and section titles, and omits everything else in the book: text paragraphs, figures, and pseudocode.\n",
        "\n",
        "**If you want to be able to follow what's going on, I recommend reading the notebook side by side with your copy of the book.**\n",
        "\n",
        "This notebook was generated for TensorFlow 2.6."
      ]
    },
    {
      "cell_type": "markdown",
      "metadata": {
        "id": "FUbDS_eSOr7f"
      },
      "source": [
        "# Fundamentals of machine learning"
      ]
    },
    {
      "cell_type": "markdown",
      "metadata": {
        "id": "05kkjrPMOr7f"
      },
      "source": [
        "## Generalization: The goal of machine learning"
      ]
    },
    {
      "cell_type": "markdown",
      "metadata": {
        "id": "4PuQVPuROr7f"
      },
      "source": [
        "### Underfitting and overfitting"
      ]
    },
    {
      "cell_type": "markdown",
      "metadata": {
        "id": "cUChaoxGOr7f"
      },
      "source": [
        "#### Noisy training data"
      ]
    },
    {
      "cell_type": "markdown",
      "metadata": {
        "id": "PYii145sOr7f"
      },
      "source": [
        "#### Ambiguous features"
      ]
    },
    {
      "cell_type": "markdown",
      "metadata": {
        "id": "KZYhLQhXOr7f"
      },
      "source": [
        "#### Rare features and spurious correlations"
      ]
    },
    {
      "cell_type": "markdown",
      "metadata": {
        "id": "mQpzMdLQOr7f"
      },
      "source": [
        "**Adding white-noise channels or all-zeros channels to MNIST**"
      ]
    },
    {
      "cell_type": "code",
      "execution_count": 1,
      "metadata": {
        "colab": {
          "base_uri": "https://localhost:8080/"
        },
        "id": "jYsvRBu3Or7g",
        "outputId": "fd831074-a350-4194-f6f9-ea265cfcf063"
      },
      "outputs": [
        {
          "output_type": "stream",
          "name": "stdout",
          "text": [
            "Downloading data from https://storage.googleapis.com/tensorflow/tf-keras-datasets/mnist.npz\n",
            "11490434/11490434 [==============================] - 2s 0us/step\n"
          ]
        }
      ],
      "source": [
        "from tensorflow.keras.datasets import mnist\n",
        "import numpy as np\n",
        "\n",
        "(train_images, train_labels), _ = mnist.load_data()\n",
        "train_images = train_images.reshape((60000, 28 * 28))\n",
        "train_images = train_images.astype(\"float32\") / 255\n",
        "\n",
        "train_images_with_noise_channels = np.concatenate(\n",
        "    [train_images, np.random.random((len(train_images), 784))], axis=1)\n",
        "\n",
        "train_images_with_zeros_channels = np.concatenate(\n",
        "    [train_images, np.zeros((len(train_images), 784))], axis=1)"
      ]
    },
    {
      "cell_type": "code",
      "source": [
        "train_images.shape"
      ],
      "metadata": {
        "colab": {
          "base_uri": "https://localhost:8080/"
        },
        "id": "vdbUw7eRVhvW",
        "outputId": "5f56cdde-900a-4b50-98d1-d7c0f4dd1968"
      },
      "execution_count": 2,
      "outputs": [
        {
          "output_type": "execute_result",
          "data": {
            "text/plain": [
              "(60000, 784)"
            ]
          },
          "metadata": {},
          "execution_count": 2
        }
      ]
    },
    {
      "cell_type": "markdown",
      "metadata": {
        "id": "ob7jmrhiOr7g"
      },
      "source": [
        "**Training the same model on MNIST data with noise channels or all-zero channels**"
      ]
    },
    {
      "cell_type": "code",
      "execution_count": 3,
      "metadata": {
        "colab": {
          "base_uri": "https://localhost:8080/"
        },
        "id": "mTzNJZptOr7g",
        "outputId": "f8c2a7d1-e03e-4508-dc88-47857ab5e034"
      },
      "outputs": [
        {
          "output_type": "stream",
          "name": "stdout",
          "text": [
            "Epoch 1/10\n",
            "375/375 [==============================] - 4s 6ms/step - loss: 0.6149 - accuracy: 0.8146 - val_loss: 0.2554 - val_accuracy: 0.9241\n",
            "Epoch 2/10\n",
            "375/375 [==============================] - 1s 4ms/step - loss: 0.2521 - accuracy: 0.9221 - val_loss: 0.2349 - val_accuracy: 0.9252\n",
            "Epoch 3/10\n",
            "375/375 [==============================] - 1s 4ms/step - loss: 0.1624 - accuracy: 0.9499 - val_loss: 0.1782 - val_accuracy: 0.9423\n",
            "Epoch 4/10\n",
            "375/375 [==============================] - 1s 3ms/step - loss: 0.1124 - accuracy: 0.9657 - val_loss: 0.1618 - val_accuracy: 0.9513\n",
            "Epoch 5/10\n",
            "375/375 [==============================] - 1s 3ms/step - loss: 0.0834 - accuracy: 0.9741 - val_loss: 0.1277 - val_accuracy: 0.9637\n",
            "Epoch 6/10\n",
            "375/375 [==============================] - 1s 4ms/step - loss: 0.0615 - accuracy: 0.9803 - val_loss: 0.1318 - val_accuracy: 0.9619\n",
            "Epoch 7/10\n",
            "375/375 [==============================] - 1s 4ms/step - loss: 0.0456 - accuracy: 0.9847 - val_loss: 0.1318 - val_accuracy: 0.9632\n",
            "Epoch 8/10\n",
            "375/375 [==============================] - 1s 4ms/step - loss: 0.0333 - accuracy: 0.9896 - val_loss: 0.1183 - val_accuracy: 0.9678\n",
            "Epoch 9/10\n",
            "375/375 [==============================] - 2s 4ms/step - loss: 0.0239 - accuracy: 0.9927 - val_loss: 0.1214 - val_accuracy: 0.9693\n",
            "Epoch 10/10\n",
            "375/375 [==============================] - 2s 4ms/step - loss: 0.0182 - accuracy: 0.9947 - val_loss: 0.1238 - val_accuracy: 0.9704\n",
            "Epoch 1/10\n",
            "375/375 [==============================] - 2s 4ms/step - loss: 0.2954 - accuracy: 0.9140 - val_loss: 0.1557 - val_accuracy: 0.9557\n",
            "Epoch 2/10\n",
            "375/375 [==============================] - 1s 4ms/step - loss: 0.1221 - accuracy: 0.9644 - val_loss: 0.1151 - val_accuracy: 0.9647\n",
            "Epoch 3/10\n",
            "375/375 [==============================] - 2s 4ms/step - loss: 0.0814 - accuracy: 0.9758 - val_loss: 0.0933 - val_accuracy: 0.9718\n",
            "Epoch 4/10\n",
            "375/375 [==============================] - 2s 5ms/step - loss: 0.0585 - accuracy: 0.9825 - val_loss: 0.0818 - val_accuracy: 0.9756\n",
            "Epoch 5/10\n",
            "375/375 [==============================] - 1s 4ms/step - loss: 0.0437 - accuracy: 0.9878 - val_loss: 0.0800 - val_accuracy: 0.9756\n",
            "Epoch 6/10\n",
            "375/375 [==============================] - 1s 3ms/step - loss: 0.0325 - accuracy: 0.9905 - val_loss: 0.0763 - val_accuracy: 0.9773\n",
            "Epoch 7/10\n",
            "375/375 [==============================] - 1s 4ms/step - loss: 0.0248 - accuracy: 0.9929 - val_loss: 0.0762 - val_accuracy: 0.9784\n",
            "Epoch 8/10\n",
            "375/375 [==============================] - 1s 3ms/step - loss: 0.0188 - accuracy: 0.9948 - val_loss: 0.0773 - val_accuracy: 0.9787\n",
            "Epoch 9/10\n",
            "375/375 [==============================] - 1s 3ms/step - loss: 0.0142 - accuracy: 0.9965 - val_loss: 0.0827 - val_accuracy: 0.9772\n",
            "Epoch 10/10\n",
            "375/375 [==============================] - 1s 3ms/step - loss: 0.0108 - accuracy: 0.9972 - val_loss: 0.0789 - val_accuracy: 0.9785\n"
          ]
        }
      ],
      "source": [
        "from tensorflow import keras\n",
        "from tensorflow.keras import layers\n",
        "\n",
        "def get_model():\n",
        "    model = keras.Sequential([\n",
        "        layers.Dense(512, activation=\"relu\"),\n",
        "        layers.Dense(10, activation=\"softmax\")\n",
        "    ])\n",
        "    model.compile(optimizer=\"rmsprop\",\n",
        "                  loss=\"sparse_categorical_crossentropy\",\n",
        "                  metrics=[\"accuracy\"])\n",
        "    return model\n",
        "\n",
        "model = get_model()\n",
        "history_noise = model.fit(\n",
        "    train_images_with_noise_channels, train_labels,\n",
        "    epochs=10,\n",
        "    batch_size=128,\n",
        "    validation_split=0.2)\n",
        "\n",
        "model = get_model()\n",
        "history_zeros = model.fit(\n",
        "    train_images_with_zeros_channels, train_labels,\n",
        "    epochs=10,\n",
        "    batch_size=128,\n",
        "    validation_split=0.2)"
      ]
    },
    {
      "cell_type": "markdown",
      "metadata": {
        "id": "5W5PTKR7Or7g"
      },
      "source": [
        "**Plotting a validation accuracy comparison**"
      ]
    },
    {
      "cell_type": "code",
      "execution_count": 4,
      "metadata": {
        "colab": {
          "base_uri": "https://localhost:8080/",
          "height": 490
        },
        "id": "zdmvUd36Or7h",
        "outputId": "4c111dc8-6cad-4e2a-93d6-e310f3df038d"
      },
      "outputs": [
        {
          "output_type": "execute_result",
          "data": {
            "text/plain": [
              "<matplotlib.legend.Legend at 0x7803e2baf430>"
            ]
          },
          "metadata": {},
          "execution_count": 4
        },
        {
          "output_type": "display_data",
          "data": {
            "text/plain": [
              "<Figure size 640x480 with 1 Axes>"
            ],
            "image/png": "[encoded data removed]"
          },
          "metadata": {}
        }
      ],
      "source": [
        "import matplotlib.pyplot as plt\n",
        "val_acc_noise = history_noise.history[\"val_accuracy\"]\n",
        "val_acc_zeros = history_zeros.history[\"val_accuracy\"]\n",
        "epochs = range(1, 11)\n",
        "plt.plot(epochs, val_acc_noise, \"b-\",\n",
        "         label=\"Validation accuracy with noise channels\")\n",
        "plt.plot(epochs, val_acc_zeros, \"b--\",\n",
        "         label=\"Validation accuracy with zeros channels\")\n",
        "plt.title(\"Effect of noise channels on validation accuracy\")\n",
        "plt.xlabel(\"Epochs\")\n",
        "plt.ylabel(\"Accuracy\")\n",
        "plt.legend()"
      ]
    },
    {
      "cell_type": "markdown",
      "metadata": {
        "id": "sjhiM0_9Or7h"
      },
      "source": [
        "### The nature of generalization in deep learning"
      ]
    },
    {
      "cell_type": "markdown",
      "metadata": {
        "id": "bbGjRRMQOr7h"
      },
      "source": [
        "**Fitting a MNIST model with randomly shuffled labels**"
      ]
    },
    {
      "cell_type": "code",
      "execution_count": 5,
      "metadata": {
        "colab": {
          "base_uri": "https://localhost:8080/"
        },
        "id": "bJe0EiP_Or7h",
        "outputId": "dcac37d5-5df0-4503-b317-baf9fb9af88f"
      },
      "outputs": [
        {
          "output_type": "stream",
          "name": "stdout",
          "text": [
            "Epoch 1/100\n",
            "375/375 [==============================] - 2s 4ms/step - loss: 2.3169 - accuracy: 0.0982 - val_loss: 2.3059 - val_accuracy: 0.1073\n",
            "Epoch 2/100\n",
            "375/375 [==============================] - 1s 4ms/step - loss: 2.3000 - accuracy: 0.1168 - val_loss: 2.3088 - val_accuracy: 0.1040\n",
            "Epoch 3/100\n",
            "375/375 [==============================] - 1s 4ms/step - loss: 2.2919 - accuracy: 0.1239 - val_loss: 2.3143 - val_accuracy: 0.1015\n",
            "Epoch 4/100\n",
            "375/375 [==============================] - 2s 4ms/step - loss: 2.2797 - accuracy: 0.1370 - val_loss: 2.3230 - val_accuracy: 0.1053\n",
            "Epoch 5/100\n",
            "375/375 [==============================] - 1s 3ms/step - loss: 2.2642 - accuracy: 0.1492 - val_loss: 2.3365 - val_accuracy: 0.1067\n",
            "Epoch 6/100\n",
            "375/375 [==============================] - 1s 3ms/step - loss: 2.2451 - accuracy: 0.1656 - val_loss: 2.3472 - val_accuracy: 0.1056\n",
            "Epoch 7/100\n",
            "375/375 [==============================] - 1s 3ms/step - loss: 2.2225 - accuracy: 0.1806 - val_loss: 2.3540 - val_accuracy: 0.1068\n",
            "Epoch 8/100\n",
            "375/375 [==============================] - 1s 3ms/step - loss: 2.1956 - accuracy: 0.1955 - val_loss: 2.3798 - val_accuracy: 0.1061\n",
            "Epoch 9/100\n",
            "375/375 [==============================] - 1s 3ms/step - loss: 2.1653 - accuracy: 0.2112 - val_loss: 2.3962 - val_accuracy: 0.1049\n",
            "Epoch 10/100\n",
            "375/375 [==============================] - 1s 3ms/step - loss: 2.1347 - accuracy: 0.2274 - val_loss: 2.4264 - val_accuracy: 0.1050\n",
            "Epoch 11/100\n",
            "375/375 [==============================] - 1s 3ms/step - loss: 2.0995 - accuracy: 0.2461 - val_loss: 2.4395 - val_accuracy: 0.1007\n",
            "Epoch 12/100\n",
            "375/375 [==============================] - 1s 3ms/step - loss: 2.0638 - accuracy: 0.2601 - val_loss: 2.4701 - val_accuracy: 0.1037\n",
            "Epoch 13/100\n",
            "375/375 [==============================] - 2s 5ms/step - loss: 2.0280 - accuracy: 0.2785 - val_loss: 2.5002 - val_accuracy: 0.1033\n",
            "Epoch 14/100\n",
            "375/375 [==============================] - 2s 4ms/step - loss: 1.9893 - accuracy: 0.2969 - val_loss: 2.5206 - val_accuracy: 0.0991\n",
            "Epoch 15/100\n",
            "375/375 [==============================] - 1s 3ms/step - loss: 1.9496 - accuracy: 0.3139 - val_loss: 2.5571 - val_accuracy: 0.1053\n",
            "Epoch 16/100\n",
            "375/375 [==============================] - 1s 4ms/step - loss: 1.9110 - accuracy: 0.3275 - val_loss: 2.5868 - val_accuracy: 0.1063\n",
            "Epoch 17/100\n",
            "375/375 [==============================] - 1s 4ms/step - loss: 1.8715 - accuracy: 0.3452 - val_loss: 2.6356 - val_accuracy: 0.1026\n",
            "Epoch 18/100\n",
            "375/375 [==============================] - 1s 4ms/step - loss: 1.8339 - accuracy: 0.3620 - val_loss: 2.6683 - val_accuracy: 0.1009\n",
            "Epoch 19/100\n",
            "375/375 [==============================] - 1s 4ms/step - loss: 1.7950 - accuracy: 0.3753 - val_loss: 2.7057 - val_accuracy: 0.1065\n",
            "Epoch 20/100\n",
            "375/375 [==============================] - 1s 4ms/step - loss: 1.7564 - accuracy: 0.3899 - val_loss: 2.7674 - val_accuracy: 0.1033\n",
            "Epoch 21/100\n",
            "375/375 [==============================] - 1s 3ms/step - loss: 1.7190 - accuracy: 0.4064 - val_loss: 2.7957 - val_accuracy: 0.1079\n",
            "Epoch 22/100\n",
            "375/375 [==============================] - 2s 5ms/step - loss: 1.6831 - accuracy: 0.4174 - val_loss: 2.8113 - val_accuracy: 0.1042\n",
            "Epoch 23/100\n",
            "375/375 [==============================] - 1s 4ms/step - loss: 1.6461 - accuracy: 0.4343 - val_loss: 2.8708 - val_accuracy: 0.1002\n",
            "Epoch 24/100\n",
            "375/375 [==============================] - 1s 3ms/step - loss: 1.6093 - accuracy: 0.4478 - val_loss: 2.9195 - val_accuracy: 0.1037\n",
            "Epoch 25/100\n",
            "375/375 [==============================] - 1s 3ms/step - loss: 1.5757 - accuracy: 0.4605 - val_loss: 2.9558 - val_accuracy: 0.1018\n",
            "Epoch 26/100\n",
            "375/375 [==============================] - 1s 3ms/step - loss: 1.5402 - accuracy: 0.4753 - val_loss: 3.0008 - val_accuracy: 0.1006\n",
            "Epoch 27/100\n",
            "375/375 [==============================] - 1s 3ms/step - loss: 1.5067 - accuracy: 0.4888 - val_loss: 3.0531 - val_accuracy: 0.1007\n",
            "Epoch 28/100\n",
            "375/375 [==============================] - 1s 3ms/step - loss: 1.4750 - accuracy: 0.4978 - val_loss: 3.1144 - val_accuracy: 0.1020\n",
            "Epoch 29/100\n",
            "375/375 [==============================] - 1s 4ms/step - loss: 1.4423 - accuracy: 0.5096 - val_loss: 3.1416 - val_accuracy: 0.1003\n",
            "Epoch 30/100\n",
            "375/375 [==============================] - 1s 3ms/step - loss: 1.4104 - accuracy: 0.5238 - val_loss: 3.2050 - val_accuracy: 0.1016\n",
            "Epoch 31/100\n",
            "375/375 [==============================] - 2s 4ms/step - loss: 1.3806 - accuracy: 0.5327 - val_loss: 3.2551 - val_accuracy: 0.1023\n",
            "Epoch 32/100\n",
            "375/375 [==============================] - 2s 4ms/step - loss: 1.3518 - accuracy: 0.5436 - val_loss: 3.3102 - val_accuracy: 0.1018\n",
            "Epoch 33/100\n",
            "375/375 [==============================] - 1s 4ms/step - loss: 1.3233 - accuracy: 0.5539 - val_loss: 3.3555 - val_accuracy: 0.1037\n",
            "Epoch 34/100\n",
            "375/375 [==============================] - 1s 4ms/step - loss: 1.2951 - accuracy: 0.5624 - val_loss: 3.4348 - val_accuracy: 0.1007\n",
            "Epoch 35/100\n",
            "375/375 [==============================] - 1s 3ms/step - loss: 1.2673 - accuracy: 0.5737 - val_loss: 3.4621 - val_accuracy: 0.0993\n",
            "Epoch 36/100\n",
            "375/375 [==============================] - 1s 3ms/step - loss: 1.2407 - accuracy: 0.5829 - val_loss: 3.5300 - val_accuracy: 0.0998\n",
            "Epoch 37/100\n",
            "375/375 [==============================] - 3s 7ms/step - loss: 1.2161 - accuracy: 0.5919 - val_loss: 3.6211 - val_accuracy: 0.1031\n",
            "Epoch 38/100\n",
            "375/375 [==============================] - 3s 7ms/step - loss: 1.1898 - accuracy: 0.6015 - val_loss: 3.6219 - val_accuracy: 0.0999\n",
            "Epoch 39/100\n",
            "375/375 [==============================] - 3s 9ms/step - loss: 1.1654 - accuracy: 0.6125 - val_loss: 3.7097 - val_accuracy: 0.1019\n",
            "Epoch 40/100\n",
            "375/375 [==============================] - 1s 4ms/step - loss: 1.1399 - accuracy: 0.6201 - val_loss: 3.7525 - val_accuracy: 0.1022\n",
            "Epoch 41/100\n",
            "375/375 [==============================] - 1s 3ms/step - loss: 1.1151 - accuracy: 0.6315 - val_loss: 3.8213 - val_accuracy: 0.1026\n",
            "Epoch 42/100\n",
            "375/375 [==============================] - 1s 3ms/step - loss: 1.0916 - accuracy: 0.6369 - val_loss: 3.8740 - val_accuracy: 0.1004\n",
            "Epoch 43/100\n",
            "375/375 [==============================] - 1s 3ms/step - loss: 1.0700 - accuracy: 0.6453 - val_loss: 3.9236 - val_accuracy: 0.1015\n",
            "Epoch 44/100\n",
            "375/375 [==============================] - 1s 3ms/step - loss: 1.0473 - accuracy: 0.6534 - val_loss: 4.0294 - val_accuracy: 0.1059\n",
            "Epoch 45/100\n",
            "375/375 [==============================] - 2s 4ms/step - loss: 1.0269 - accuracy: 0.6611 - val_loss: 4.1084 - val_accuracy: 0.0996\n",
            "Epoch 46/100\n",
            "375/375 [==============================] - 3s 8ms/step - loss: 1.0034 - accuracy: 0.6683 - val_loss: 4.1305 - val_accuracy: 0.1013\n",
            "Epoch 47/100\n",
            "375/375 [==============================] - 2s 6ms/step - loss: 0.9855 - accuracy: 0.6741 - val_loss: 4.2000 - val_accuracy: 0.0992\n",
            "Epoch 48/100\n",
            "375/375 [==============================] - 2s 5ms/step - loss: 0.9669 - accuracy: 0.6804 - val_loss: 4.2489 - val_accuracy: 0.1009\n",
            "Epoch 49/100\n",
            "375/375 [==============================] - 3s 7ms/step - loss: 0.9443 - accuracy: 0.6903 - val_loss: 4.3607 - val_accuracy: 0.0997\n",
            "Epoch 50/100\n",
            "375/375 [==============================] - 2s 4ms/step - loss: 0.9265 - accuracy: 0.6933 - val_loss: 4.3690 - val_accuracy: 0.1021\n",
            "Epoch 51/100\n",
            "375/375 [==============================] - 2s 5ms/step - loss: 0.9088 - accuracy: 0.7008 - val_loss: 4.4687 - val_accuracy: 0.1020\n",
            "Epoch 52/100\n",
            "375/375 [==============================] - 2s 7ms/step - loss: 0.8911 - accuracy: 0.7069 - val_loss: 4.5194 - val_accuracy: 0.1030\n",
            "Epoch 53/100\n",
            "375/375 [==============================] - 3s 7ms/step - loss: 0.8726 - accuracy: 0.7133 - val_loss: 4.5844 - val_accuracy: 0.1019\n",
            "Epoch 54/100\n",
            "375/375 [==============================] - 2s 5ms/step - loss: 0.8539 - accuracy: 0.7218 - val_loss: 4.6313 - val_accuracy: 0.1058\n",
            "Epoch 55/100\n",
            "375/375 [==============================] - 2s 4ms/step - loss: 0.8355 - accuracy: 0.7265 - val_loss: 4.7075 - val_accuracy: 0.0996\n",
            "Epoch 56/100\n",
            "375/375 [==============================] - 2s 5ms/step - loss: 0.8194 - accuracy: 0.7314 - val_loss: 4.7498 - val_accuracy: 0.1045\n",
            "Epoch 57/100\n",
            "375/375 [==============================] - 2s 5ms/step - loss: 0.8026 - accuracy: 0.7376 - val_loss: 4.8272 - val_accuracy: 0.1017\n",
            "Epoch 58/100\n",
            "375/375 [==============================] - 2s 6ms/step - loss: 0.7864 - accuracy: 0.7434 - val_loss: 4.9669 - val_accuracy: 0.1002\n",
            "Epoch 59/100\n",
            "375/375 [==============================] - 2s 6ms/step - loss: 0.7732 - accuracy: 0.7462 - val_loss: 4.9565 - val_accuracy: 0.1016\n",
            "Epoch 60/100\n",
            "375/375 [==============================] - 1s 3ms/step - loss: 0.7555 - accuracy: 0.7557 - val_loss: 5.0406 - val_accuracy: 0.1072\n",
            "Epoch 61/100\n",
            "375/375 [==============================] - 2s 5ms/step - loss: 0.7422 - accuracy: 0.7584 - val_loss: 5.1270 - val_accuracy: 0.1026\n",
            "Epoch 62/100\n",
            "375/375 [==============================] - 2s 4ms/step - loss: 0.7263 - accuracy: 0.7663 - val_loss: 5.1459 - val_accuracy: 0.1054\n",
            "Epoch 63/100\n",
            "375/375 [==============================] - 2s 5ms/step - loss: 0.7093 - accuracy: 0.7696 - val_loss: 5.2109 - val_accuracy: 0.1023\n",
            "Epoch 64/100\n",
            "375/375 [==============================] - 2s 5ms/step - loss: 0.6980 - accuracy: 0.7764 - val_loss: 5.3336 - val_accuracy: 0.1034\n",
            "Epoch 65/100\n",
            "375/375 [==============================] - 2s 6ms/step - loss: 0.6827 - accuracy: 0.7787 - val_loss: 5.3918 - val_accuracy: 0.1044\n",
            "Epoch 66/100\n",
            "375/375 [==============================] - 3s 7ms/step - loss: 0.6708 - accuracy: 0.7842 - val_loss: 5.4515 - val_accuracy: 0.1031\n",
            "Epoch 67/100\n",
            "375/375 [==============================] - 2s 5ms/step - loss: 0.6550 - accuracy: 0.7891 - val_loss: 5.5343 - val_accuracy: 0.1005\n",
            "Epoch 68/100\n",
            "375/375 [==============================] - 2s 5ms/step - loss: 0.6427 - accuracy: 0.7947 - val_loss: 5.6060 - val_accuracy: 0.1004\n",
            "Epoch 69/100\n",
            "375/375 [==============================] - 2s 4ms/step - loss: 0.6313 - accuracy: 0.7967 - val_loss: 5.6742 - val_accuracy: 0.0980\n",
            "Epoch 70/100\n",
            "375/375 [==============================] - 2s 4ms/step - loss: 0.6183 - accuracy: 0.8013 - val_loss: 5.7655 - val_accuracy: 0.1007\n",
            "Epoch 71/100\n",
            "375/375 [==============================] - 2s 4ms/step - loss: 0.6070 - accuracy: 0.8061 - val_loss: 5.8052 - val_accuracy: 0.1035\n",
            "Epoch 72/100\n",
            "375/375 [==============================] - 2s 7ms/step - loss: 0.5952 - accuracy: 0.8095 - val_loss: 5.9315 - val_accuracy: 0.1008\n",
            "Epoch 73/100\n",
            "375/375 [==============================] - 2s 6ms/step - loss: 0.5832 - accuracy: 0.8151 - val_loss: 5.9579 - val_accuracy: 0.0997\n",
            "Epoch 74/100\n",
            "375/375 [==============================] - 2s 4ms/step - loss: 0.5741 - accuracy: 0.8175 - val_loss: 6.0432 - val_accuracy: 0.1032\n",
            "Epoch 75/100\n",
            "375/375 [==============================] - 2s 5ms/step - loss: 0.5608 - accuracy: 0.8213 - val_loss: 6.1194 - val_accuracy: 0.1031\n",
            "Epoch 76/100\n",
            "375/375 [==============================] - 2s 4ms/step - loss: 0.5511 - accuracy: 0.8246 - val_loss: 6.1662 - val_accuracy: 0.1029\n",
            "Epoch 77/100\n",
            "375/375 [==============================] - 2s 4ms/step - loss: 0.5396 - accuracy: 0.8288 - val_loss: 6.2285 - val_accuracy: 0.0988\n",
            "Epoch 78/100\n",
            "375/375 [==============================] - 2s 4ms/step - loss: 0.5310 - accuracy: 0.8302 - val_loss: 6.3357 - val_accuracy: 0.1004\n",
            "Epoch 79/100\n",
            "375/375 [==============================] - 2s 6ms/step - loss: 0.5226 - accuracy: 0.8340 - val_loss: 6.4391 - val_accuracy: 0.1008\n",
            "Epoch 80/100\n",
            "375/375 [==============================] - 2s 5ms/step - loss: 0.5100 - accuracy: 0.8390 - val_loss: 6.5321 - val_accuracy: 0.1001\n",
            "Epoch 81/100\n",
            "375/375 [==============================] - 2s 4ms/step - loss: 0.5001 - accuracy: 0.8423 - val_loss: 6.5621 - val_accuracy: 0.1034\n",
            "Epoch 82/100\n",
            "375/375 [==============================] - 2s 4ms/step - loss: 0.4923 - accuracy: 0.8461 - val_loss: 6.6497 - val_accuracy: 0.0996\n",
            "Epoch 83/100\n",
            "375/375 [==============================] - 2s 5ms/step - loss: 0.4815 - accuracy: 0.8470 - val_loss: 6.7370 - val_accuracy: 0.0991\n",
            "Epoch 84/100\n",
            "375/375 [==============================] - 2s 4ms/step - loss: 0.4721 - accuracy: 0.8516 - val_loss: 6.8415 - val_accuracy: 0.0991\n",
            "Epoch 85/100\n",
            "375/375 [==============================] - 2s 5ms/step - loss: 0.4654 - accuracy: 0.8535 - val_loss: 6.9113 - val_accuracy: 0.1019\n",
            "Epoch 86/100\n",
            "375/375 [==============================] - 2s 6ms/step - loss: 0.4564 - accuracy: 0.8560 - val_loss: 6.9589 - val_accuracy: 0.1002\n",
            "Epoch 87/100\n",
            "375/375 [==============================] - 2s 5ms/step - loss: 0.4464 - accuracy: 0.8606 - val_loss: 7.0086 - val_accuracy: 0.1028\n",
            "Epoch 88/100\n",
            "375/375 [==============================] - 1s 3ms/step - loss: 0.4378 - accuracy: 0.8646 - val_loss: 7.1151 - val_accuracy: 0.1018\n",
            "Epoch 89/100\n",
            "375/375 [==============================] - 1s 3ms/step - loss: 0.4309 - accuracy: 0.8653 - val_loss: 7.2573 - val_accuracy: 0.1023\n",
            "Epoch 90/100\n",
            "375/375 [==============================] - 2s 4ms/step - loss: 0.4231 - accuracy: 0.8669 - val_loss: 7.2179 - val_accuracy: 0.1005\n",
            "Epoch 91/100\n",
            "375/375 [==============================] - 2s 4ms/step - loss: 0.4141 - accuracy: 0.8719 - val_loss: 7.3142 - val_accuracy: 0.1042\n",
            "Epoch 92/100\n",
            "375/375 [==============================] - 2s 4ms/step - loss: 0.4081 - accuracy: 0.8711 - val_loss: 7.3876 - val_accuracy: 0.1003\n",
            "Epoch 93/100\n",
            "375/375 [==============================] - 2s 4ms/step - loss: 0.4011 - accuracy: 0.8745 - val_loss: 7.4431 - val_accuracy: 0.0986\n",
            "Epoch 94/100\n",
            "375/375 [==============================] - 2s 7ms/step - loss: 0.3953 - accuracy: 0.8776 - val_loss: 7.5706 - val_accuracy: 0.1025\n",
            "Epoch 95/100\n",
            "375/375 [==============================] - 2s 6ms/step - loss: 0.3854 - accuracy: 0.8794 - val_loss: 7.6145 - val_accuracy: 0.1012\n",
            "Epoch 96/100\n",
            "375/375 [==============================] - 2s 4ms/step - loss: 0.3819 - accuracy: 0.8812 - val_loss: 7.7386 - val_accuracy: 0.1021\n",
            "Epoch 97/100\n",
            "375/375 [==============================] - 2s 5ms/step - loss: 0.3718 - accuracy: 0.8851 - val_loss: 7.7473 - val_accuracy: 0.1001\n",
            "Epoch 98/100\n",
            "375/375 [==============================] - 1s 3ms/step - loss: 0.3657 - accuracy: 0.8880 - val_loss: 7.7897 - val_accuracy: 0.1016\n",
            "Epoch 99/100\n",
            "375/375 [==============================] - 1s 3ms/step - loss: 0.3602 - accuracy: 0.8895 - val_loss: 7.8685 - val_accuracy: 0.1000\n",
            "Epoch 100/100\n",
            "375/375 [==============================] - 1s 4ms/step - loss: 0.3522 - accuracy: 0.8915 - val_loss: 7.9369 - val_accuracy: 0.0999\n"
          ]
        },
        {
          "output_type": "execute_result",
          "data": {
            "text/plain": [
              "<keras.src.callbacks.History at 0x7803e2ad2bf0>"
            ]
          },
          "metadata": {},
          "execution_count": 5
        }
      ],
      "source": [
        "# randomly shuffled data이므로 무의미한 데이터임. val_accuracy에 변화가 크게 생기지 않고 있음을 발견할 수 있음\n",
        "# 하지만 accuracy 자체는 꾸준히 증가하고 있음. 같은 데이터로 반복 훈련을 하고 있기에 training accuracy는 증가하는 것\n",
        "# 무의미한 데이터도 딥러닝은 할 수 있으나, 데이터가 바뀌면 무의미해짐. 즉, 이 경우에는 val_accuracy가 더 정확하며, training accuracy를 신뢰할 수 없음.\n",
        "(train_images, train_labels), _ = mnist.load_data()\n",
        "train_images = train_images.reshape((60000, 28 * 28))\n",
        "train_images = train_images.astype(\"float32\") / 255\n",
        "\n",
        "random_train_labels = train_labels[:]\n",
        "np.random.shuffle(random_train_labels)\n",
        "\n",
        "model = keras.Sequential([\n",
        "    layers.Dense(512, activation=\"relu\"),\n",
        "    layers.Dense(10, activation=\"softmax\")\n",
        "])\n",
        "model.compile(optimizer=\"rmsprop\",\n",
        "              loss=\"sparse_categorical_crossentropy\",\n",
        "              metrics=[\"accuracy\"])\n",
        "model.fit(train_images, random_train_labels,\n",
        "          epochs=100,\n",
        "          batch_size=128,\n",
        "          validation_split=0.2)"
      ]
    },
    {
      "cell_type": "markdown",
      "metadata": {
        "id": "4eVAtiOKOr7h"
      },
      "source": [
        "#### The manifold hypothesis"
      ]
    },
    {
      "cell_type": "markdown",
      "metadata": {
        "id": "ivV38gMDOr7h"
      },
      "source": [
        "#### Interpolation as a source of generalization"
      ]
    },
    {
      "cell_type": "markdown",
      "metadata": {
        "id": "b7cLcYjiOr7h"
      },
      "source": [
        "#### Why deep learning works"
      ]
    },
    {
      "cell_type": "markdown",
      "metadata": {
        "id": "Mt50en5SOr7h"
      },
      "source": [
        "#### Training data is paramount"
      ]
    },
    {
      "cell_type": "markdown",
      "metadata": {
        "id": "4hHzHiwfOr7h"
      },
      "source": [
        "## Evaluating machine-learning models"
      ]
    },
    {
      "cell_type": "markdown",
      "metadata": {
        "id": "MetSD-oUOr7h"
      },
      "source": [
        "### Training, validation, and test sets"
      ]
    },
    {
      "cell_type": "markdown",
      "metadata": {
        "id": "3JMfXDIsOr7h"
      },
      "source": [
        "#### Simple hold-out validation"
      ]
    },
    {
      "cell_type": "markdown",
      "metadata": {
        "id": "Rg9YOc1hOr7h"
      },
      "source": [
        "#### K-fold validation"
      ]
    },
    {
      "cell_type": "markdown",
      "metadata": {
        "id": "NZfhzP2COr7i"
      },
      "source": [
        "#### Iterated K-fold validation with shuffling"
      ]
    },
    {
      "cell_type": "markdown",
      "metadata": {
        "id": "Va6L6p9eOr7i"
      },
      "source": [
        "### Beating a common-sense baseline"
      ]
    },
    {
      "cell_type": "markdown",
      "metadata": {
        "id": "lo0CgqA9Or7i"
      },
      "source": [
        "### Things to keep in mind about model evaluation"
      ]
    },
    {
      "cell_type": "markdown",
      "metadata": {
        "id": "BJ4NqdhmOr7i"
      },
      "source": [
        "## Improving model fit"
      ]
    },
    {
      "cell_type": "markdown",
      "metadata": {
        "id": "OIAnkzNROr7i"
      },
      "source": [
        "### Tuning key gradient descent parameters"
      ]
    },
    {
      "cell_type": "markdown",
      "metadata": {
        "id": "jWalS6cMOr7i"
      },
      "source": [
        "**Training a MNIST model with an incorrectly high learning rate**"
      ]
    },
    {
      "cell_type": "code",
      "execution_count": 6,
      "metadata": {
        "colab": {
          "base_uri": "https://localhost:8080/"
        },
        "id": "LhjHv4JhOr7i",
        "outputId": "3c432909-bad8-4938-a3a2-74743a19bed3"
      },
      "outputs": [
        {
          "output_type": "stream",
          "name": "stdout",
          "text": [
            "Epoch 1/10\n",
            "375/375 [==============================] - 2s 4ms/step - loss: 673.9000 - accuracy: 0.3274 - val_loss: 4.4456 - val_accuracy: 0.2381\n",
            "Epoch 2/10\n",
            "375/375 [==============================] - 1s 3ms/step - loss: 3.1449 - accuracy: 0.2190 - val_loss: 2.2036 - val_accuracy: 0.2137\n",
            "Epoch 3/10\n",
            "375/375 [==============================] - 2s 4ms/step - loss: 2.7468 - accuracy: 0.2179 - val_loss: 2.2876 - val_accuracy: 0.1915\n",
            "Epoch 4/10\n",
            "375/375 [==============================] - 2s 4ms/step - loss: 2.4376 - accuracy: 0.2145 - val_loss: 2.1014 - val_accuracy: 0.2247\n",
            "Epoch 5/10\n",
            "375/375 [==============================] - 1s 3ms/step - loss: 2.4729 - accuracy: 0.2067 - val_loss: 2.5181 - val_accuracy: 0.2329\n",
            "Epoch 6/10\n",
            "375/375 [==============================] - 1s 4ms/step - loss: 2.7212 - accuracy: 0.2234 - val_loss: 2.2206 - val_accuracy: 0.2060\n",
            "Epoch 7/10\n",
            "375/375 [==============================] - 1s 4ms/step - loss: 2.3559 - accuracy: 0.2220 - val_loss: 2.1179 - val_accuracy: 0.2593\n",
            "Epoch 8/10\n",
            "375/375 [==============================] - 1s 4ms/step - loss: 2.5646 - accuracy: 0.2528 - val_loss: 2.0318 - val_accuracy: 0.2365\n",
            "Epoch 9/10\n",
            "375/375 [==============================] - 1s 3ms/step - loss: 2.6083 - accuracy: 0.2435 - val_loss: 2.1195 - val_accuracy: 0.2605\n",
            "Epoch 10/10\n",
            "375/375 [==============================] - 1s 3ms/step - loss: 2.6585 - accuracy: 0.2532 - val_loss: 2.0051 - val_accuracy: 0.2637\n"
          ]
        },
        {
          "output_type": "execute_result",
          "data": {
            "text/plain": [
              "<keras.src.callbacks.History at 0x780458dab760>"
            ]
          },
          "metadata": {},
          "execution_count": 6
        }
      ],
      "source": [
        "# training accuracy와 val_accuracy 모두 상승하지 않음\n",
        "(train_images, train_labels), _ = mnist.load_data()\n",
        "train_images = train_images.reshape((60000, 28 * 28))\n",
        "train_images = train_images.astype(\"float32\") / 255\n",
        "\n",
        "model = keras.Sequential([\n",
        "    layers.Dense(512, activation=\"relu\"),\n",
        "    layers.Dense(10, activation=\"softmax\")\n",
        "])\n",
        "model.compile(optimizer=keras.optimizers.RMSprop(1.),\n",
        "              loss=\"sparse_categorical_crossentropy\",\n",
        "              metrics=[\"accuracy\"])\n",
        "model.fit(train_images, train_labels,\n",
        "          epochs=10,\n",
        "          batch_size=128,\n",
        "          validation_split=0.2)"
      ]
    },
    {
      "cell_type": "markdown",
      "metadata": {
        "id": "N1pTNnWXOr7i"
      },
      "source": [
        "**The same model with a more appropriate learning rate**"
      ]
    },
    {
      "cell_type": "code",
      "execution_count": 7,
      "metadata": {
        "colab": {
          "base_uri": "https://localhost:8080/"
        },
        "id": "zZK2w8X2Or7i",
        "outputId": "ae91f107-5dae-4815-ab91-3a77f5e9517b"
      },
      "outputs": [
        {
          "output_type": "stream",
          "name": "stdout",
          "text": [
            "Epoch 1/10\n",
            "375/375 [==============================] - 2s 4ms/step - loss: 0.3454 - accuracy: 0.9126 - val_loss: 0.1406 - val_accuracy: 0.9584\n",
            "Epoch 2/10\n",
            "375/375 [==============================] - 1s 3ms/step - loss: 0.1248 - accuracy: 0.9647 - val_loss: 0.1269 - val_accuracy: 0.9662\n",
            "Epoch 3/10\n",
            "375/375 [==============================] - 1s 4ms/step - loss: 0.0969 - accuracy: 0.9739 - val_loss: 0.1861 - val_accuracy: 0.9604\n",
            "Epoch 4/10\n",
            "375/375 [==============================] - 1s 4ms/step - loss: 0.0869 - accuracy: 0.9775 - val_loss: 0.1883 - val_accuracy: 0.9644\n",
            "Epoch 5/10\n",
            "375/375 [==============================] - 2s 6ms/step - loss: 0.0716 - accuracy: 0.9821 - val_loss: 0.1731 - val_accuracy: 0.9712\n",
            "Epoch 6/10\n",
            "375/375 [==============================] - 2s 4ms/step - loss: 0.0657 - accuracy: 0.9838 - val_loss: 0.2235 - val_accuracy: 0.9647\n",
            "Epoch 7/10\n",
            "375/375 [==============================] - 1s 3ms/step - loss: 0.0579 - accuracy: 0.9869 - val_loss: 0.1951 - val_accuracy: 0.9729\n",
            "Epoch 8/10\n",
            "375/375 [==============================] - 1s 4ms/step - loss: 0.0527 - accuracy: 0.9884 - val_loss: 0.2058 - val_accuracy: 0.9713\n",
            "Epoch 9/10\n",
            "375/375 [==============================] - 1s 4ms/step - loss: 0.0442 - accuracy: 0.9902 - val_loss: 0.1994 - val_accuracy: 0.9755\n",
            "Epoch 10/10\n",
            "375/375 [==============================] - 1s 4ms/step - loss: 0.0424 - accuracy: 0.9902 - val_loss: 0.2303 - val_accuracy: 0.9722\n"
          ]
        },
        {
          "output_type": "execute_result",
          "data": {
            "text/plain": [
              "<keras.src.callbacks.History at 0x7804562e1150>"
            ]
          },
          "metadata": {},
          "execution_count": 7
        }
      ],
      "source": [
        "model = keras.Sequential([\n",
        "    layers.Dense(512, activation=\"relu\"),\n",
        "    layers.Dense(10, activation=\"softmax\")\n",
        "])\n",
        "model.compile(optimizer=keras.optimizers.RMSprop(1e-2),\n",
        "              loss=\"sparse_categorical_crossentropy\",\n",
        "              metrics=[\"accuracy\"])\n",
        "model.fit(train_images, train_labels,\n",
        "          epochs=10,\n",
        "          batch_size=128,\n",
        "          validation_split=0.2)"
      ]
    },
    {
      "cell_type": "markdown",
      "metadata": {
        "id": "mGEA8SX2Or7i"
      },
      "source": [
        "### Leveraging better architecture priors"
      ]
    },
    {
      "cell_type": "markdown",
      "metadata": {
        "id": "G5f6qzugOr7i"
      },
      "source": [
        "### Increasing model capacity"
      ]
    },
    {
      "cell_type": "markdown",
      "metadata": {
        "id": "hjk5bX-vOr7i"
      },
      "source": [
        "**A simple logistic regression on MNIST**"
      ]
    },
    {
      "cell_type": "code",
      "execution_count": 8,
      "metadata": {
        "colab": {
          "base_uri": "https://localhost:8080/"
        },
        "id": "iwo5xb0ROr7i",
        "outputId": "47af5e77-7e6e-47b5-f446-7d4c59aee610"
      },
      "outputs": [
        {
          "output_type": "stream",
          "name": "stdout",
          "text": [
            "Epoch 1/20\n",
            "375/375 [==============================] - 2s 4ms/step - loss: 0.6687 - accuracy: 0.8357 - val_loss: 0.3638 - val_accuracy: 0.9013\n",
            "Epoch 2/20\n",
            "375/375 [==============================] - 1s 3ms/step - loss: 0.3546 - accuracy: 0.9022 - val_loss: 0.3122 - val_accuracy: 0.9138\n",
            "Epoch 3/20\n",
            "375/375 [==============================] - 1s 3ms/step - loss: 0.3189 - accuracy: 0.9116 - val_loss: 0.2938 - val_accuracy: 0.9197\n",
            "Epoch 4/20\n",
            "375/375 [==============================] - 1s 3ms/step - loss: 0.3031 - accuracy: 0.9160 - val_loss: 0.2844 - val_accuracy: 0.9199\n",
            "Epoch 5/20\n",
            "375/375 [==============================] - 1s 3ms/step - loss: 0.2930 - accuracy: 0.9176 - val_loss: 0.2790 - val_accuracy: 0.9234\n",
            "Epoch 6/20\n",
            "375/375 [==============================] - 1s 3ms/step - loss: 0.2865 - accuracy: 0.9198 - val_loss: 0.2758 - val_accuracy: 0.9241\n",
            "Epoch 7/20\n",
            "375/375 [==============================] - 1s 3ms/step - loss: 0.2815 - accuracy: 0.9209 - val_loss: 0.2714 - val_accuracy: 0.9259\n",
            "Epoch 8/20\n",
            "375/375 [==============================] - 2s 4ms/step - loss: 0.2773 - accuracy: 0.9225 - val_loss: 0.2716 - val_accuracy: 0.9261\n",
            "Epoch 9/20\n",
            "375/375 [==============================] - 1s 4ms/step - loss: 0.2739 - accuracy: 0.9239 - val_loss: 0.2691 - val_accuracy: 0.9269\n",
            "Epoch 10/20\n",
            "375/375 [==============================] - 1s 3ms/step - loss: 0.2714 - accuracy: 0.9256 - val_loss: 0.2672 - val_accuracy: 0.9278\n",
            "Epoch 11/20\n",
            "375/375 [==============================] - 1s 3ms/step - loss: 0.2690 - accuracy: 0.9256 - val_loss: 0.2672 - val_accuracy: 0.9277\n",
            "Epoch 12/20\n",
            "375/375 [==============================] - 1s 3ms/step - loss: 0.2670 - accuracy: 0.9267 - val_loss: 0.2665 - val_accuracy: 0.9278\n",
            "Epoch 13/20\n",
            "375/375 [==============================] - 1s 3ms/step - loss: 0.2650 - accuracy: 0.9266 - val_loss: 0.2675 - val_accuracy: 0.9276\n",
            "Epoch 14/20\n",
            "375/375 [==============================] - 1s 3ms/step - loss: 0.2636 - accuracy: 0.9276 - val_loss: 0.2656 - val_accuracy: 0.9278\n",
            "Epoch 15/20\n",
            "375/375 [==============================] - 1s 3ms/step - loss: 0.2620 - accuracy: 0.9281 - val_loss: 0.2645 - val_accuracy: 0.9271\n",
            "Epoch 16/20\n",
            "375/375 [==============================] - 1s 3ms/step - loss: 0.2606 - accuracy: 0.9291 - val_loss: 0.2629 - val_accuracy: 0.9291\n",
            "Epoch 17/20\n",
            "375/375 [==============================] - 1s 3ms/step - loss: 0.2596 - accuracy: 0.9288 - val_loss: 0.2648 - val_accuracy: 0.9278\n",
            "Epoch 18/20\n",
            "375/375 [==============================] - 2s 4ms/step - loss: 0.2585 - accuracy: 0.9292 - val_loss: 0.2630 - val_accuracy: 0.9302\n",
            "Epoch 19/20\n",
            "375/375 [==============================] - 1s 4ms/step - loss: 0.2572 - accuracy: 0.9295 - val_loss: 0.2632 - val_accuracy: 0.9295\n",
            "Epoch 20/20\n",
            "375/375 [==============================] - 1s 3ms/step - loss: 0.2568 - accuracy: 0.9293 - val_loss: 0.2621 - val_accuracy: 0.9308\n"
          ]
        }
      ],
      "source": [
        "model = keras.Sequential([layers.Dense(10, activation=\"softmax\")])\n",
        "model.compile(optimizer=\"rmsprop\",\n",
        "              loss=\"sparse_categorical_crossentropy\",\n",
        "              metrics=[\"accuracy\"])\n",
        "history_small_model = model.fit(\n",
        "    train_images, train_labels,\n",
        "    epochs=20,\n",
        "    batch_size=128,\n",
        "    validation_split=0.2)"
      ]
    },
    {
      "cell_type": "code",
      "execution_count": 9,
      "metadata": {
        "colab": {
          "base_uri": "https://localhost:8080/",
          "height": 490
        },
        "id": "W1oA8q1dOr7i",
        "outputId": "c8dc7c8b-6550-4f9c-fe51-8a66e54ecb52"
      },
      "outputs": [
        {
          "output_type": "execute_result",
          "data": {
            "text/plain": [
              "<matplotlib.legend.Legend at 0x7804563a3850>"
            ]
          },
          "metadata": {},
          "execution_count": 9
        },
        {
          "output_type": "display_data",
          "data": {
            "text/plain": [
              "<Figure size 640x480 with 1 Axes>"
            ],
            "image/png": "[encoded data removed]"
          },
          "metadata": {}
        }
      ],
      "source": [
        "import matplotlib.pyplot as plt\n",
        "val_loss = history_small_model.history[\"val_loss\"]\n",
        "epochs = range(1, 21)\n",
        "plt.plot(epochs, val_loss, \"b--\",\n",
        "         label=\"Validation loss\")\n",
        "plt.title(\"Effect of insufficient model capacity on validation loss\")\n",
        "plt.xlabel(\"Epochs\")\n",
        "plt.ylabel(\"Loss\")\n",
        "plt.legend()"
      ]
    },
    {
      "cell_type": "code",
      "execution_count": 10,
      "metadata": {
        "colab": {
          "base_uri": "https://localhost:8080/"
        },
        "id": "K61D0YtaOr7i",
        "outputId": "17b0b7f1-206e-44f8-9ebe-f0d31319f4cc"
      },
      "outputs": [
        {
          "output_type": "stream",
          "name": "stdout",
          "text": [
            "Epoch 1/20\n",
            "375/375 [==============================] - 3s 5ms/step - loss: 0.3673 - accuracy: 0.8959 - val_loss: 0.1806 - val_accuracy: 0.9491\n",
            "Epoch 2/20\n",
            "375/375 [==============================] - 2s 5ms/step - loss: 0.1617 - accuracy: 0.9518 - val_loss: 0.1403 - val_accuracy: 0.9586\n",
            "Epoch 3/20\n",
            "375/375 [==============================] - 1s 4ms/step - loss: 0.1128 - accuracy: 0.9664 - val_loss: 0.1113 - val_accuracy: 0.9666\n",
            "Epoch 4/20\n",
            "375/375 [==============================] - 1s 4ms/step - loss: 0.0863 - accuracy: 0.9737 - val_loss: 0.0994 - val_accuracy: 0.9703\n",
            "Epoch 5/20\n",
            "375/375 [==============================] - 1s 4ms/step - loss: 0.0684 - accuracy: 0.9791 - val_loss: 0.1028 - val_accuracy: 0.9698\n",
            "Epoch 6/20\n",
            "375/375 [==============================] - 2s 5ms/step - loss: 0.0557 - accuracy: 0.9836 - val_loss: 0.0927 - val_accuracy: 0.9716\n",
            "Epoch 7/20\n",
            "375/375 [==============================] - 2s 5ms/step - loss: 0.0463 - accuracy: 0.9858 - val_loss: 0.0894 - val_accuracy: 0.9735\n",
            "Epoch 8/20\n",
            "375/375 [==============================] - 1s 4ms/step - loss: 0.0395 - accuracy: 0.9874 - val_loss: 0.0944 - val_accuracy: 0.9733\n",
            "Epoch 9/20\n",
            "375/375 [==============================] - 1s 4ms/step - loss: 0.0330 - accuracy: 0.9902 - val_loss: 0.0968 - val_accuracy: 0.9749\n",
            "Epoch 10/20\n",
            "375/375 [==============================] - 1s 4ms/step - loss: 0.0277 - accuracy: 0.9917 - val_loss: 0.0861 - val_accuracy: 0.9772\n",
            "Epoch 11/20\n",
            "375/375 [==============================] - 1s 4ms/step - loss: 0.0235 - accuracy: 0.9923 - val_loss: 0.1022 - val_accuracy: 0.9737\n",
            "Epoch 12/20\n",
            "375/375 [==============================] - 1s 3ms/step - loss: 0.0195 - accuracy: 0.9937 - val_loss: 0.1003 - val_accuracy: 0.9772\n",
            "Epoch 13/20\n",
            "375/375 [==============================] - 1s 4ms/step - loss: 0.0166 - accuracy: 0.9949 - val_loss: 0.1041 - val_accuracy: 0.9762\n",
            "Epoch 14/20\n",
            "375/375 [==============================] - 2s 4ms/step - loss: 0.0137 - accuracy: 0.9958 - val_loss: 0.1079 - val_accuracy: 0.9745\n",
            "Epoch 15/20\n",
            "375/375 [==============================] - 2s 5ms/step - loss: 0.0117 - accuracy: 0.9964 - val_loss: 0.1068 - val_accuracy: 0.9774\n",
            "Epoch 16/20\n",
            "375/375 [==============================] - 1s 4ms/step - loss: 0.0097 - accuracy: 0.9974 - val_loss: 0.1232 - val_accuracy: 0.9751\n",
            "Epoch 17/20\n",
            "375/375 [==============================] - 1s 4ms/step - loss: 0.0083 - accuracy: 0.9975 - val_loss: 0.1204 - val_accuracy: 0.9758\n",
            "Epoch 18/20\n",
            "375/375 [==============================] - 1s 4ms/step - loss: 0.0079 - accuracy: 0.9975 - val_loss: 0.1220 - val_accuracy: 0.9772\n",
            "Epoch 19/20\n",
            "375/375 [==============================] - 1s 4ms/step - loss: 0.0063 - accuracy: 0.9981 - val_loss: 0.1234 - val_accuracy: 0.9778\n",
            "Epoch 20/20\n",
            "375/375 [==============================] - 1s 4ms/step - loss: 0.0060 - accuracy: 0.9979 - val_loss: 0.1324 - val_accuracy: 0.9752\n"
          ]
        }
      ],
      "source": [
        "model = keras.Sequential([\n",
        "    layers.Dense(96, activation=\"relu\"),\n",
        "    layers.Dense(96, activation=\"relu\"),\n",
        "    layers.Dense(10, activation=\"softmax\"),\n",
        "])\n",
        "model.compile(optimizer=\"rmsprop\",\n",
        "              loss=\"sparse_categorical_crossentropy\",\n",
        "              metrics=[\"accuracy\"])\n",
        "history_large_model = model.fit(\n",
        "    train_images, train_labels,\n",
        "    epochs=20,\n",
        "    batch_size=128,\n",
        "    validation_split=0.2)"
      ]
    },
    {
      "cell_type": "code",
      "source": [
        "val_loss = history_large_model.history[\"val_loss\"]\n",
        "epochs = range(1, 21)\n",
        "plt.plot(epochs, val_loss, \"b--\",\n",
        "         label=\"Validation loss\")\n",
        "plt.title(\"validation loss of larger model\")\n",
        "plt.xlabel(\"Epochs\")\n",
        "plt.ylabel(\"Loss\")\n",
        "plt.legend()"
      ],
      "metadata": {
        "colab": {
          "base_uri": "https://localhost:8080/",
          "height": 490
        },
        "id": "6faaLaFvamMX",
        "outputId": "5d74910e-0478-4cf2-b10d-3aa17f66c4a9"
      },
      "execution_count": 20,
      "outputs": [
        {
          "output_type": "execute_result",
          "data": {
            "text/plain": [
              "<matplotlib.legend.Legend at 0x7804593732b0>"
            ]
          },
          "metadata": {},
          "execution_count": 20
        },
        {
          "output_type": "display_data",
          "data": {
            "text/plain": [
              "<Figure size 640x480 with 1 Axes>"
            ],
            "image/png": "[encoded data removed]"
          },
          "metadata": {}
        }
      ]
    },
    {
      "cell_type": "markdown",
      "metadata": {
        "id": "4aS-qaX2Or7u"
      },
      "source": [
        "## Improving generalization"
      ]
    },
    {
      "cell_type": "markdown",
      "metadata": {
        "id": "6CxcTDEvOr7u"
      },
      "source": [
        "### Dataset curation"
      ]
    },
    {
      "cell_type": "markdown",
      "metadata": {
        "id": "QsJgagekOr7u"
      },
      "source": [
        "### Feature engineering"
      ]
    },
    {
      "cell_type": "markdown",
      "metadata": {
        "id": "eU3pat4xOr7u"
      },
      "source": [
        "### Using early stopping"
      ]
    },
    {
      "cell_type": "markdown",
      "metadata": {
        "id": "TQaSls5jOr7u"
      },
      "source": [
        "### Regularizing your model"
      ]
    },
    {
      "cell_type": "markdown",
      "metadata": {
        "id": "bE_mXPKYOr7u"
      },
      "source": [
        "#### Reducing the network's size"
      ]
    },
    {
      "cell_type": "markdown",
      "metadata": {
        "id": "Y6dYsBlaOr7u"
      },
      "source": [
        "**Original model**"
      ]
    },
    {
      "cell_type": "code",
      "execution_count": 13,
      "metadata": {
        "colab": {
          "base_uri": "https://localhost:8080/"
        },
        "id": "X2hM_F7MOr7u",
        "outputId": "0a30194c-1efe-48ff-f327-02ab6552dc3d"
      },
      "outputs": [
        {
          "output_type": "stream",
          "name": "stdout",
          "text": [
            "Downloading data from https://storage.googleapis.com/tensorflow/tf-keras-datasets/imdb.npz\n",
            "17464789/17464789 [==============================] - 2s 0us/step\n",
            "Epoch 1/20\n",
            "30/30 [==============================] - 4s 72ms/step - loss: 0.5472 - accuracy: 0.7655 - val_loss: 0.4123 - val_accuracy: 0.8570\n",
            "Epoch 2/20\n",
            "30/30 [==============================] - 1s 26ms/step - loss: 0.3330 - accuracy: 0.8888 - val_loss: 0.3130 - val_accuracy: 0.8869\n",
            "Epoch 3/20\n",
            "30/30 [==============================] - 1s 25ms/step - loss: 0.2444 - accuracy: 0.9184 - val_loss: 0.3065 - val_accuracy: 0.8742\n",
            "Epoch 4/20\n",
            "30/30 [==============================] - 1s 42ms/step - loss: 0.1940 - accuracy: 0.9359 - val_loss: 0.2930 - val_accuracy: 0.8802\n",
            "Epoch 5/20\n",
            "30/30 [==============================] - 1s 33ms/step - loss: 0.1673 - accuracy: 0.9456 - val_loss: 0.2812 - val_accuracy: 0.8879\n",
            "Epoch 6/20\n",
            "30/30 [==============================] - 1s 25ms/step - loss: 0.1411 - accuracy: 0.9541 - val_loss: 0.2851 - val_accuracy: 0.8874\n",
            "Epoch 7/20\n",
            "30/30 [==============================] - 1s 25ms/step - loss: 0.1190 - accuracy: 0.9621 - val_loss: 0.2980 - val_accuracy: 0.8840\n",
            "Epoch 8/20\n",
            "30/30 [==============================] - 1s 23ms/step - loss: 0.1074 - accuracy: 0.9671 - val_loss: 0.3192 - val_accuracy: 0.8809\n",
            "Epoch 9/20\n",
            "30/30 [==============================] - 1s 23ms/step - loss: 0.0906 - accuracy: 0.9745 - val_loss: 0.3279 - val_accuracy: 0.8828\n",
            "Epoch 10/20\n",
            "30/30 [==============================] - 1s 26ms/step - loss: 0.0777 - accuracy: 0.9785 - val_loss: 0.3579 - val_accuracy: 0.8764\n",
            "Epoch 11/20\n",
            "30/30 [==============================] - 1s 24ms/step - loss: 0.0674 - accuracy: 0.9826 - val_loss: 0.3739 - val_accuracy: 0.8775\n",
            "Epoch 12/20\n",
            "30/30 [==============================] - 1s 24ms/step - loss: 0.0623 - accuracy: 0.9839 - val_loss: 0.3908 - val_accuracy: 0.8770\n",
            "Epoch 13/20\n",
            "30/30 [==============================] - 1s 27ms/step - loss: 0.0496 - accuracy: 0.9884 - val_loss: 0.4100 - val_accuracy: 0.8763\n",
            "Epoch 14/20\n",
            "30/30 [==============================] - 1s 26ms/step - loss: 0.0437 - accuracy: 0.9905 - val_loss: 0.4383 - val_accuracy: 0.8733\n",
            "Epoch 15/20\n",
            "30/30 [==============================] - 1s 26ms/step - loss: 0.0384 - accuracy: 0.9918 - val_loss: 0.4664 - val_accuracy: 0.8702\n",
            "Epoch 16/20\n",
            "30/30 [==============================] - 1s 24ms/step - loss: 0.0323 - accuracy: 0.9942 - val_loss: 0.4825 - val_accuracy: 0.8729\n",
            "Epoch 17/20\n",
            "30/30 [==============================] - 1s 25ms/step - loss: 0.0306 - accuracy: 0.9935 - val_loss: 0.5223 - val_accuracy: 0.8701\n",
            "Epoch 18/20\n",
            "30/30 [==============================] - 1s 26ms/step - loss: 0.0262 - accuracy: 0.9947 - val_loss: 0.5189 - val_accuracy: 0.8720\n",
            "Epoch 19/20\n",
            "30/30 [==============================] - 1s 27ms/step - loss: 0.0216 - accuracy: 0.9965 - val_loss: 0.5603 - val_accuracy: 0.8707\n",
            "Epoch 20/20\n",
            "30/30 [==============================] - 1s 42ms/step - loss: 0.0184 - accuracy: 0.9967 - val_loss: 0.5634 - val_accuracy: 0.8721\n"
          ]
        }
      ],
      "source": [
        "from tensorflow.keras.datasets import imdb\n",
        "(train_data, train_labels), _ = imdb.load_data(num_words=10000)\n",
        "\n",
        "def vectorize_sequences(sequences, dimension=10000):\n",
        "    results = np.zeros((len(sequences), dimension))\n",
        "    for i, sequence in enumerate(sequences):\n",
        "        results[i, sequence] = 1.\n",
        "    return results\n",
        "train_data = vectorize_sequences(train_data)\n",
        "\n",
        "model = keras.Sequential([\n",
        "    layers.Dense(16, activation=\"relu\"),\n",
        "    layers.Dense(16, activation=\"relu\"),\n",
        "    layers.Dense(1, activation=\"sigmoid\")\n",
        "])\n",
        "model.compile(optimizer=\"rmsprop\",\n",
        "              loss=\"binary_crossentropy\",\n",
        "              metrics=[\"accuracy\"])\n",
        "history_original = model.fit(train_data, train_labels,\n",
        "                             epochs=20, batch_size=512, validation_split=0.4)"
      ]
    },
    {
      "cell_type": "code",
      "source": [
        "val_loss = history_original.history[\"val_loss\"]\n",
        "epochs = range(1, 21)\n",
        "plt.plot(epochs, val_loss, \"b--\",\n",
        "         label=\"Validation loss\")\n",
        "plt.title(\"validation loss of original model\")\n",
        "plt.xlabel(\"Epochs\")\n",
        "plt.ylabel(\"Loss\")\n",
        "plt.legend()"
      ],
      "metadata": {
        "id": "xZdxCqXKdCt8",
        "outputId": "4f245cf0-8dc2-4352-c894-8eff3c45048f",
        "colab": {
          "base_uri": "https://localhost:8080/",
          "height": 490
        }
      },
      "execution_count": 22,
      "outputs": [
        {
          "output_type": "execute_result",
          "data": {
            "text/plain": [
              "<matplotlib.legend.Legend at 0x78045b987d90>"
            ]
          },
          "metadata": {},
          "execution_count": 22
        },
        {
          "output_type": "display_data",
          "data": {
            "text/plain": [
              "<Figure size 640x480 with 1 Axes>"
            ],
            "image/png": "[encoded data removed]"
          },
          "metadata": {}
        }
      ]
    },
    {
      "cell_type": "markdown",
      "metadata": {
        "id": "0She44qPOr7v"
      },
      "source": [
        "**Version of the model with lower capacity**"
      ]
    },
    {
      "cell_type": "code",
      "execution_count": 14,
      "metadata": {
        "colab": {
          "base_uri": "https://localhost:8080/"
        },
        "id": "_TfO9eGROr7v",
        "outputId": "8b64282a-c8ca-4728-808c-fe5dc5e787a6"
      },
      "outputs": [
        {
          "output_type": "stream",
          "name": "stdout",
          "text": [
            "Epoch 1/20\n",
            "30/30 [==============================] - 3s 69ms/step - loss: 0.6605 - accuracy: 0.5565 - val_loss: 0.6189 - val_accuracy: 0.6657\n",
            "Epoch 2/20\n",
            "30/30 [==============================] - 1s 27ms/step - loss: 0.5831 - accuracy: 0.7621 - val_loss: 0.5512 - val_accuracy: 0.7797\n",
            "Epoch 3/20\n",
            "30/30 [==============================] - 1s 26ms/step - loss: 0.5013 - accuracy: 0.8678 - val_loss: 0.4778 - val_accuracy: 0.8520\n",
            "Epoch 4/20\n",
            "30/30 [==============================] - 1s 24ms/step - loss: 0.4250 - accuracy: 0.8962 - val_loss: 0.4163 - val_accuracy: 0.8772\n",
            "Epoch 5/20\n",
            "30/30 [==============================] - 1s 41ms/step - loss: 0.3632 - accuracy: 0.9083 - val_loss: 0.3743 - val_accuracy: 0.8810\n",
            "Epoch 6/20\n",
            "30/30 [==============================] - 1s 32ms/step - loss: 0.3147 - accuracy: 0.9156 - val_loss: 0.3380 - val_accuracy: 0.8853\n",
            "Epoch 7/20\n",
            "30/30 [==============================] - 1s 27ms/step - loss: 0.2763 - accuracy: 0.9213 - val_loss: 0.3156 - val_accuracy: 0.8860\n",
            "Epoch 8/20\n",
            "30/30 [==============================] - 1s 26ms/step - loss: 0.2462 - accuracy: 0.9275 - val_loss: 0.2988 - val_accuracy: 0.8875\n",
            "Epoch 9/20\n",
            "30/30 [==============================] - 1s 26ms/step - loss: 0.2222 - accuracy: 0.9332 - val_loss: 0.2896 - val_accuracy: 0.8898\n",
            "Epoch 10/20\n",
            "30/30 [==============================] - 1s 26ms/step - loss: 0.2021 - accuracy: 0.9389 - val_loss: 0.2796 - val_accuracy: 0.8922\n",
            "Epoch 11/20\n",
            "30/30 [==============================] - 1s 25ms/step - loss: 0.1850 - accuracy: 0.9441 - val_loss: 0.2769 - val_accuracy: 0.8909\n",
            "Epoch 12/20\n",
            "30/30 [==============================] - 1s 26ms/step - loss: 0.1696 - accuracy: 0.9494 - val_loss: 0.2768 - val_accuracy: 0.8903\n",
            "Epoch 13/20\n",
            "30/30 [==============================] - 1s 24ms/step - loss: 0.1573 - accuracy: 0.9525 - val_loss: 0.2820 - val_accuracy: 0.8874\n",
            "Epoch 14/20\n",
            "30/30 [==============================] - 1s 23ms/step - loss: 0.1452 - accuracy: 0.9571 - val_loss: 0.2743 - val_accuracy: 0.8923\n",
            "Epoch 15/20\n",
            "30/30 [==============================] - 1s 26ms/step - loss: 0.1345 - accuracy: 0.9604 - val_loss: 0.2787 - val_accuracy: 0.8887\n",
            "Epoch 16/20\n",
            "30/30 [==============================] - 1s 24ms/step - loss: 0.1247 - accuracy: 0.9641 - val_loss: 0.2824 - val_accuracy: 0.8888\n",
            "Epoch 17/20\n",
            "30/30 [==============================] - 1s 24ms/step - loss: 0.1160 - accuracy: 0.9671 - val_loss: 0.2870 - val_accuracy: 0.8869\n",
            "Epoch 18/20\n",
            "30/30 [==============================] - 1s 25ms/step - loss: 0.1083 - accuracy: 0.9695 - val_loss: 0.2931 - val_accuracy: 0.8876\n",
            "Epoch 19/20\n",
            "30/30 [==============================] - 1s 26ms/step - loss: 0.1004 - accuracy: 0.9727 - val_loss: 0.2974 - val_accuracy: 0.8867\n",
            "Epoch 20/20\n",
            "30/30 [==============================] - 1s 29ms/step - loss: 0.0927 - accuracy: 0.9757 - val_loss: 0.3075 - val_accuracy: 0.8863\n"
          ]
        }
      ],
      "source": [
        "model = keras.Sequential([\n",
        "    layers.Dense(4, activation=\"relu\"),\n",
        "    layers.Dense(4, activation=\"relu\"),\n",
        "    layers.Dense(1, activation=\"sigmoid\")\n",
        "])\n",
        "model.compile(optimizer=\"rmsprop\",\n",
        "              loss=\"binary_crossentropy\",\n",
        "              metrics=[\"accuracy\"])\n",
        "history_smaller_model = model.fit(\n",
        "    train_data, train_labels,\n",
        "    epochs=20, batch_size=512, validation_split=0.4)"
      ]
    },
    {
      "cell_type": "code",
      "source": [
        "val_loss = history_smaller_model.history[\"val_loss\"]\n",
        "epochs = range(1, 21)\n",
        "plt.plot(epochs, val_loss, \"b--\",\n",
        "         label=\"Validation loss\")\n",
        "plt.title(\"validation loss of lower capacity model\")\n",
        "plt.xlabel(\"Epochs\")\n",
        "plt.ylabel(\"Loss\")\n",
        "plt.legend()"
      ],
      "metadata": {
        "id": "uYmEbRVvdY3r",
        "outputId": "4d54122a-424f-4ad9-993d-dec5b611f1d6",
        "colab": {
          "base_uri": "https://localhost:8080/",
          "height": 490
        }
      },
      "execution_count": 23,
      "outputs": [
        {
          "output_type": "execute_result",
          "data": {
            "text/plain": [
              "<matplotlib.legend.Legend at 0x78045a9c3040>"
            ]
          },
          "metadata": {},
          "execution_count": 23
        },
        {
          "output_type": "display_data",
          "data": {
            "text/plain": [
              "<Figure size 640x480 with 1 Axes>"
            ],
            "image/png": "[encoded data removed]"
          },
          "metadata": {}
        }
      ]
    },
    {
      "cell_type": "markdown",
      "metadata": {
        "id": "m9YDr4unOr7v"
      },
      "source": [
        "**Version of the model with higher capacity**"
      ]
    },
    {
      "cell_type": "code",
      "execution_count": 15,
      "metadata": {
        "colab": {
          "base_uri": "https://localhost:8080/"
        },
        "id": "ENZ9iWk4Or7v",
        "outputId": "a649d294-7d9a-4b9b-d639-c8cfd88e9248"
      },
      "outputs": [
        {
          "output_type": "stream",
          "name": "stdout",
          "text": [
            "Epoch 1/20\n",
            "30/30 [==============================] - 4s 78ms/step - loss: 0.5739 - accuracy: 0.7205 - val_loss: 0.3910 - val_accuracy: 0.8354\n",
            "Epoch 2/20\n",
            "30/30 [==============================] - 1s 27ms/step - loss: 0.3178 - accuracy: 0.8695 - val_loss: 0.3976 - val_accuracy: 0.8259\n",
            "Epoch 3/20\n",
            "30/30 [==============================] - 1s 29ms/step - loss: 0.2465 - accuracy: 0.9026 - val_loss: 0.2666 - val_accuracy: 0.8918\n",
            "Epoch 4/20\n",
            "30/30 [==============================] - 1s 28ms/step - loss: 0.1788 - accuracy: 0.9303 - val_loss: 0.2817 - val_accuracy: 0.8890\n",
            "Epoch 5/20\n",
            "30/30 [==============================] - 1s 28ms/step - loss: 0.1347 - accuracy: 0.9476 - val_loss: 0.3187 - val_accuracy: 0.8847\n",
            "Epoch 6/20\n",
            "30/30 [==============================] - 1s 28ms/step - loss: 0.1070 - accuracy: 0.9652 - val_loss: 0.3522 - val_accuracy: 0.8833\n",
            "Epoch 7/20\n",
            "30/30 [==============================] - 1s 28ms/step - loss: 0.0834 - accuracy: 0.9750 - val_loss: 0.3622 - val_accuracy: 0.8816\n",
            "Epoch 8/20\n",
            "30/30 [==============================] - 1s 29ms/step - loss: 0.0645 - accuracy: 0.9792 - val_loss: 0.3684 - val_accuracy: 0.8834\n",
            "Epoch 9/20\n",
            "30/30 [==============================] - 1s 28ms/step - loss: 0.0683 - accuracy: 0.9811 - val_loss: 0.3180 - val_accuracy: 0.8775\n",
            "Epoch 10/20\n",
            "30/30 [==============================] - 1s 29ms/step - loss: 0.0131 - accuracy: 0.9995 - val_loss: 0.4534 - val_accuracy: 0.8842\n",
            "Epoch 11/20\n",
            "30/30 [==============================] - 1s 28ms/step - loss: 0.0754 - accuracy: 0.9819 - val_loss: 0.3624 - val_accuracy: 0.8814\n",
            "Epoch 12/20\n",
            "30/30 [==============================] - 1s 46ms/step - loss: 0.0062 - accuracy: 0.9999 - val_loss: 0.4827 - val_accuracy: 0.8833\n",
            "Epoch 13/20\n",
            "30/30 [==============================] - 1s 36ms/step - loss: 0.0022 - accuracy: 0.9999 - val_loss: 0.5419 - val_accuracy: 0.8836\n",
            "Epoch 14/20\n",
            "30/30 [==============================] - 1s 30ms/step - loss: 0.0956 - accuracy: 0.9815 - val_loss: 0.4266 - val_accuracy: 0.8822\n",
            "Epoch 15/20\n",
            "30/30 [==============================] - 1s 29ms/step - loss: 0.0031 - accuracy: 1.0000 - val_loss: 0.5059 - val_accuracy: 0.8827\n",
            "Epoch 16/20\n",
            "30/30 [==============================] - 1s 28ms/step - loss: 0.0013 - accuracy: 1.0000 - val_loss: 0.5791 - val_accuracy: 0.8827\n",
            "Epoch 17/20\n",
            "30/30 [==============================] - 1s 29ms/step - loss: 7.0205e-04 - accuracy: 1.0000 - val_loss: 0.6260 - val_accuracy: 0.8818\n",
            "Epoch 18/20\n",
            "30/30 [==============================] - 1s 29ms/step - loss: 4.6617e-04 - accuracy: 1.0000 - val_loss: 0.6794 - val_accuracy: 0.8817\n",
            "Epoch 19/20\n",
            "30/30 [==============================] - 1s 30ms/step - loss: 3.1115e-04 - accuracy: 1.0000 - val_loss: 0.6960 - val_accuracy: 0.8839\n",
            "Epoch 20/20\n",
            "30/30 [==============================] - 1s 29ms/step - loss: 2.2774e-04 - accuracy: 1.0000 - val_loss: 0.7193 - val_accuracy: 0.8838\n"
          ]
        }
      ],
      "source": [
        "model = keras.Sequential([\n",
        "    layers.Dense(512, activation=\"relu\"),\n",
        "    layers.Dense(512, activation=\"relu\"),\n",
        "    layers.Dense(1, activation=\"sigmoid\")\n",
        "])\n",
        "model.compile(optimizer=\"rmsprop\",\n",
        "              loss=\"binary_crossentropy\",\n",
        "              metrics=[\"accuracy\"])\n",
        "history_larger_model = model.fit(\n",
        "    train_data, train_labels,\n",
        "    epochs=20, batch_size=512, validation_split=0.4)"
      ]
    },
    {
      "cell_type": "code",
      "source": [
        "val_loss = history_larger_model.history[\"val_loss\"]\n",
        "epochs = range(1, 21)\n",
        "plt.plot(epochs, val_loss, \"b--\",\n",
        "         label=\"Validation loss\")\n",
        "plt.title(\"validation loss of higher capacity model\")\n",
        "plt.xlabel(\"Epochs\")\n",
        "plt.ylabel(\"Loss\")\n",
        "plt.legend()"
      ],
      "metadata": {
        "id": "c-O_L372dlI5",
        "outputId": "8e50b769-7388-42ec-90f9-6f425c33e1be",
        "colab": {
          "base_uri": "https://localhost:8080/",
          "height": 490
        }
      },
      "execution_count": 24,
      "outputs": [
        {
          "output_type": "execute_result",
          "data": {
            "text/plain": [
              "<matplotlib.legend.Legend at 0x780459370940>"
            ]
          },
          "metadata": {},
          "execution_count": 24
        },
        {
          "output_type": "display_data",
          "data": {
            "text/plain": [
              "<Figure size 640x480 with 1 Axes>"
            ],
            "image/png": "[encoded data removed]"
          },
          "metadata": {}
        }
      ]
    },
    {
      "cell_type": "markdown",
      "metadata": {
        "id": "xtOqFy7NOr7v"
      },
      "source": [
        "#### Adding weight regularization"
      ]
    },
    {
      "cell_type": "markdown",
      "metadata": {
        "id": "VVcD2F8UOr7v"
      },
      "source": [
        "**Adding L2 weight regularization to the model**"
      ]
    },
    {
      "cell_type": "code",
      "execution_count": 16,
      "metadata": {
        "colab": {
          "base_uri": "https://localhost:8080/"
        },
        "id": "XzN67_gGOr7v",
        "outputId": "d9e5cc60-6c5f-4c67-9a1e-71a95e4756a2"
      },
      "outputs": [
        {
          "output_type": "stream",
          "name": "stdout",
          "text": [
            "Epoch 1/20\n",
            "30/30 [==============================] - 3s 68ms/step - loss: 0.6592 - accuracy: 0.7547 - val_loss: 0.5318 - val_accuracy: 0.8645\n",
            "Epoch 2/20\n",
            "30/30 [==============================] - 1s 24ms/step - loss: 0.4574 - accuracy: 0.8838 - val_loss: 0.4205 - val_accuracy: 0.8784\n",
            "Epoch 3/20\n",
            "30/30 [==============================] - 1s 26ms/step - loss: 0.3660 - accuracy: 0.9055 - val_loss: 0.3863 - val_accuracy: 0.8788\n",
            "Epoch 4/20\n",
            "30/30 [==============================] - 1s 23ms/step - loss: 0.3123 - accuracy: 0.9199 - val_loss: 0.3644 - val_accuracy: 0.8818\n",
            "Epoch 5/20\n",
            "30/30 [==============================] - 1s 26ms/step - loss: 0.2834 - accuracy: 0.9269 - val_loss: 0.3915 - val_accuracy: 0.8684\n",
            "Epoch 6/20\n",
            "30/30 [==============================] - 1s 24ms/step - loss: 0.2656 - accuracy: 0.9364 - val_loss: 0.3518 - val_accuracy: 0.8868\n",
            "Epoch 7/20\n",
            "30/30 [==============================] - 1s 26ms/step - loss: 0.2552 - accuracy: 0.9399 - val_loss: 0.3580 - val_accuracy: 0.8851\n",
            "Epoch 8/20\n",
            "30/30 [==============================] - 1s 26ms/step - loss: 0.2464 - accuracy: 0.9415 - val_loss: 0.3595 - val_accuracy: 0.8840\n",
            "Epoch 9/20\n",
            "30/30 [==============================] - 1s 26ms/step - loss: 0.2367 - accuracy: 0.9469 - val_loss: 0.3674 - val_accuracy: 0.8816\n",
            "Epoch 10/20\n",
            "30/30 [==============================] - 1s 25ms/step - loss: 0.2289 - accuracy: 0.9510 - val_loss: 0.3814 - val_accuracy: 0.8778\n",
            "Epoch 11/20\n",
            "30/30 [==============================] - 1s 40ms/step - loss: 0.2262 - accuracy: 0.9496 - val_loss: 0.3728 - val_accuracy: 0.8817\n",
            "Epoch 12/20\n",
            "30/30 [==============================] - 1s 34ms/step - loss: 0.2216 - accuracy: 0.9527 - val_loss: 0.3781 - val_accuracy: 0.8806\n",
            "Epoch 13/20\n",
            "30/30 [==============================] - 1s 24ms/step - loss: 0.2101 - accuracy: 0.9587 - val_loss: 0.3812 - val_accuracy: 0.8788\n",
            "Epoch 14/20\n",
            "30/30 [==============================] - 1s 24ms/step - loss: 0.2124 - accuracy: 0.9555 - val_loss: 0.4214 - val_accuracy: 0.8664\n",
            "Epoch 15/20\n",
            "30/30 [==============================] - 1s 26ms/step - loss: 0.2091 - accuracy: 0.9585 - val_loss: 0.4007 - val_accuracy: 0.8754\n",
            "Epoch 16/20\n",
            "30/30 [==============================] - 1s 26ms/step - loss: 0.2045 - accuracy: 0.9609 - val_loss: 0.4007 - val_accuracy: 0.8749\n",
            "Epoch 17/20\n",
            "30/30 [==============================] - 1s 24ms/step - loss: 0.2050 - accuracy: 0.9591 - val_loss: 0.3920 - val_accuracy: 0.8782\n",
            "Epoch 18/20\n",
            "30/30 [==============================] - 1s 24ms/step - loss: 0.1944 - accuracy: 0.9662 - val_loss: 0.4284 - val_accuracy: 0.8708\n",
            "Epoch 19/20\n",
            "30/30 [==============================] - 1s 26ms/step - loss: 0.2008 - accuracy: 0.9589 - val_loss: 0.4342 - val_accuracy: 0.8686\n",
            "Epoch 20/20\n",
            "30/30 [==============================] - 1s 25ms/step - loss: 0.1912 - accuracy: 0.9651 - val_loss: 0.4042 - val_accuracy: 0.8765\n"
          ]
        }
      ],
      "source": [
        "from tensorflow.keras import regularizers\n",
        "model = keras.Sequential([\n",
        "    layers.Dense(16,\n",
        "                 kernel_regularizer=regularizers.l2(0.002),\n",
        "                 activation=\"relu\"),\n",
        "    layers.Dense(16,\n",
        "                 kernel_regularizer=regularizers.l2(0.002),\n",
        "                 activation=\"relu\"),\n",
        "    layers.Dense(1, activation=\"sigmoid\")\n",
        "])\n",
        "model.compile(optimizer=\"rmsprop\",\n",
        "              loss=\"binary_crossentropy\",\n",
        "              metrics=[\"accuracy\"])\n",
        "history_l2_reg = model.fit(\n",
        "    train_data, train_labels,\n",
        "    epochs=20, batch_size=512, validation_split=0.4)"
      ]
    },
    {
      "cell_type": "markdown",
      "metadata": {
        "id": "CM3bUGNrOr7v"
      },
      "source": [
        "**Different weight regularizers available in Keras**"
      ]
    },
    {
      "cell_type": "code",
      "execution_count": 17,
      "metadata": {
        "colab": {
          "base_uri": "https://localhost:8080/"
        },
        "id": "TmYSZ9MGOr7v",
        "outputId": "944b3f38-d220-447f-91d9-6bff865a6199"
      },
      "outputs": [
        {
          "output_type": "execute_result",
          "data": {
            "text/plain": [
              "<keras.src.regularizers.L1L2 at 0x78044c180700>"
            ]
          },
          "metadata": {},
          "execution_count": 17
        }
      ],
      "source": [
        "from tensorflow.keras import regularizers\n",
        "regularizers.l1(0.001)\n",
        "regularizers.l1_l2(l1=0.001, l2=0.001)"
      ]
    },
    {
      "cell_type": "markdown",
      "metadata": {
        "id": "eSkJ0UGeOr7v"
      },
      "source": [
        "#### Adding dropout"
      ]
    },
    {
      "cell_type": "markdown",
      "metadata": {
        "id": "HtTP7WvnOr7w"
      },
      "source": [
        "**Adding dropout to the IMDB model**"
      ]
    },
    {
      "cell_type": "code",
      "execution_count": 18,
      "metadata": {
        "colab": {
          "base_uri": "https://localhost:8080/"
        },
        "id": "dWp9L-IeOr7w",
        "outputId": "357b7afe-e512-4a47-d5be-b35026b14951"
      },
      "outputs": [
        {
          "output_type": "stream",
          "name": "stdout",
          "text": [
            "Epoch 1/20\n",
            "30/30 [==============================] - 4s 67ms/step - loss: 0.6483 - accuracy: 0.6113 - val_loss: 0.5588 - val_accuracy: 0.8298\n",
            "Epoch 2/20\n",
            "30/30 [==============================] - 1s 26ms/step - loss: 0.5410 - accuracy: 0.7453 - val_loss: 0.4565 - val_accuracy: 0.8572\n",
            "Epoch 3/20\n",
            "30/30 [==============================] - 1s 24ms/step - loss: 0.4536 - accuracy: 0.8099 - val_loss: 0.3602 - val_accuracy: 0.8772\n",
            "Epoch 4/20\n",
            "30/30 [==============================] - 1s 25ms/step - loss: 0.3892 - accuracy: 0.8481 - val_loss: 0.3183 - val_accuracy: 0.8828\n",
            "Epoch 5/20\n",
            "30/30 [==============================] - 1s 24ms/step - loss: 0.3408 - accuracy: 0.8703 - val_loss: 0.2912 - val_accuracy: 0.8868\n",
            "Epoch 6/20\n",
            "30/30 [==============================] - 1s 26ms/step - loss: 0.2967 - accuracy: 0.8958 - val_loss: 0.2813 - val_accuracy: 0.8857\n",
            "Epoch 7/20\n",
            "30/30 [==============================] - 1s 26ms/step - loss: 0.2622 - accuracy: 0.9076 - val_loss: 0.2795 - val_accuracy: 0.8886\n",
            "Epoch 8/20\n",
            "30/30 [==============================] - 1s 24ms/step - loss: 0.2405 - accuracy: 0.9175 - val_loss: 0.2818 - val_accuracy: 0.8913\n",
            "Epoch 9/20\n",
            "30/30 [==============================] - 1s 31ms/step - loss: 0.2145 - accuracy: 0.9284 - val_loss: 0.2891 - val_accuracy: 0.8901\n",
            "Epoch 10/20\n",
            "30/30 [==============================] - 1s 45ms/step - loss: 0.1900 - accuracy: 0.9370 - val_loss: 0.2959 - val_accuracy: 0.8870\n",
            "Epoch 11/20\n",
            "30/30 [==============================] - 1s 29ms/step - loss: 0.1698 - accuracy: 0.9447 - val_loss: 0.3320 - val_accuracy: 0.8797\n",
            "Epoch 12/20\n",
            "30/30 [==============================] - 1s 26ms/step - loss: 0.1613 - accuracy: 0.9474 - val_loss: 0.3447 - val_accuracy: 0.8858\n",
            "Epoch 13/20\n",
            "30/30 [==============================] - 1s 24ms/step - loss: 0.1414 - accuracy: 0.9534 - val_loss: 0.3607 - val_accuracy: 0.8876\n",
            "Epoch 14/20\n",
            "30/30 [==============================] - 1s 25ms/step - loss: 0.1381 - accuracy: 0.9523 - val_loss: 0.3653 - val_accuracy: 0.8846\n",
            "Epoch 15/20\n",
            "30/30 [==============================] - 1s 26ms/step - loss: 0.1265 - accuracy: 0.9577 - val_loss: 0.4267 - val_accuracy: 0.8814\n",
            "Epoch 16/20\n",
            "30/30 [==============================] - 1s 24ms/step - loss: 0.1181 - accuracy: 0.9579 - val_loss: 0.4254 - val_accuracy: 0.8833\n",
            "Epoch 17/20\n",
            "30/30 [==============================] - 1s 25ms/step - loss: 0.1108 - accuracy: 0.9597 - val_loss: 0.4152 - val_accuracy: 0.8837\n",
            "Epoch 18/20\n",
            "30/30 [==============================] - 1s 24ms/step - loss: 0.0985 - accuracy: 0.9652 - val_loss: 0.4673 - val_accuracy: 0.8854\n",
            "Epoch 19/20\n",
            "30/30 [==============================] - 1s 26ms/step - loss: 0.0992 - accuracy: 0.9680 - val_loss: 0.4901 - val_accuracy: 0.8843\n",
            "Epoch 20/20\n",
            "30/30 [==============================] - 1s 23ms/step - loss: 0.0897 - accuracy: 0.9677 - val_loss: 0.4880 - val_accuracy: 0.8818\n"
          ]
        }
      ],
      "source": [
        "model = keras.Sequential([\n",
        "    layers.Dense(16, activation=\"relu\"),\n",
        "    layers.Dropout(0.5),\n",
        "    layers.Dense(16, activation=\"relu\"),\n",
        "    layers.Dropout(0.5),\n",
        "    layers.Dense(1, activation=\"sigmoid\")\n",
        "])\n",
        "model.compile(optimizer=\"rmsprop\",\n",
        "              loss=\"binary_crossentropy\",\n",
        "              metrics=[\"accuracy\"])\n",
        "history_dropout = model.fit(\n",
        "    train_data, train_labels,\n",
        "    epochs=20, batch_size=512, validation_split=0.4)"
      ]
    },
    {
      "cell_type": "code",
      "source": [
        "val_loss = history_dropout.history[\"val_loss\"]\n",
        "epochs = range(1, 21)\n",
        "plt.plot(epochs, val_loss, \"b--\",\n",
        "         label=\"Validation loss\")\n",
        "plt.title(\"validation loss of dropout model\")\n",
        "plt.xlabel(\"Epochs\")\n",
        "plt.ylabel(\"Loss\")\n",
        "plt.legend()"
      ],
      "metadata": {
        "id": "j2tWOApKd0tF",
        "outputId": "dcc76df8-558e-44ce-9e8e-8b87dd1ea345",
        "colab": {
          "base_uri": "https://localhost:8080/",
          "height": 490
        }
      },
      "execution_count": 25,
      "outputs": [
        {
          "output_type": "execute_result",
          "data": {
            "text/plain": [
              "<matplotlib.legend.Legend at 0x78045ad99870>"
            ]
          },
          "metadata": {},
          "execution_count": 25
        },
        {
          "output_type": "display_data",
          "data": {
            "text/plain": [
              "<Figure size 640x480 with 1 Axes>"
            ],
            "image/png": "[encoded data removed]"
          },
          "metadata": {}
        }
      ]
    },
    {
      "cell_type": "markdown",
      "metadata": {
        "id": "8aFRwVx_Or7w"
      },
      "source": [
        "## Summary"
      ]
    }
  ],
  "metadata": {
    "colab": {
      "name": "chapter05_fundamentals-of-ml.i",
      "provenance": [],
      "toc_visible": true,
      "gpuType": "T4"
    },
    "kernelspec": {
      "display_name": "Python 3",
      "name": "python3"
    },
    "language_info": {
      "codemirror_mode": {
        "name": "ipython",
        "version": 3
      },
      "file_extension": ".py",
      "mimetype": "text/x-python",
      "name": "python",
      "nbconvert_exporter": "python",
      "pygments_lexer": "ipython3",
      "version": "3.7.0"
    },
    "accelerator": "GPU"
  },
  "nbformat": 4,
  "nbformat_minor": 0
}