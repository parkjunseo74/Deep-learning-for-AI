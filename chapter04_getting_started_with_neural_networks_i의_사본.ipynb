{
  "cells": [
    {
      "cell_type": "markdown",
      "metadata": {
        "id": "view-in-github",
        "colab_type": "text"
      },
      "source": [
        "<a href=\"https://colab.research.google.com/github/parkjunseo74/Deep-learning-for-AI/blob/main/chapter04_getting_started_with_neural_networks_i%EC%9D%98_%EC%82%AC%EB%B3%B8.ipynb\" target=\"_parent\"><img src=\"https://colab.research.google.com/assets/colab-badge.svg\" alt=\"Open In Colab\"/></a>"
      ]
    },
    {
      "cell_type": "markdown",
      "metadata": {
        "id": "6l0xxK_nJ9nh"
      },
      "source": [
        "This is a companion notebook for the book [Deep Learning with Python, Second Edition](https://www.manning.com/books/deep-learning-with-python-second-edition?a_aid=keras&a_bid=76564dff). For readability, it only contains runnable code blocks and section titles, and omits everything else in the book: text paragraphs, figures, and pseudocode.\n",
        "\n",
        "**If you want to be able to follow what's going on, I recommend reading the notebook side by side with your copy of the book.**\n",
        "\n",
        "This notebook was generated for TensorFlow 2.6."
      ]
    },
    {
      "cell_type": "markdown",
      "metadata": {
        "id": "_Gkk75r6J9nj"
      },
      "source": [
        "# Getting started with neural networks: Classification and regression"
      ]
    },
    {
      "cell_type": "markdown",
      "metadata": {
        "id": "TWiiAHAPJ9nj"
      },
      "source": [
        "## Classifying movie reviews: A binary classification example"
      ]
    },
    {
      "cell_type": "markdown",
      "metadata": {
        "id": "xeNIjUbpJ9nj"
      },
      "source": [
        "### The IMDB dataset"
      ]
    },
    {
      "cell_type": "markdown",
      "metadata": {
        "id": "ytgUN7J9J9nj"
      },
      "source": [
        "**Loading the IMDB dataset**"
      ]
    },
    {
      "cell_type": "code",
      "execution_count": 13,
      "metadata": {
        "id": "iBb9Jug0J9nk"
      },
      "outputs": [],
      "source": [
        "from tensorflow.keras.datasets import imdb\n",
        "(train_data, train_labels), (test_data, test_labels) = imdb.load_data(\n",
        "    num_words=10000)"
      ]
    },
    {
      "cell_type": "code",
      "execution_count": 14,
      "metadata": {
        "id": "_jMZGHYtJ9nk",
        "colab": {
          "base_uri": "https://localhost:8080/"
        },
        "outputId": "6dadc8f4-8549-4836-d22a-4a046722062c"
      },
      "outputs": [
        {
          "output_type": "execute_result",
          "data": {
            "text/plain": [
              "[1,\n",
              " 14,\n",
              " 22,\n",
              " 16,\n",
              " 43,\n",
              " 530,\n",
              " 973,\n",
              " 1622,\n",
              " 1385,\n",
              " 65,\n",
              " 458,\n",
              " 4468,\n",
              " 66,\n",
              " 3941,\n",
              " 4,\n",
              " 173,\n",
              " 36,\n",
              " 256,\n",
              " 5,\n",
              " 25,\n",
              " 100,\n",
              " 43,\n",
              " 838,\n",
              " 112,\n",
              " 50,\n",
              " 670,\n",
              " 2,\n",
              " 9,\n",
              " 35,\n",
              " 480,\n",
              " 284,\n",
              " 5,\n",
              " 150,\n",
              " 4,\n",
              " 172,\n",
              " 112,\n",
              " 167,\n",
              " 2,\n",
              " 336,\n",
              " 385,\n",
              " 39,\n",
              " 4,\n",
              " 172,\n",
              " 4536,\n",
              " 1111,\n",
              " 17,\n",
              " 546,\n",
              " 38,\n",
              " 13,\n",
              " 447,\n",
              " 4,\n",
              " 192,\n",
              " 50,\n",
              " 16,\n",
              " 6,\n",
              " 147,\n",
              " 2025,\n",
              " 19,\n",
              " 14,\n",
              " 22,\n",
              " 4,\n",
              " 1920,\n",
              " 4613,\n",
              " 469,\n",
              " 4,\n",
              " 22,\n",
              " 71,\n",
              " 87,\n",
              " 12,\n",
              " 16,\n",
              " 43,\n",
              " 530,\n",
              " 38,\n",
              " 76,\n",
              " 15,\n",
              " 13,\n",
              " 1247,\n",
              " 4,\n",
              " 22,\n",
              " 17,\n",
              " 515,\n",
              " 17,\n",
              " 12,\n",
              " 16,\n",
              " 626,\n",
              " 18,\n",
              " 2,\n",
              " 5,\n",
              " 62,\n",
              " 386,\n",
              " 12,\n",
              " 8,\n",
              " 316,\n",
              " 8,\n",
              " 106,\n",
              " 5,\n",
              " 4,\n",
              " 2223,\n",
              " 5244,\n",
              " 16,\n",
              " 480,\n",
              " 66,\n",
              " 3785,\n",
              " 33,\n",
              " 4,\n",
              " 130,\n",
              " 12,\n",
              " 16,\n",
              " 38,\n",
              " 619,\n",
              " 5,\n",
              " 25,\n",
              " 124,\n",
              " 51,\n",
              " 36,\n",
              " 135,\n",
              " 48,\n",
              " 25,\n",
              " 1415,\n",
              " 33,\n",
              " 6,\n",
              " 22,\n",
              " 12,\n",
              " 215,\n",
              " 28,\n",
              " 77,\n",
              " 52,\n",
              " 5,\n",
              " 14,\n",
              " 407,\n",
              " 16,\n",
              " 82,\n",
              " 2,\n",
              " 8,\n",
              " 4,\n",
              " 107,\n",
              " 117,\n",
              " 5952,\n",
              " 15,\n",
              " 256,\n",
              " 4,\n",
              " 2,\n",
              " 7,\n",
              " 3766,\n",
              " 5,\n",
              " 723,\n",
              " 36,\n",
              " 71,\n",
              " 43,\n",
              " 530,\n",
              " 476,\n",
              " 26,\n",
              " 400,\n",
              " 317,\n",
              " 46,\n",
              " 7,\n",
              " 4,\n",
              " 2,\n",
              " 1029,\n",
              " 13,\n",
              " 104,\n",
              " 88,\n",
              " 4,\n",
              " 381,\n",
              " 15,\n",
              " 297,\n",
              " 98,\n",
              " 32,\n",
              " 2071,\n",
              " 56,\n",
              " 26,\n",
              " 141,\n",
              " 6,\n",
              " 194,\n",
              " 7486,\n",
              " 18,\n",
              " 4,\n",
              " 226,\n",
              " 22,\n",
              " 21,\n",
              " 134,\n",
              " 476,\n",
              " 26,\n",
              " 480,\n",
              " 5,\n",
              " 144,\n",
              " 30,\n",
              " 5535,\n",
              " 18,\n",
              " 51,\n",
              " 36,\n",
              " 28,\n",
              " 224,\n",
              " 92,\n",
              " 25,\n",
              " 104,\n",
              " 4,\n",
              " 226,\n",
              " 65,\n",
              " 16,\n",
              " 38,\n",
              " 1334,\n",
              " 88,\n",
              " 12,\n",
              " 16,\n",
              " 283,\n",
              " 5,\n",
              " 16,\n",
              " 4472,\n",
              " 113,\n",
              " 103,\n",
              " 32,\n",
              " 15,\n",
              " 16,\n",
              " 5345,\n",
              " 19,\n",
              " 178,\n",
              " 32]"
            ]
          },
          "metadata": {},
          "execution_count": 14
        }
      ],
      "source": [
        "train_data[0]"
      ]
    },
    {
      "cell_type": "code",
      "execution_count": 15,
      "metadata": {
        "id": "wynWe2I3J9nm",
        "colab": {
          "base_uri": "https://localhost:8080/"
        },
        "outputId": "2d83b36d-1cf6-437c-ba02-9a57cd562023"
      },
      "outputs": [
        {
          "output_type": "execute_result",
          "data": {
            "text/plain": [
              "1"
            ]
          },
          "metadata": {},
          "execution_count": 15
        }
      ],
      "source": [
        "train_labels[0]"
      ]
    },
    {
      "cell_type": "code",
      "execution_count": 16,
      "metadata": {
        "id": "Uu9cvGyZJ9nm",
        "colab": {
          "base_uri": "https://localhost:8080/"
        },
        "outputId": "9cd07eef-8205-4d08-9635-fc691c9a2a7e"
      },
      "outputs": [
        {
          "output_type": "execute_result",
          "data": {
            "text/plain": [
              "9999"
            ]
          },
          "metadata": {},
          "execution_count": 16
        }
      ],
      "source": [
        "max([max(sequence) for sequence in train_data])"
      ]
    },
    {
      "cell_type": "markdown",
      "metadata": {
        "id": "MXcCgQQ1J9nm"
      },
      "source": [
        "**Decoding reviews back to text**"
      ]
    },
    {
      "cell_type": "code",
      "source": [
        "dict([(value, key) for (key, value) in word_index.items()])"
      ],
      "metadata": {
        "colab": {
          "base_uri": "https://localhost:8080/"
        },
        "id": "HbHOlUkeSgA6",
        "outputId": "5b1ef1a4-5516-4b5c-905c-b7aa0f2c18db"
      },
      "execution_count": 17,
      "outputs": [
        {
          "output_type": "execute_result",
          "data": {
            "text/plain": [
              "{10996: 'mdbl',\n",
              " 16260: 'fawc',\n",
              " 12089: 'degussa',\n",
              " 8803: 'woods',\n",
              " 13796: 'hanging',\n",
              " 20672: 'localized',\n",
              " 20673: 'sation',\n",
              " 20675: 'chanthaburi',\n",
              " 10997: 'refunding',\n",
              " 8804: 'hermann',\n",
              " 20676: 'passsengers',\n",
              " 20677: 'stipulate',\n",
              " 8352: 'heublein',\n",
              " 20713: 'screaming',\n",
              " 16261: 'tcby',\n",
              " 185: 'four',\n",
              " 1642: 'grains',\n",
              " 20680: 'broiler',\n",
              " 12090: 'wooden',\n",
              " 1220: 'wednesday',\n",
              " 13797: 'highveld',\n",
              " 7593: 'duffour',\n",
              " 20681: '0053',\n",
              " 3914: 'elections',\n",
              " 2563: '270',\n",
              " 3551: '271',\n",
              " 5113: '272',\n",
              " 3552: '273',\n",
              " 3400: '274',\n",
              " 7975: 'rudman',\n",
              " 3401: '276',\n",
              " 3478: '277',\n",
              " 3632: '278',\n",
              " 4309: '279',\n",
              " 9381: 'dormancy',\n",
              " 7247: 'errors',\n",
              " 3086: 'deferred',\n",
              " 20683: 'sptnd',\n",
              " 8805: 'cooking',\n",
              " 20684: 'stratabit',\n",
              " 16262: 'designing',\n",
              " 20685: 'metalurgicos',\n",
              " 13798: 'databank',\n",
              " 20686: '300er',\n",
              " 20687: 'shocks',\n",
              " 7972: 'nawg',\n",
              " 20688: 'tnta',\n",
              " 20689: 'perforations',\n",
              " 2891: 'affiliates',\n",
              " 20690: '27p',\n",
              " 16263: 'ching',\n",
              " 595: 'china',\n",
              " 16264: 'wagyu',\n",
              " 3189: 'affiliated',\n",
              " 16265: 'chino',\n",
              " 16266: 'chinh',\n",
              " 20692: 'slickline',\n",
              " 13799: 'doldrums',\n",
              " 12092: 'kids',\n",
              " 3028: 'climbed',\n",
              " 6693: 'controversy',\n",
              " 20693: 'kidd',\n",
              " 12093: 'spotty',\n",
              " 12639: 'rebel',\n",
              " 9382: 'millimetres',\n",
              " 4007: 'golden',\n",
              " 5689: 'projection',\n",
              " 12094: 'stern',\n",
              " 7903: \"hudson's\",\n",
              " 10066: 'dna',\n",
              " 20695: 'dnc',\n",
              " 20696: 'hodler',\n",
              " 2394: 'lme',\n",
              " 20697: 'insolvancy',\n",
              " 13800: 'music',\n",
              " 1984: 'therefore',\n",
              " 10998: 'dns',\n",
              " 6959: 'distortions',\n",
              " 13801: 'thassos',\n",
              " 20698: 'populations',\n",
              " 8806: 'meteorologist',\n",
              " 43: 'loss',\n",
              " 9383: 'exco',\n",
              " 20813: 'adventist',\n",
              " 16267: 'murchison',\n",
              " 10999: 'locked',\n",
              " 13802: 'kampala',\n",
              " 20699: 'arndt',\n",
              " 1267: 'nakasone',\n",
              " 20700: 'steinweg',\n",
              " 3633: \"india's\",\n",
              " 3029: 'wang',\n",
              " 10067: 'wane',\n",
              " 13803: 'unjust',\n",
              " 13804: 'titanium',\n",
              " 850: 'want',\n",
              " 20701: 'pinto',\n",
              " 16268: \"institutes'\",\n",
              " 7973: 'absolute',\n",
              " 4677: 'travel',\n",
              " 6422: 'cutback',\n",
              " 16269: 'nazmi',\n",
              " 1858: 'modest',\n",
              " 16270: 'shopwell',\n",
              " 20702: 'sedi',\n",
              " 20703: 'adoped',\n",
              " 16271: 'tulis',\n",
              " 20704: '18th',\n",
              " 20705: \"wmc's\",\n",
              " 20706: 'menlo',\n",
              " 11000: 'reiners',\n",
              " 12095: 'farmlands',\n",
              " 20707: 'nonsensical',\n",
              " 20708: 'elisra',\n",
              " 2461: 'welcomed',\n",
              " 20709: 'peup',\n",
              " 16272: \"holiday's\",\n",
              " 20711: 'activating',\n",
              " 16273: 'avondale',\n",
              " 16274: 'interational',\n",
              " 20712: 'welcomes',\n",
              " 16275: 'fip',\n",
              " 11001: 'tailings',\n",
              " 4205: 'fit',\n",
              " 16276: 'lifeline',\n",
              " 1916: 'bringing',\n",
              " 4819: 'fix',\n",
              " 6164: '624',\n",
              " 12096: 'naturalite',\n",
              " 6165: 'wales',\n",
              " 8807: 'fin',\n",
              " 11129: 'fio',\n",
              " 20714: 'ceremenony',\n",
              " 20715: 'sovr',\n",
              " 20716: \"yeo's\",\n",
              " 1788: 'effects',\n",
              " 13805: 'sixteen',\n",
              " 8808: 'undeveloped',\n",
              " 13806: 'glutted',\n",
              " 20717: 'barton',\n",
              " 20718: 'froday',\n",
              " 10089: 'arrow',\n",
              " 11002: 'stabilises',\n",
              " 6960: 'allan',\n",
              " 20719: '374p',\n",
              " 3891: '393',\n",
              " 4008: '392',\n",
              " 4206: '391',\n",
              " 3079: '390',\n",
              " 4550: '397',\n",
              " 6166: '396',\n",
              " 6423: '395',\n",
              " 4207: '394',\n",
              " 6961: '399',\n",
              " 4208: '398',\n",
              " 7595: 'stabilised',\n",
              " 5114: 'smelters',\n",
              " 20720: 'oprah',\n",
              " 20721: 'orginially',\n",
              " 20722: \"tvx's\",\n",
              " 16278: 'ponomarev',\n",
              " 20723: 'enviroment',\n",
              " 20724: \"reeves'\",\n",
              " 8363: 'mason',\n",
              " 1670: 'encourage',\n",
              " 7596: 'adapt',\n",
              " 12776: 'abbott',\n",
              " 13808: 'stamping',\n",
              " 20726: 'colquiri',\n",
              " 11003: 'ambrit',\n",
              " 8353: 'strata',\n",
              " 4821: 'corrects',\n",
              " 11922: 'sandra',\n",
              " 859: 'estimate',\n",
              " 20727: 'universally',\n",
              " 20728: 'chlorine',\n",
              " 16279: 'competes',\n",
              " 10068: 'leiner',\n",
              " 8809: 'ministries',\n",
              " 8810: 'disturbed',\n",
              " 13809: 'competed',\n",
              " 8811: 'juergen',\n",
              " 13810: 'kfw',\n",
              " 11004: 'turben',\n",
              " 9384: 'reintroduced',\n",
              " 20729: 'maladies',\n",
              " 4101: 'chevron',\n",
              " 16280: 'lazere',\n",
              " 8812: 'antilles',\n",
              " 11907: 'dti',\n",
              " 9070: 'specially',\n",
              " 4678: 'bilzerian',\n",
              " 13811: 'bakelite',\n",
              " 20730: 'renovated',\n",
              " 568: 'service',\n",
              " 16281: 'payless',\n",
              " 20731: 'spiegler',\n",
              " 831: 'needed',\n",
              " 16282: 'wigglesworth',\n",
              " 6962: 'master',\n",
              " 13812: 'antonson',\n",
              " 20732: 'genesis',\n",
              " 13813: 'vismara',\n",
              " 20734: 'organically',\n",
              " 20735: \"accords'\",\n",
              " 5940: 'task',\n",
              " 7974: 'positively',\n",
              " 3479: 'feasibility',\n",
              " 6963: 'ahmed',\n",
              " 13814: \"suralco's\",\n",
              " 20736: 'awacs',\n",
              " 16283: 'idly',\n",
              " 20737: 'regulator',\n",
              " 12097: 'pseudorabies',\n",
              " 16284: 'staubli',\n",
              " 8813: 'nzi',\n",
              " 5115: 'feeling',\n",
              " 3127: '275',\n",
              " 20738: '6819',\n",
              " 16285: 'gorman',\n",
              " 8354: 'sustaining',\n",
              " 9385: 'spectrum',\n",
              " 20739: 'consenting',\n",
              " 12098: 'recapitalized',\n",
              " 11562: 'sailed',\n",
              " 7597: 'dozen',\n",
              " 1985: 'affairs',\n",
              " 2253: 'courier',\n",
              " 8355: 'kremlin',\n",
              " 895: 'shipments',\n",
              " 16286: \"aquino's\",\n",
              " 10070: 'committing',\n",
              " 5293: 'sugarcane',\n",
              " 9386: 'diminishing',\n",
              " 16287: 'vexing',\n",
              " 11005: 'simplify',\n",
              " 6167: 'mouth',\n",
              " 7248: 'steinhardt',\n",
              " 8814: 'conceded',\n",
              " 9387: 'bradford',\n",
              " 7976: 'singer',\n",
              " 20740: '5602',\n",
              " 13816: \"1987's\",\n",
              " 4950: 'tech',\n",
              " 6424: 'teck',\n",
              " 20741: 'majv',\n",
              " 666: 'saying',\n",
              " 16477: 'dickey',\n",
              " 20742: 'sweetner',\n",
              " 21149: 'teresa',\n",
              " 20743: 'ulcer',\n",
              " 13817: 'cheaply',\n",
              " 2361: 'thai',\n",
              " 6964: 'orleans',\n",
              " 16290: 'excavator',\n",
              " 6168: 'rico',\n",
              " 12099: 'lube',\n",
              " 13818: 'rick',\n",
              " 4679: 'rich',\n",
              " 13819: 'kerna',\n",
              " 950: 'rice',\n",
              " 4209: 'rica',\n",
              " 5503: 'plate',\n",
              " 16291: 'platt',\n",
              " 8356: 'altogether',\n",
              " 8815: 'jaguar',\n",
              " 20744: 'dynair',\n",
              " 8816: 'patch',\n",
              " 2892: 'ldp',\n",
              " 13820: 'boarded',\n",
              " 16292: 'precluding',\n",
              " 11006: 'clarified',\n",
              " 16293: 'sensitivity',\n",
              " 1511: 'alternative',\n",
              " 11007: 'clarifies',\n",
              " 5116: 'lots',\n",
              " 7598: 'irs',\n",
              " 20745: 'irv',\n",
              " 13821: 'iri',\n",
              " 13822: 'ira',\n",
              " 5690: 'timber',\n",
              " 20746: 'ire',\n",
              " 5219: 'discipline',\n",
              " 1937: 'extend',\n",
              " 3634: 'nature',\n",
              " 16295: \"amb's\",\n",
              " 16296: 'dunhill',\n",
              " 2142: 'extent',\n",
              " 20747: 'restrcitions',\n",
              " 2396: 'heating',\n",
              " 11008: \"mannesmann's\",\n",
              " 20748: 'outsanding',\n",
              " 20749: 'multimillions',\n",
              " 13824: 'sarcinelli',\n",
              " 6694: 'southeastern',\n",
              " 10071: 'eradicate',\n",
              " 9388: 'libyan',\n",
              " 20750: 'foreclosing',\n",
              " 12101: 'maclaine',\n",
              " 20751: 'fra',\n",
              " 353: 'union',\n",
              " 11009: 'frn',\n",
              " 386: 'much',\n",
              " 12102: 'fry',\n",
              " 20752: 'mothball',\n",
              " 10072: 'chlorazepate',\n",
              " 12103: 'dxns',\n",
              " 19981: 'toyko',\n",
              " 20753: 'spit',\n",
              " 16297: '007050',\n",
              " 16298: 'freehold',\n",
              " 13825: 'davy',\n",
              " 11010: 'dave',\n",
              " 12177: 'spie',\n",
              " 10117: 'aguayo',\n",
              " 12104: 'wildcat',\n",
              " 10069: 'fecs',\n",
              " 20754: 'kennan',\n",
              " 16299: 'intal',\n",
              " 9389: 'contingencies',\n",
              " 16551: 'professionally',\n",
              " 16300: 'microbiological',\n",
              " 20756: 'misconstrued',\n",
              " 409: 'k',\n",
              " 20757: 'securitiesd',\n",
              " 16301: 'deferring',\n",
              " 5941: 'kohl',\n",
              " 3030: 'conditioned',\n",
              " 20758: 'fnhb',\n",
              " 16302: \"october's\",\n",
              " 13954: 'memorial',\n",
              " 6965: 'democracies',\n",
              " 27520: 'conformed',\n",
              " 464: 'split',\n",
              " 12105: \"bond's\",\n",
              " 11112: 'thinly',\n",
              " 16515: 'dunkirk',\n",
              " 16303: 'cavanaugh',\n",
              " 13827: \"securities'\",\n",
              " 21345: 'marches',\n",
              " 16304: 'issam',\n",
              " 2020: 'workforce',\n",
              " 12106: 'meinert',\n",
              " 13828: 'boiler',\n",
              " 5294: \"bp's\",\n",
              " 16305: 'torpedoed',\n",
              " 20762: 'indidate',\n",
              " 13829: 'downwardly',\n",
              " 20763: 'viviez',\n",
              " 20764: 'vladiminovich',\n",
              " 16306: 'academic',\n",
              " 20765: 'architecural',\n",
              " 1117: 'corporate',\n",
              " 16307: 'appropriately',\n",
              " 20766: 'teicc',\n",
              " 20767: \"hanover's\",\n",
              " 8817: 'aristech',\n",
              " 20768: 'portrayed',\n",
              " 21383: 'raffineries',\n",
              " 20770: 'hai',\n",
              " 7599: 'hal',\n",
              " 13830: 'ham',\n",
              " 10073: 'han',\n",
              " 20771: 'e15b',\n",
              " 61: 'had',\n",
              " 20772: 'hay',\n",
              " 13831: 'botchwey',\n",
              " 10074: 'haq',\n",
              " 37: 'has',\n",
              " 13832: 'hat',\n",
              " 20773: 'hav',\n",
              " 20774: 'fortin',\n",
              " 8818: 'municipal',\n",
              " 20775: 'osman',\n",
              " 20776: 'fsical',\n",
              " 3480: 'elders',\n",
              " 12107: 'survival',\n",
              " 16308: 'unequivocally',\n",
              " 2519: 'objective',\n",
              " 6695: 'indicative',\n",
              " 10075: 'shadow',\n",
              " 21411: 'riskiness',\n",
              " 20778: 'positiive',\n",
              " 10076: \"american's\",\n",
              " 16309: 'alick',\n",
              " 16310: 'harima',\n",
              " 12108: 'alice',\n",
              " 20779: 'altschul',\n",
              " 16311: 'festivities',\n",
              " 20780: 'medecines',\n",
              " 2942: 'beneficial',\n",
              " 12109: 'yoweri',\n",
              " 13833: 'crowd',\n",
              " 9390: 'crowe',\n",
              " 3553: 'crown',\n",
              " 13679: 'topping',\n",
              " 8819: 'captive',\n",
              " 12110: 'billboard',\n",
              " 6169: 'fiduciary',\n",
              " 3402: 'bottom',\n",
              " 20782: 'plucked',\n",
              " 20783: 'locksmithing',\n",
              " 9391: 'ecopetrol',\n",
              " 24018: 'pipestone',\n",
              " 5505: \"growers'\",\n",
              " 20785: 'borrows',\n",
              " 16312: 'eduard',\n",
              " 13834: 'venpres',\n",
              " 16313: 'bamboo',\n",
              " 13835: 'foolish',\n",
              " 20786: 'uruguyan',\n",
              " 20787: 'officeholders',\n",
              " 20788: 'economiques',\n",
              " 16314: 'aden',\n",
              " 4822: 'maxwell',\n",
              " 4680: 'marshall',\n",
              " 16315: 'honeymoon',\n",
              " 16316: 'administer',\n",
              " 20790: 'shoots',\n",
              " 16317: 'rubbertech',\n",
              " 16318: 'johsen',\n",
              " 10077: 'reciprocity',\n",
              " 13836: 'fabric',\n",
              " 20791: 'suffice',\n",
              " 20792: 'spokemsan',\n",
              " 20793: \"sonora's\",\n",
              " 16319: '5865',\n",
              " 16320: \"systems'\",\n",
              " 20794: 'perfumes',\n",
              " 20795: 'halycon',\n",
              " 20796: 'nonvoting',\n",
              " 7250: 'safeguard',\n",
              " 21538: 'sawdust',\n",
              " 20797: \"else's\",\n",
              " 13837: 'arrays',\n",
              " 20798: 'aza',\n",
              " 20799: 'smasher',\n",
              " 12111: 'complications',\n",
              " 1813: 'pesos',\n",
              " 20800: 'relabelling',\n",
              " 3722: 'passenger',\n",
              " 12112: \"avon's\",\n",
              " 20801: 'megahertz',\n",
              " 10683: 'mirror',\n",
              " 8357: 'minas',\n",
              " 16322: 'bourdain',\n",
              " 20802: 'crownx',\n",
              " 6425: 'eventual',\n",
              " 1207: 'crowns',\n",
              " 1369: 'role',\n",
              " 20803: 'obliges',\n",
              " 16323: 'rolf',\n",
              " 13838: 'vegetative',\n",
              " 20804: 'rolm',\n",
              " 4419: 'roll',\n",
              " 2463: 'intend',\n",
              " 16324: 'palms',\n",
              " 19255: 'denys',\n",
              " 13839: 'transported',\n",
              " 20805: 'moresby',\n",
              " 16325: 'devon',\n",
              " 1351: 'intent',\n",
              " 20806: \"camco's\",\n",
              " 5942: 'variable',\n",
              " 20807: 'transporter',\n",
              " 16326: 'danske',\n",
              " 13840: 'friedhelm',\n",
              " 8358: 'hawker',\n",
              " 17774: \"sand's\",\n",
              " 20808: 'preseving',\n",
              " 12113: '80386',\n",
              " 16328: 'bnls',\n",
              " 19984: 'ordination',\n",
              " 11011: 'overturned',\n",
              " 16329: 'erred',\n",
              " 6696: 'cincinnati',\n",
              " 16710: 'corps',\n",
              " 20809: 'whoever',\n",
              " 16330: 'osp',\n",
              " 13841: 'osr',\n",
              " 12114: 'ost',\n",
              " 16331: 'chair',\n",
              " 5647: '690',\n",
              " 20810: 'grapples',\n",
              " 13842: 'megawatts',\n",
              " 20811: 'photocopiers',\n",
              " 20812: 'sconninx',\n",
              " 2274: 'circumstances',\n",
              " 13843: 'oversight',\n",
              " 20814: \"paradyne's\",\n",
              " 6363: '691',\n",
              " 20815: 'paychecks',\n",
              " 13844: \"stadelmann's\",\n",
              " 3241: 'choice',\n",
              " 11012: 'vastagh',\n",
              " 8820: 'embark',\n",
              " 9392: 'gloomy',\n",
              " 9393: 'stays',\n",
              " 4009: 'exact',\n",
              " 5117: 'minute',\n",
              " 11892: 'kittiwake',\n",
              " 20816: 'picul',\n",
              " 20817: 'skewed',\n",
              " 11013: 'cooke',\n",
              " 10078: 'defaults',\n",
              " 11014: 'reimpose',\n",
              " 9394: 'hindered',\n",
              " 20818: 'lengthened',\n",
              " 16333: 'chopping',\n",
              " 13845: 'mckiernan',\n",
              " 20819: 'collaspe',\n",
              " 7251: 'corazon',\n",
              " 7600: 'antwerp',\n",
              " 13846: 'abdullah',\n",
              " 13847: 'goldston',\n",
              " 442: '300',\n",
              " 20821: 'cassa',\n",
              " 20822: 'casse',\n",
              " 4081: '695',\n",
              " 2979: 'ground',\n",
              " 839: 'boost',\n",
              " 16334: 'azusa',\n",
              " 9395: 'drafted',\n",
              " 4823: '303',\n",
              " 13848: 'climbs',\n",
              " 7601: 'honour',\n",
              " 20823: 'vanderbilt',\n",
              " 3968: '305',\n",
              " 3031: 'address',\n",
              " 8821: 'dwindling',\n",
              " 7252: 'benson',\n",
              " 12115: 'enroll',\n",
              " 501: 'revenues',\n",
              " 12116: 'impacted',\n",
              " 20826: 'queue',\n",
              " 10079: 'accomplished',\n",
              " 7602: 'throughput',\n",
              " 9396: 'influx',\n",
              " 10080: 'stockbuilding',\n",
              " 20827: 'aproximates',\n",
              " 13849: 'petroleo',\n",
              " 16335: 'sistemas',\n",
              " 14053: 'feretti',\n",
              " 5943: 'opposes',\n",
              " 882: 'working',\n",
              " 20829: 'perished',\n",
              " 13850: 'oldham',\n",
              " 20830: '27000',\n",
              " 19245: 'optimize',\n",
              " 20832: 'vigour',\n",
              " 1580: 'opposed',\n",
              " 16336: 'liberalizing',\n",
              " 20833: 'wvz',\n",
              " 20834: 'dampness',\n",
              " 13851: 'approving',\n",
              " 13496: 'sierra',\n",
              " 20835: 'entrepot',\n",
              " 224: 'currency',\n",
              " 1499: 'originally',\n",
              " 20837: 'tindemans',\n",
              " 16337: 'valorem',\n",
              " 477: 'following',\n",
              " 20838: 'fossen',\n",
              " 11016: 'locke',\n",
              " 20839: 'employess',\n",
              " 12117: 'rotberg',\n",
              " 16338: 'parachute',\n",
              " 11017: 'locks',\n",
              " 12255: 'incremental',\n",
              " 16339: 'woolowrth',\n",
              " 20841: 'listens',\n",
              " 7253: 'litre',\n",
              " 3554: 'edouard',\n",
              " 1377: 'ounce',\n",
              " 20843: 'nicanor',\n",
              " 20844: 'sucocitrico',\n",
              " 16340: 'minicomputers',\n",
              " 16341: \"silva's\",\n",
              " 11018: 'restitutions',\n",
              " 16342: 'custer',\n",
              " 2590: '3rd',\n",
              " 10081: 'fueled',\n",
              " 20845: 'trydahl',\n",
              " 11019: 'aice',\n",
              " 12118: 'harmon',\n",
              " 10082: 'conscious',\n",
              " 20846: 'herbicidesand',\n",
              " 20847: 'subdivisions',\n",
              " 20848: \"veslefrikk's\",\n",
              " 11020: 'swollen',\n",
              " 7978: 'pulled',\n",
              " 20849: 'tilney',\n",
              " 203: 'years',\n",
              " 20850: 'structuring',\n",
              " 20851: 'episodes',\n",
              " 16343: 'sportscene',\n",
              " 16344: \"northair's\",\n",
              " 20852: 'jig',\n",
              " 20853: 'jin',\n",
              " 3403: 'jim',\n",
              " 8359: 'troubles',\n",
              " 13852: 'workforces',\n",
              " 2362: 'suspension',\n",
              " 3892: 'troubled',\n",
              " 16345: 'fondiaria',\n",
              " 6697: 'modestly',\n",
              " 12119: 'recipients',\n",
              " 7979: 'civilian',\n",
              " 13853: 'indigenous',\n",
              " 20854: 'overpowering',\n",
              " 1051: 'drilling',\n",
              " 16346: 'sorted',\n",
              " 16347: 'lichtenstein',\n",
              " 20855: 'bedevil',\n",
              " 20856: 'dispite',\n",
              " 16843: 'battleships',\n",
              " 4824: 'instability',\n",
              " 95: 'quarter',\n",
              " 20857: 'salado',\n",
              " 5692: 'honduras',\n",
              " 13855: \"chevron's\",\n",
              " 12273: \"lazere's\",\n",
              " 2660: 'receipt',\n",
              " 8360: 'sponsor',\n",
              " 4825: 'entering',\n",
              " 16349: \"kcbt's\",\n",
              " 19987: 'nowicki',\n",
              " 13856: 'salads',\n",
              " 16351: 'augar',\n",
              " 7980: '797',\n",
              " 7254: '796',\n",
              " 8361: '795',\n",
              " 5295: '794',\n",
              " 5118: '793',\n",
              " 6170: '792',\n",
              " 5296: '791',\n",
              " 4826: '790',\n",
              " 20858: \"nikko's\",\n",
              " 20859: 'unsaleable',\n",
              " 5720: '799',\n",
              " 5693: '798',\n",
              " 2143: 'seriously',\n",
              " 16352: 'trauma',\n",
              " 20860: 'tvbh',\n",
              " 20861: 'macedon',\n",
              " 21906: 'disintegrated',\n",
              " 21909: 'adddition',\n",
              " 2244: 'incentives',\n",
              " 5944: 'complicated',\n",
              " 20864: 'reevaluating',\n",
              " 21921: 'thatching',\n",
              " 7981: 'brasil',\n",
              " 20865: '79p',\n",
              " 4951: 'wrong',\n",
              " 8822: 'initiate',\n",
              " 16353: 'aboard',\n",
              " 7255: 'saving',\n",
              " 8823: 'spoken',\n",
              " 16364: 'parkinson',\n",
              " 65: 'one',\n",
              " 20867: 'ont',\n",
              " 7256: 'concert',\n",
              " 16354: \"boston's\",\n",
              " 13859: 'stifled',\n",
              " 4622: 'types',\n",
              " 20868: 'lingering',\n",
              " 16356: 'surges',\n",
              " 20869: 'hurdman',\n",
              " 16357: 'herds',\n",
              " 14114: 'absorbs',\n",
              " 4681: 'surged',\n",
              " 14211: 'dalkon',\n",
              " 13860: 'crossroads',\n",
              " 20870: 'shakeup',\n",
              " 20871: 'disasterous',\n",
              " 11021: 'illness',\n",
              " 3242: 'turned',\n",
              " 3801: 'locations',\n",
              " 12120: 'tyranite',\n",
              " 13861: 'minesweepers',\n",
              " 7257: 'turner',\n",
              " 20872: 'borough',\n",
              " 12358: 'underlines',\n",
              " 20873: \"bancorporation's\",\n",
              " 20874: 'fashionable',\n",
              " 20875: \"ae's\",\n",
              " 16358: 'dilutions',\n",
              " 9472: 'goodman',\n",
              " 10510: 'unlawfully',\n",
              " 16359: 'mayer',\n",
              " 16360: 'printer',\n",
              " 20877: 'offload',\n",
              " 13862: 'opposite',\n",
              " 738: 'buffer',\n",
              " 9398: 'printed',\n",
              " 16361: 'pequiven',\n",
              " 13863: 'panoche',\n",
              " 20878: 'knowingly',\n",
              " 16362: 'ecusta',\n",
              " 20879: 'thsl',\n",
              " 8825: 'phil',\n",
              " 13864: 'jitters',\n",
              " 16363: 'touche',\n",
              " 20881: 'jittery',\n",
              " 3291: 'friction',\n",
              " 16365: 'fecal',\n",
              " 22068: 'resurgance',\n",
              " 20882: 'heeding',\n",
              " 2363: 'soviets',\n",
              " 16366: 'imagined',\n",
              " 16367: 'transact',\n",
              " 20883: 'califoirnia',\n",
              " 9399: \"chrysler's\",\n",
              " 16368: 'respecitvely',\n",
              " 16369: 'presse',\n",
              " 10084: 'euromarket',\n",
              " 12121: 'guarded',\n",
              " 16371: 'satisfacotry',\n",
              " 20884: 'authroization',\n",
              " 20885: 'simplistic',\n",
              " 20886: 'monde',\n",
              " 4102: 'awaiting',\n",
              " 13865: 'recombinant',\n",
              " 20887: 'refinancement',\n",
              " 20888: 'comserv',\n",
              " 20889: 'kitakyushu',\n",
              " 16372: 'pima',\n",
              " 11022: 'basle',\n",
              " 20891: '6250',\n",
              " 16373: 'choudhury',\n",
              " 8826: 'vision',\n",
              " 20892: 'interruptible',\n",
              " 13866: 'weatherford',\n",
              " 7982: '832',\n",
              " 5694: '833',\n",
              " 4420: '830',\n",
              " 5119: '831',\n",
              " 5297: '836',\n",
              " 4553: '837',\n",
              " 6172: '834',\n",
              " 4952: '835',\n",
              " 22144: 'alarming',\n",
              " 5695: '838',\n",
              " 6173: '839',\n",
              " 20893: '524p',\n",
              " 20894: 'sponsorship',\n",
              " 12122: 'vendex',\n",
              " 20895: \"amsouth's\",\n",
              " 20896: 'kilometer',\n",
              " 10086: 'enjoys',\n",
              " 20897: 'illiberal',\n",
              " 6174: 'punta',\n",
              " 20898: 'punte',\n",
              " 10087: 'girozentrale',\n",
              " 20899: 'missstatements',\n",
              " 10088: 'marietta',\n",
              " 6175: 'awards',\n",
              " 3635: 'concentrated',\n",
              " 20900: '83p',\n",
              " 13867: 'developpement',\n",
              " 13868: 'rhodes',\n",
              " 5696: 'matheson',\n",
              " 20901: '1720',\n",
              " 20902: 'paring',\n",
              " 35: 's',\n",
              " 4953: 'concentrates',\n",
              " 16374: \"can's\",\n",
              " 22183: 'polysaturated',\n",
              " 20903: 'parini',\n",
              " 13869: 'baden',\n",
              " 20904: 'bader',\n",
              " 12123: 'buoyancy',\n",
              " 20905: 'erdem',\n",
              " 16375: 'properites',\n",
              " 20906: 'comparitive',\n",
              " 12124: 'practises',\n",
              " 20907: 'collides',\n",
              " 189: 'west',\n",
              " 20908: 'wess',\n",
              " 13870: 'collided',\n",
              " 20909: 'practised',\n",
              " 20910: \"amalgamated's\",\n",
              " 20911: 'motives',\n",
              " 1378: 'wants',\n",
              " 1273: 'formed',\n",
              " 20912: 'readings',\n",
              " 12125: 'geothermal',\n",
              " 7315: 'tightened',\n",
              " 11023: \"d'or\",\n",
              " 1109: 'former',\n",
              " 20913: 'venezulean',\n",
              " 19935: 'curd',\n",
              " 12126: 'squeezes',\n",
              " 1019: 'newspaper',\n",
              " 817: 'situation',\n",
              " 13871: 'ivey',\n",
              " 3636: 'engaged',\n",
              " 13872: 'dubious',\n",
              " 17061: 'cayacq',\n",
              " 20916: 'cobol',\n",
              " 20917: 'limping',\n",
              " 883: 'technology',\n",
              " 20919: 'koerner',\n",
              " 16376: 'debilitating',\n",
              " 7983: 'verified',\n",
              " 4010: 'otto',\n",
              " 20920: '7770',\n",
              " 16377: 'emulsions',\n",
              " 16378: \"onic's\",\n",
              " 9075: 'slate',\n",
              " 20921: 'wires',\n",
              " 5506: 'edged',\n",
              " 20922: 'assigns',\n",
              " 1341: 'singapore',\n",
              " 20923: 'deflate',\n",
              " 20924: \"strategy's\",\n",
              " 16379: 'walesa',\n",
              " 4554: 'advertisement',\n",
              " 20925: 'luyten',\n",
              " 20926: 'shrortly',\n",
              " 20927: 'corpoartion',\n",
              " 22290: 'preferance',\n",
              " 16380: 'tracking',\n",
              " 13874: 'sunnyvale',\n",
              " 20928: 'colorants',\n",
              " 16381: 'persistently',\n",
              " 16382: \"officers'\",\n",
              " 20929: \"his's\",\n",
              " 367: 'being',\n",
              " 7259: 'divestitures',\n",
              " 20930: 'steamer',\n",
              " 20931: 'rover',\n",
              " 8362: 'grounded',\n",
              " 16383: \"businessmen's\",\n",
              " 16384: 'cyanidation',\n",
              " 20932: 'overthrow',\n",
              " 20933: 'partnerhip',\n",
              " 16385: 'sumt',\n",
              " 8827: 'sums',\n",
              " 16386: 'oelmuehle',\n",
              " 16387: 'unveil',\n",
              " 13875: 'gestures',\n",
              " 20934: 'penta',\n",
              " 2544: 'traffic',\n",
              " 2428: 'preference',\n",
              " 20935: 'sumi',\n",
              " 166: 'world',\n",
              " 9400: 'postal',\n",
              " 16388: 'bced',\n",
              " 12128: 'dornbush',\n",
              " 14215: 'confine',\n",
              " 20936: '2555',\n",
              " 5945: \"zambia's\",\n",
              " 20937: 'superiority',\n",
              " 20938: 'militate',\n",
              " 2395: 'satisfactory',\n",
              " 20939: 'superintendent',\n",
              " 5946: 'tvx',\n",
              " 16389: 'tvt',\n",
              " 6698: 'magma',\n",
              " 20940: 'diving',\n",
              " 15548: 'tvb',\n",
              " 13876: 'seaman',\n",
              " 11025: 'matsunaga',\n",
              " 4827: '919',\n",
              " 5298: '918',\n",
              " 17070: 'refundable',\n",
              " 5947: '914',\n",
              " 7260: '917',\n",
              " 6699: '916',\n",
              " 5507: '911',\n",
              " 4828: '910',\n",
              " 10213: 'restoring',\n",
              " 4555: '912',\n",
              " 20942: 'squabble',\n",
              " 7261: 'retains',\n",
              " 20943: \"partner's\",\n",
              " 5300: 'leadership',\n",
              " 11026: 'graaf',\n",
              " 20944: 'spacelab',\n",
              " 1800: 'thailand',\n",
              " 9402: 'graan',\n",
              " 20945: 'exasperating',\n",
              " 12129: 'hartmarx',\n",
              " 16390: 'frights',\n",
              " 20946: 'niall',\n",
              " 11027: 'johnston',\n",
              " 16391: '91p',\n",
              " 16392: 'sensitively',\n",
              " 6016: 'porsche',\n",
              " 15494: 'prepares',\n",
              " 12130: 'lively',\n",
              " 10686: 'stoppages',\n",
              " 16394: \"associated's\",\n",
              " 12131: 'pivot',\n",
              " 1037: 'series',\n",
              " 24050: 'sese',\n",
              " 7604: 'bubble',\n",
              " 16395: 'trusses',\n",
              " 20949: 'interestate',\n",
              " 20950: 'continents',\n",
              " 20951: 'societal',\n",
              " 28: 'with',\n",
              " 6176: 'pull',\n",
              " 6700: 'rush',\n",
              " 6222: 'monopoly',\n",
              " 20953: 'operationally',\n",
              " 20954: 'dirty',\n",
              " 10090: 'abuses',\n",
              " 7262: 'prudhoe',\n",
              " 5949: 'pulp',\n",
              " 16396: 'rust',\n",
              " 20955: 'hellman',\n",
              " 20956: 'amdec',\n",
              " 16397: 'australasian',\n",
              " 13878: 'watches',\n",
              " 20957: 'hypertension',\n",
              " 20958: \"hemdale's\",\n",
              " 16398: 'formulation',\n",
              " 7605: 'watched',\n",
              " 20959: 'jargon',\n",
              " 13879: 'cream',\n",
              " 9404: 'ideally',\n",
              " 11028: 'ryavec',\n",
              " 20960: 'microoganisms',\n",
              " 13880: 'indemnify',\n",
              " 20961: 'wincenty',\n",
              " 20962: 'waving',\n",
              " 20963: \"multifood's\",\n",
              " 20964: 'midges',\n",
              " 11029: 'natalie',\n",
              " 13881: 'crosbie',\n",
              " 20965: 'posible',\n",
              " 13882: 'omnibus',\n",
              " 20966: 'assetsof',\n",
              " 13883: 'tricks',\n",
              " 16399: 'rs',\n",
              " 20967: 'kilogram',\n",
              " 25363: 'pruning',\n",
              " 13884: 'dyer',\n",
              " 20968: 'dyes',\n",
              " 20969: 'legislatures',\n",
              " 16400: 'scm',\n",
              " 9405: 'sci',\n",
              " 20970: 'riedel',\n",
              " 16401: 'ceramic',\n",
              " 6701: 'unitholders',\n",
              " 13885: 'scb',\n",
              " 20971: 'dn11',\n",
              " 20972: 'conditionality',\n",
              " 13807: \"stock's\",\n",
              " 20973: 'masland',\n",
              " 7606: 'causes',\n",
              " 10091: 'riots',\n",
              " 20974: 'norf',\n",
              " 9406: 'nord',\n",
              " 3893: 'midwest',\n",
              " 13886: 'tamils',\n",
              " 16402: 'ofthe',\n",
              " 3421: \"colombia's\",\n",
              " 11030: '24th',\n",
              " 20975: 'sant',\n",
              " 10092: 'moines',\n",
              " 22577: 'electrotechnical',\n",
              " 24534: 'proceeded',\n",
              " 20976: 'sanz',\n",
              " 13887: 'insufficiently',\n",
              " 20977: 'sang',\n",
              " 5950: 'sand',\n",
              " 16404: 'bracho',\n",
              " 805: 'small',\n",
              " 20978: 'workloads',\n",
              " 6702: 'sank',\n",
              " 20979: 'kemper',\n",
              " 16405: 'abbreviated',\n",
              " 13888: 'quicker',\n",
              " 3802: '199',\n",
              " 3243: '198',\n",
              " 2661: '195',\n",
              " 3080: '194',\n",
              " 4310: '197',\n",
              " 3894: '196',\n",
              " 2850: '191',\n",
              " 2199: '190',\n",
              " 3481: '193',\n",
              " 3350: '192',\n",
              " 582: 'past',\n",
              " 20980: 'fractionation',\n",
              " 20981: 'displays',\n",
              " 3081: 'pass',\n",
              " 202: 'investment',\n",
              " 27062: 'quals',\n",
              " 16406: 'quicken',\n",
              " 20983: \"centronic's\",\n",
              " 20984: 'menswear',\n",
              " 16407: 'clock',\n",
              " 20985: 'teape',\n",
              " 20986: 'teapa',\n",
              " 10093: 'prevailed',\n",
              " 9407: 'hebei',\n",
              " ...}"
            ]
          },
          "metadata": {},
          "execution_count": 17
        }
      ]
    },
    {
      "cell_type": "code",
      "execution_count": 18,
      "metadata": {
        "id": "kB8VB2EPJ9nn"
      },
      "outputs": [],
      "source": [
        "word_index = imdb.get_word_index()\n",
        "reverse_word_index = dict(\n",
        "    [(value, key) for (key, value) in word_index.items()])\n",
        "decoded_review = \" \".join(\n",
        "    [reverse_word_index.get(i - 3, \"?\") for i in train_data[0]])"
      ]
    },
    {
      "cell_type": "code",
      "source": [
        "decoded_review"
      ],
      "metadata": {
        "colab": {
          "base_uri": "https://localhost:8080/",
          "height": 143
        },
        "id": "kjpbT_bRS3Iz",
        "outputId": "db2ec3e8-977a-4c45-b5e6-b8186d16809b"
      },
      "execution_count": 19,
      "outputs": [
        {
          "output_type": "execute_result",
          "data": {
            "text/plain": [
              "\"? this film was just brilliant casting location scenery story direction everyone's really suited the part they played and you could just imagine being there robert ? is an amazing actor and now the same being director ? father came from the same scottish island as myself so i loved the fact there was a real connection with this film the witty remarks throughout the film were great it was just brilliant so much that i bought the film as soon as it was released for ? and would recommend it to everyone to watch and the fly fishing was amazing really cried at the end it was so sad and you know what they say if you cry at a film it must have been good and this definitely was also ? to the two little boy's that played the ? of norman and paul they were just brilliant children are often left out of the ? list i think because the stars that play them all grown up are such a big profile for the whole film but these children are amazing and should be praised for what they have done don't you think the whole story was so lovely because it was true and was someone's life after all that was shared with us all\""
            ],
            "application/vnd.google.colaboratory.intrinsic+json": {
              "type": "string"
            }
          },
          "metadata": {},
          "execution_count": 19
        }
      ]
    },
    {
      "cell_type": "code",
      "source": [
        "word_index['sorted']"
      ],
      "metadata": {
        "colab": {
          "base_uri": "https://localhost:8080/"
        },
        "id": "LiCN3v_OSnZE",
        "outputId": "69ca8b7b-f947-4f6c-9bb1-266156f4e5a7"
      },
      "execution_count": 20,
      "outputs": [
        {
          "output_type": "execute_result",
          "data": {
            "text/plain": [
              "18522"
            ]
          },
          "metadata": {},
          "execution_count": 20
        }
      ]
    },
    {
      "cell_type": "code",
      "source": [
        "reverse_word_index[18522]"
      ],
      "metadata": {
        "colab": {
          "base_uri": "https://localhost:8080/",
          "height": 35
        },
        "id": "QMHIsHyQSrb2",
        "outputId": "69d57e1e-0c3d-4acc-95ea-cb010879c63b"
      },
      "execution_count": 21,
      "outputs": [
        {
          "output_type": "execute_result",
          "data": {
            "text/plain": [
              "'sorted'"
            ],
            "application/vnd.google.colaboratory.intrinsic+json": {
              "type": "string"
            }
          },
          "metadata": {},
          "execution_count": 21
        }
      ]
    },
    {
      "cell_type": "code",
      "source": [
        "word_index"
      ],
      "metadata": {
        "colab": {
          "base_uri": "https://localhost:8080/"
        },
        "id": "D36_4St0SROn",
        "outputId": "34294476-26ba-4cac-9040-a19a2dffa474"
      },
      "execution_count": 22,
      "outputs": [
        {
          "output_type": "execute_result",
          "data": {
            "text/plain": [
              "{'fawn': 34701,\n",
              " 'tsukino': 52006,\n",
              " 'nunnery': 52007,\n",
              " 'sonja': 16816,\n",
              " 'vani': 63951,\n",
              " 'woods': 1408,\n",
              " 'spiders': 16115,\n",
              " 'hanging': 2345,\n",
              " 'woody': 2289,\n",
              " 'trawling': 52008,\n",
              " \"hold's\": 52009,\n",
              " 'comically': 11307,\n",
              " 'localized': 40830,\n",
              " 'disobeying': 30568,\n",
              " \"'royale\": 52010,\n",
              " \"harpo's\": 40831,\n",
              " 'canet': 52011,\n",
              " 'aileen': 19313,\n",
              " 'acurately': 52012,\n",
              " \"diplomat's\": 52013,\n",
              " 'rickman': 25242,\n",
              " 'arranged': 6746,\n",
              " 'rumbustious': 52014,\n",
              " 'familiarness': 52015,\n",
              " \"spider'\": 52016,\n",
              " 'hahahah': 68804,\n",
              " \"wood'\": 52017,\n",
              " 'transvestism': 40833,\n",
              " \"hangin'\": 34702,\n",
              " 'bringing': 2338,\n",
              " 'seamier': 40834,\n",
              " 'wooded': 34703,\n",
              " 'bravora': 52018,\n",
              " 'grueling': 16817,\n",
              " 'wooden': 1636,\n",
              " 'wednesday': 16818,\n",
              " \"'prix\": 52019,\n",
              " 'altagracia': 34704,\n",
              " 'circuitry': 52020,\n",
              " 'crotch': 11585,\n",
              " 'busybody': 57766,\n",
              " \"tart'n'tangy\": 52021,\n",
              " 'burgade': 14129,\n",
              " 'thrace': 52023,\n",
              " \"tom's\": 11038,\n",
              " 'snuggles': 52025,\n",
              " 'francesco': 29114,\n",
              " 'complainers': 52027,\n",
              " 'templarios': 52125,\n",
              " '272': 40835,\n",
              " '273': 52028,\n",
              " 'zaniacs': 52130,\n",
              " '275': 34706,\n",
              " 'consenting': 27631,\n",
              " 'snuggled': 40836,\n",
              " 'inanimate': 15492,\n",
              " 'uality': 52030,\n",
              " 'bronte': 11926,\n",
              " 'errors': 4010,\n",
              " 'dialogs': 3230,\n",
              " \"yomada's\": 52031,\n",
              " \"madman's\": 34707,\n",
              " 'dialoge': 30585,\n",
              " 'usenet': 52033,\n",
              " 'videodrome': 40837,\n",
              " \"kid'\": 26338,\n",
              " 'pawed': 52034,\n",
              " \"'girlfriend'\": 30569,\n",
              " \"'pleasure\": 52035,\n",
              " \"'reloaded'\": 52036,\n",
              " \"kazakos'\": 40839,\n",
              " 'rocque': 52037,\n",
              " 'mailings': 52038,\n",
              " 'brainwashed': 11927,\n",
              " 'mcanally': 16819,\n",
              " \"tom''\": 52039,\n",
              " 'kurupt': 25243,\n",
              " 'affiliated': 21905,\n",
              " 'babaganoosh': 52040,\n",
              " \"noe's\": 40840,\n",
              " 'quart': 40841,\n",
              " 'kids': 359,\n",
              " 'uplifting': 5034,\n",
              " 'controversy': 7093,\n",
              " 'kida': 21906,\n",
              " 'kidd': 23379,\n",
              " \"error'\": 52041,\n",
              " 'neurologist': 52042,\n",
              " 'spotty': 18510,\n",
              " 'cobblers': 30570,\n",
              " 'projection': 9878,\n",
              " 'fastforwarding': 40842,\n",
              " 'sters': 52043,\n",
              " \"eggar's\": 52044,\n",
              " 'etherything': 52045,\n",
              " 'gateshead': 40843,\n",
              " 'airball': 34708,\n",
              " 'unsinkable': 25244,\n",
              " 'stern': 7180,\n",
              " \"cervi's\": 52046,\n",
              " 'dnd': 40844,\n",
              " 'dna': 11586,\n",
              " 'insecurity': 20598,\n",
              " \"'reboot'\": 52047,\n",
              " 'trelkovsky': 11037,\n",
              " 'jaekel': 52048,\n",
              " 'sidebars': 52049,\n",
              " \"sforza's\": 52050,\n",
              " 'distortions': 17633,\n",
              " 'mutinies': 52051,\n",
              " 'sermons': 30602,\n",
              " '7ft': 40846,\n",
              " 'boobage': 52052,\n",
              " \"o'bannon's\": 52053,\n",
              " 'populations': 23380,\n",
              " 'chulak': 52054,\n",
              " 'mesmerize': 27633,\n",
              " 'quinnell': 52055,\n",
              " 'yahoo': 10307,\n",
              " 'meteorologist': 52057,\n",
              " 'beswick': 42577,\n",
              " 'boorman': 15493,\n",
              " 'voicework': 40847,\n",
              " \"ster'\": 52058,\n",
              " 'blustering': 22922,\n",
              " 'hj': 52059,\n",
              " 'intake': 27634,\n",
              " 'morally': 5621,\n",
              " 'jumbling': 40849,\n",
              " 'bowersock': 52060,\n",
              " \"'porky's'\": 52061,\n",
              " 'gershon': 16821,\n",
              " 'ludicrosity': 40850,\n",
              " 'coprophilia': 52062,\n",
              " 'expressively': 40851,\n",
              " \"india's\": 19500,\n",
              " \"post's\": 34710,\n",
              " 'wana': 52063,\n",
              " 'wang': 5283,\n",
              " 'wand': 30571,\n",
              " 'wane': 25245,\n",
              " 'edgeways': 52321,\n",
              " 'titanium': 34711,\n",
              " 'pinta': 40852,\n",
              " 'want': 178,\n",
              " 'pinto': 30572,\n",
              " 'whoopdedoodles': 52065,\n",
              " 'tchaikovsky': 21908,\n",
              " 'travel': 2103,\n",
              " \"'victory'\": 52066,\n",
              " 'copious': 11928,\n",
              " 'gouge': 22433,\n",
              " \"chapters'\": 52067,\n",
              " 'barbra': 6702,\n",
              " 'uselessness': 30573,\n",
              " \"wan'\": 52068,\n",
              " 'assimilated': 27635,\n",
              " 'petiot': 16116,\n",
              " 'most\\x85and': 52069,\n",
              " 'dinosaurs': 3930,\n",
              " 'wrong': 352,\n",
              " 'seda': 52070,\n",
              " 'stollen': 52071,\n",
              " 'sentencing': 34712,\n",
              " 'ouroboros': 40853,\n",
              " 'assimilates': 40854,\n",
              " 'colorfully': 40855,\n",
              " 'glenne': 27636,\n",
              " 'dongen': 52072,\n",
              " 'subplots': 4760,\n",
              " 'kiloton': 52073,\n",
              " 'chandon': 23381,\n",
              " \"effect'\": 34713,\n",
              " 'snugly': 27637,\n",
              " 'kuei': 40856,\n",
              " 'welcomed': 9092,\n",
              " 'dishonor': 30071,\n",
              " 'concurrence': 52075,\n",
              " 'stoicism': 23382,\n",
              " \"guys'\": 14896,\n",
              " \"beroemd'\": 52077,\n",
              " 'butcher': 6703,\n",
              " \"melfi's\": 40857,\n",
              " 'aargh': 30623,\n",
              " 'playhouse': 20599,\n",
              " 'wickedly': 11308,\n",
              " 'fit': 1180,\n",
              " 'labratory': 52078,\n",
              " 'lifeline': 40859,\n",
              " 'screaming': 1927,\n",
              " 'fix': 4287,\n",
              " 'cineliterate': 52079,\n",
              " 'fic': 52080,\n",
              " 'fia': 52081,\n",
              " 'fig': 34714,\n",
              " 'fmvs': 52082,\n",
              " 'fie': 52083,\n",
              " 'reentered': 52084,\n",
              " 'fin': 30574,\n",
              " 'doctresses': 52085,\n",
              " 'fil': 52086,\n",
              " 'zucker': 12606,\n",
              " 'ached': 31931,\n",
              " 'counsil': 52088,\n",
              " 'paterfamilias': 52089,\n",
              " 'songwriter': 13885,\n",
              " 'shivam': 34715,\n",
              " 'hurting': 9654,\n",
              " 'effects': 299,\n",
              " 'slauther': 52090,\n",
              " \"'flame'\": 52091,\n",
              " 'sommerset': 52092,\n",
              " 'interwhined': 52093,\n",
              " 'whacking': 27638,\n",
              " 'bartok': 52094,\n",
              " 'barton': 8775,\n",
              " 'frewer': 21909,\n",
              " \"fi'\": 52095,\n",
              " 'ingrid': 6192,\n",
              " 'stribor': 30575,\n",
              " 'approporiately': 52096,\n",
              " 'wobblyhand': 52097,\n",
              " 'tantalisingly': 52098,\n",
              " 'ankylosaurus': 52099,\n",
              " 'parasites': 17634,\n",
              " 'childen': 52100,\n",
              " \"jenkins'\": 52101,\n",
              " 'metafiction': 52102,\n",
              " 'golem': 17635,\n",
              " 'indiscretion': 40860,\n",
              " \"reeves'\": 23383,\n",
              " \"inamorata's\": 57781,\n",
              " 'brittannica': 52104,\n",
              " 'adapt': 7916,\n",
              " \"russo's\": 30576,\n",
              " 'guitarists': 48246,\n",
              " 'abbott': 10553,\n",
              " 'abbots': 40861,\n",
              " 'lanisha': 17649,\n",
              " 'magickal': 40863,\n",
              " 'mattter': 52105,\n",
              " \"'willy\": 52106,\n",
              " 'pumpkins': 34716,\n",
              " 'stuntpeople': 52107,\n",
              " 'estimate': 30577,\n",
              " 'ugghhh': 40864,\n",
              " 'gameplay': 11309,\n",
              " \"wern't\": 52108,\n",
              " \"n'sync\": 40865,\n",
              " 'sickeningly': 16117,\n",
              " 'chiara': 40866,\n",
              " 'disturbed': 4011,\n",
              " 'portmanteau': 40867,\n",
              " 'ineffectively': 52109,\n",
              " \"duchonvey's\": 82143,\n",
              " \"nasty'\": 37519,\n",
              " 'purpose': 1285,\n",
              " 'lazers': 52112,\n",
              " 'lightened': 28105,\n",
              " 'kaliganj': 52113,\n",
              " 'popularism': 52114,\n",
              " \"damme's\": 18511,\n",
              " 'stylistics': 30578,\n",
              " 'mindgaming': 52115,\n",
              " 'spoilerish': 46449,\n",
              " \"'corny'\": 52117,\n",
              " 'boerner': 34718,\n",
              " 'olds': 6792,\n",
              " 'bakelite': 52118,\n",
              " 'renovated': 27639,\n",
              " 'forrester': 27640,\n",
              " \"lumiere's\": 52119,\n",
              " 'gaskets': 52024,\n",
              " 'needed': 884,\n",
              " 'smight': 34719,\n",
              " 'master': 1297,\n",
              " \"edie's\": 25905,\n",
              " 'seeber': 40868,\n",
              " 'hiya': 52120,\n",
              " 'fuzziness': 52121,\n",
              " 'genesis': 14897,\n",
              " 'rewards': 12607,\n",
              " 'enthrall': 30579,\n",
              " \"'about\": 40869,\n",
              " \"recollection's\": 52122,\n",
              " 'mutilated': 11039,\n",
              " 'fatherlands': 52123,\n",
              " \"fischer's\": 52124,\n",
              " 'positively': 5399,\n",
              " '270': 34705,\n",
              " 'ahmed': 34720,\n",
              " 'zatoichi': 9836,\n",
              " 'bannister': 13886,\n",
              " 'anniversaries': 52127,\n",
              " \"helm's\": 30580,\n",
              " \"'work'\": 52128,\n",
              " 'exclaimed': 34721,\n",
              " \"'unfunny'\": 52129,\n",
              " '274': 52029,\n",
              " 'feeling': 544,\n",
              " \"wanda's\": 52131,\n",
              " 'dolan': 33266,\n",
              " '278': 52133,\n",
              " 'peacoat': 52134,\n",
              " 'brawny': 40870,\n",
              " 'mishra': 40871,\n",
              " 'worlders': 40872,\n",
              " 'protags': 52135,\n",
              " 'skullcap': 52136,\n",
              " 'dastagir': 57596,\n",
              " 'affairs': 5622,\n",
              " 'wholesome': 7799,\n",
              " 'hymen': 52137,\n",
              " 'paramedics': 25246,\n",
              " 'unpersons': 52138,\n",
              " 'heavyarms': 52139,\n",
              " 'affaire': 52140,\n",
              " 'coulisses': 52141,\n",
              " 'hymer': 40873,\n",
              " 'kremlin': 52142,\n",
              " 'shipments': 30581,\n",
              " 'pixilated': 52143,\n",
              " \"'00s\": 30582,\n",
              " 'diminishing': 18512,\n",
              " 'cinematic': 1357,\n",
              " 'resonates': 14898,\n",
              " 'simplify': 40874,\n",
              " \"nature'\": 40875,\n",
              " 'temptresses': 40876,\n",
              " 'reverence': 16822,\n",
              " 'resonated': 19502,\n",
              " 'dailey': 34722,\n",
              " '2\\x85': 52144,\n",
              " 'treize': 27641,\n",
              " 'majo': 52145,\n",
              " 'kiya': 21910,\n",
              " 'woolnough': 52146,\n",
              " 'thanatos': 39797,\n",
              " 'sandoval': 35731,\n",
              " 'dorama': 40879,\n",
              " \"o'shaughnessy\": 52147,\n",
              " 'tech': 4988,\n",
              " 'fugitives': 32018,\n",
              " 'teck': 30583,\n",
              " \"'e'\": 76125,\n",
              " 'doesn’t': 40881,\n",
              " 'purged': 52149,\n",
              " 'saying': 657,\n",
              " \"martians'\": 41095,\n",
              " 'norliss': 23418,\n",
              " 'dickey': 27642,\n",
              " 'dicker': 52152,\n",
              " \"'sependipity\": 52153,\n",
              " 'padded': 8422,\n",
              " 'ordell': 57792,\n",
              " \"sturges'\": 40882,\n",
              " 'independentcritics': 52154,\n",
              " 'tempted': 5745,\n",
              " \"atkinson's\": 34724,\n",
              " 'hounded': 25247,\n",
              " 'apace': 52155,\n",
              " 'clicked': 15494,\n",
              " \"'humor'\": 30584,\n",
              " \"martino's\": 17177,\n",
              " \"'supporting\": 52156,\n",
              " 'warmongering': 52032,\n",
              " \"zemeckis's\": 34725,\n",
              " 'lube': 21911,\n",
              " 'shocky': 52157,\n",
              " 'plate': 7476,\n",
              " 'plata': 40883,\n",
              " 'sturgess': 40884,\n",
              " \"nerds'\": 40885,\n",
              " 'plato': 20600,\n",
              " 'plath': 34726,\n",
              " 'platt': 40886,\n",
              " 'mcnab': 52159,\n",
              " 'clumsiness': 27643,\n",
              " 'altogether': 3899,\n",
              " 'massacring': 42584,\n",
              " 'bicenntinial': 52160,\n",
              " 'skaal': 40887,\n",
              " 'droning': 14360,\n",
              " 'lds': 8776,\n",
              " 'jaguar': 21912,\n",
              " \"cale's\": 34727,\n",
              " 'nicely': 1777,\n",
              " 'mummy': 4588,\n",
              " \"lot's\": 18513,\n",
              " 'patch': 10086,\n",
              " 'kerkhof': 50202,\n",
              " \"leader's\": 52161,\n",
              " \"'movie\": 27644,\n",
              " 'uncomfirmed': 52162,\n",
              " 'heirloom': 40888,\n",
              " 'wrangle': 47360,\n",
              " 'emotion\\x85': 52163,\n",
              " \"'stargate'\": 52164,\n",
              " 'pinoy': 40889,\n",
              " 'conchatta': 40890,\n",
              " 'broeke': 41128,\n",
              " 'advisedly': 40891,\n",
              " \"barker's\": 17636,\n",
              " 'descours': 52166,\n",
              " 'lots': 772,\n",
              " 'lotr': 9259,\n",
              " 'irs': 9879,\n",
              " 'lott': 52167,\n",
              " 'xvi': 40892,\n",
              " 'irk': 34728,\n",
              " 'irl': 52168,\n",
              " 'ira': 6887,\n",
              " 'belzer': 21913,\n",
              " 'irc': 52169,\n",
              " 'ire': 27645,\n",
              " 'requisites': 40893,\n",
              " 'discipline': 7693,\n",
              " 'lyoko': 52961,\n",
              " 'extend': 11310,\n",
              " 'nature': 873,\n",
              " \"'dickie'\": 52170,\n",
              " 'optimist': 40894,\n",
              " 'lapping': 30586,\n",
              " 'superficial': 3900,\n",
              " 'vestment': 52171,\n",
              " 'extent': 2823,\n",
              " 'tendons': 52172,\n",
              " \"heller's\": 52173,\n",
              " 'quagmires': 52174,\n",
              " 'miyako': 52175,\n",
              " 'moocow': 20601,\n",
              " \"coles'\": 52176,\n",
              " 'lookit': 40895,\n",
              " 'ravenously': 52177,\n",
              " 'levitating': 40896,\n",
              " 'perfunctorily': 52178,\n",
              " 'lookin': 30587,\n",
              " \"lot'\": 40898,\n",
              " 'lookie': 52179,\n",
              " 'fearlessly': 34870,\n",
              " 'libyan': 52181,\n",
              " 'fondles': 40899,\n",
              " 'gopher': 35714,\n",
              " 'wearying': 40901,\n",
              " \"nz's\": 52182,\n",
              " 'minuses': 27646,\n",
              " 'puposelessly': 52183,\n",
              " 'shandling': 52184,\n",
              " 'decapitates': 31268,\n",
              " 'humming': 11929,\n",
              " \"'nother\": 40902,\n",
              " 'smackdown': 21914,\n",
              " 'underdone': 30588,\n",
              " 'frf': 40903,\n",
              " 'triviality': 52185,\n",
              " 'fro': 25248,\n",
              " 'bothers': 8777,\n",
              " \"'kensington\": 52186,\n",
              " 'much': 73,\n",
              " 'muco': 34730,\n",
              " 'wiseguy': 22615,\n",
              " \"richie's\": 27648,\n",
              " 'tonino': 40904,\n",
              " 'unleavened': 52187,\n",
              " 'fry': 11587,\n",
              " \"'tv'\": 40905,\n",
              " 'toning': 40906,\n",
              " 'obese': 14361,\n",
              " 'sensationalized': 30589,\n",
              " 'spiv': 40907,\n",
              " 'spit': 6259,\n",
              " 'arkin': 7364,\n",
              " 'charleton': 21915,\n",
              " 'jeon': 16823,\n",
              " 'boardroom': 21916,\n",
              " 'doubts': 4989,\n",
              " 'spin': 3084,\n",
              " 'hepo': 53083,\n",
              " 'wildcat': 27649,\n",
              " 'venoms': 10584,\n",
              " 'misconstrues': 52191,\n",
              " 'mesmerising': 18514,\n",
              " 'misconstrued': 40908,\n",
              " 'rescinds': 52192,\n",
              " 'prostrate': 52193,\n",
              " 'majid': 40909,\n",
              " 'climbed': 16479,\n",
              " 'canoeing': 34731,\n",
              " 'majin': 52195,\n",
              " 'animie': 57804,\n",
              " 'sylke': 40910,\n",
              " 'conditioned': 14899,\n",
              " 'waddell': 40911,\n",
              " '3\\x85': 52196,\n",
              " 'hyperdrive': 41188,\n",
              " 'conditioner': 34732,\n",
              " 'bricklayer': 53153,\n",
              " 'hong': 2576,\n",
              " 'memoriam': 52198,\n",
              " 'inventively': 30592,\n",
              " \"levant's\": 25249,\n",
              " 'portobello': 20638,\n",
              " 'remand': 52200,\n",
              " 'mummified': 19504,\n",
              " 'honk': 27650,\n",
              " 'spews': 19505,\n",
              " 'visitations': 40912,\n",
              " 'mummifies': 52201,\n",
              " 'cavanaugh': 25250,\n",
              " 'zeon': 23385,\n",
              " \"jungle's\": 40913,\n",
              " 'viertel': 34733,\n",
              " 'frenchmen': 27651,\n",
              " 'torpedoes': 52202,\n",
              " 'schlessinger': 52203,\n",
              " 'torpedoed': 34734,\n",
              " 'blister': 69876,\n",
              " 'cinefest': 52204,\n",
              " 'furlough': 34735,\n",
              " 'mainsequence': 52205,\n",
              " 'mentors': 40914,\n",
              " 'academic': 9094,\n",
              " 'stillness': 20602,\n",
              " 'academia': 40915,\n",
              " 'lonelier': 52206,\n",
              " 'nibby': 52207,\n",
              " \"losers'\": 52208,\n",
              " 'cineastes': 40916,\n",
              " 'corporate': 4449,\n",
              " 'massaging': 40917,\n",
              " 'bellow': 30593,\n",
              " 'absurdities': 19506,\n",
              " 'expetations': 53241,\n",
              " 'nyfiken': 40918,\n",
              " 'mehras': 75638,\n",
              " 'lasse': 52209,\n",
              " 'visability': 52210,\n",
              " 'militarily': 33946,\n",
              " \"elder'\": 52211,\n",
              " 'gainsbourg': 19023,\n",
              " 'hah': 20603,\n",
              " 'hai': 13420,\n",
              " 'haj': 34736,\n",
              " 'hak': 25251,\n",
              " 'hal': 4311,\n",
              " 'ham': 4892,\n",
              " 'duffer': 53259,\n",
              " 'haa': 52213,\n",
              " 'had': 66,\n",
              " 'advancement': 11930,\n",
              " 'hag': 16825,\n",
              " \"hand'\": 25252,\n",
              " 'hay': 13421,\n",
              " 'mcnamara': 20604,\n",
              " \"mozart's\": 52214,\n",
              " 'duffel': 30731,\n",
              " 'haq': 30594,\n",
              " 'har': 13887,\n",
              " 'has': 44,\n",
              " 'hat': 2401,\n",
              " 'hav': 40919,\n",
              " 'haw': 30595,\n",
              " 'figtings': 52215,\n",
              " 'elders': 15495,\n",
              " 'underpanted': 52216,\n",
              " 'pninson': 52217,\n",
              " 'unequivocally': 27652,\n",
              " \"barbara's\": 23673,\n",
              " \"bello'\": 52219,\n",
              " 'indicative': 12997,\n",
              " 'yawnfest': 40920,\n",
              " 'hexploitation': 52220,\n",
              " \"loder's\": 52221,\n",
              " 'sleuthing': 27653,\n",
              " \"justin's\": 32622,\n",
              " \"'ball\": 52222,\n",
              " \"'summer\": 52223,\n",
              " \"'demons'\": 34935,\n",
              " \"mormon's\": 52225,\n",
              " \"laughton's\": 34737,\n",
              " 'debell': 52226,\n",
              " 'shipyard': 39724,\n",
              " 'unabashedly': 30597,\n",
              " 'disks': 40401,\n",
              " 'crowd': 2290,\n",
              " 'crowe': 10087,\n",
              " \"vancouver's\": 56434,\n",
              " 'mosques': 34738,\n",
              " 'crown': 6627,\n",
              " 'culpas': 52227,\n",
              " 'crows': 27654,\n",
              " 'surrell': 53344,\n",
              " 'flowless': 52229,\n",
              " 'sheirk': 52230,\n",
              " \"'three\": 40923,\n",
              " \"peterson'\": 52231,\n",
              " 'ooverall': 52232,\n",
              " 'perchance': 40924,\n",
              " 'bottom': 1321,\n",
              " 'chabert': 53363,\n",
              " 'sneha': 52233,\n",
              " 'inhuman': 13888,\n",
              " 'ichii': 52234,\n",
              " 'ursla': 52235,\n",
              " 'completly': 30598,\n",
              " 'moviedom': 40925,\n",
              " 'raddick': 52236,\n",
              " 'brundage': 51995,\n",
              " 'brigades': 40926,\n",
              " 'starring': 1181,\n",
              " \"'goal'\": 52237,\n",
              " 'caskets': 52238,\n",
              " 'willcock': 52239,\n",
              " \"threesome's\": 52240,\n",
              " \"mosque'\": 52241,\n",
              " \"cover's\": 52242,\n",
              " 'spaceships': 17637,\n",
              " 'anomalous': 40927,\n",
              " 'ptsd': 27655,\n",
              " 'shirdan': 52243,\n",
              " 'obscenity': 21962,\n",
              " 'lemmings': 30599,\n",
              " 'duccio': 30600,\n",
              " \"levene's\": 52244,\n",
              " \"'gorby'\": 52245,\n",
              " \"teenager's\": 25255,\n",
              " 'marshall': 5340,\n",
              " 'honeymoon': 9095,\n",
              " 'shoots': 3231,\n",
              " 'despised': 12258,\n",
              " 'okabasho': 52246,\n",
              " 'fabric': 8289,\n",
              " 'cannavale': 18515,\n",
              " 'raped': 3537,\n",
              " \"tutt's\": 52247,\n",
              " 'grasping': 17638,\n",
              " 'despises': 18516,\n",
              " \"thief's\": 40928,\n",
              " 'rapes': 8926,\n",
              " 'raper': 52248,\n",
              " \"eyre'\": 27656,\n",
              " 'walchek': 52249,\n",
              " \"elmo's\": 23386,\n",
              " 'perfumes': 40929,\n",
              " 'spurting': 21918,\n",
              " \"exposition'\\x85\": 52250,\n",
              " 'denoting': 52251,\n",
              " 'thesaurus': 34740,\n",
              " \"shoot'\": 40930,\n",
              " 'bonejack': 49759,\n",
              " 'simpsonian': 52253,\n",
              " 'hebetude': 30601,\n",
              " \"hallow's\": 34741,\n",
              " 'desperation\\x85': 52254,\n",
              " 'incinerator': 34742,\n",
              " 'congratulations': 10308,\n",
              " 'humbled': 52255,\n",
              " \"else's\": 5924,\n",
              " 'trelkovski': 40845,\n",
              " \"rape'\": 52256,\n",
              " \"'chapters'\": 59386,\n",
              " '1600s': 52257,\n",
              " 'martian': 7253,\n",
              " 'nicest': 25256,\n",
              " 'eyred': 52259,\n",
              " 'passenger': 9457,\n",
              " 'disgrace': 6041,\n",
              " 'moderne': 52260,\n",
              " 'barrymore': 5120,\n",
              " 'yankovich': 52261,\n",
              " 'moderns': 40931,\n",
              " 'studliest': 52262,\n",
              " 'bedsheet': 52263,\n",
              " 'decapitation': 14900,\n",
              " 'slurring': 52264,\n",
              " \"'nunsploitation'\": 52265,\n",
              " \"'character'\": 34743,\n",
              " 'cambodia': 9880,\n",
              " 'rebelious': 52266,\n",
              " 'pasadena': 27657,\n",
              " 'crowne': 40932,\n",
              " \"'bedchamber\": 52267,\n",
              " 'conjectural': 52268,\n",
              " 'appologize': 52269,\n",
              " 'halfassing': 52270,\n",
              " 'paycheque': 57816,\n",
              " 'palms': 20606,\n",
              " \"'islands\": 52271,\n",
              " 'hawked': 40933,\n",
              " 'palme': 21919,\n",
              " 'conservatively': 40934,\n",
              " 'larp': 64007,\n",
              " 'palma': 5558,\n",
              " 'smelling': 21920,\n",
              " 'aragorn': 12998,\n",
              " 'hawker': 52272,\n",
              " 'hawkes': 52273,\n",
              " 'explosions': 3975,\n",
              " 'loren': 8059,\n",
              " \"pyle's\": 52274,\n",
              " 'shootout': 6704,\n",
              " \"mike's\": 18517,\n",
              " \"driscoll's\": 52275,\n",
              " 'cogsworth': 40935,\n",
              " \"britian's\": 52276,\n",
              " 'childs': 34744,\n",
              " \"portrait's\": 52277,\n",
              " 'chain': 3626,\n",
              " 'whoever': 2497,\n",
              " 'puttered': 52278,\n",
              " 'childe': 52279,\n",
              " 'maywether': 52280,\n",
              " 'chair': 3036,\n",
              " \"rance's\": 52281,\n",
              " 'machu': 34745,\n",
              " 'ballet': 4517,\n",
              " 'grapples': 34746,\n",
              " 'summerize': 76152,\n",
              " 'freelance': 30603,\n",
              " \"andrea's\": 52283,\n",
              " '\\x91very': 52284,\n",
              " 'coolidge': 45879,\n",
              " 'mache': 18518,\n",
              " 'balled': 52285,\n",
              " 'grappled': 40937,\n",
              " 'macha': 18519,\n",
              " 'underlining': 21921,\n",
              " 'macho': 5623,\n",
              " 'oversight': 19507,\n",
              " 'machi': 25257,\n",
              " 'verbally': 11311,\n",
              " 'tenacious': 21922,\n",
              " 'windshields': 40938,\n",
              " 'paychecks': 18557,\n",
              " 'jerk': 3396,\n",
              " \"good'\": 11931,\n",
              " 'prancer': 34748,\n",
              " 'prances': 21923,\n",
              " 'olympus': 52286,\n",
              " 'lark': 21924,\n",
              " 'embark': 10785,\n",
              " 'gloomy': 7365,\n",
              " 'jehaan': 52287,\n",
              " 'turaqui': 52288,\n",
              " \"child'\": 20607,\n",
              " 'locked': 2894,\n",
              " 'pranced': 52289,\n",
              " 'exact': 2588,\n",
              " 'unattuned': 52290,\n",
              " 'minute': 783,\n",
              " 'skewed': 16118,\n",
              " 'hodgins': 40940,\n",
              " 'skewer': 34749,\n",
              " 'think\\x85': 52291,\n",
              " 'rosenstein': 38765,\n",
              " 'helmit': 52292,\n",
              " 'wrestlemanias': 34750,\n",
              " 'hindered': 16826,\n",
              " \"martha's\": 30604,\n",
              " 'cheree': 52293,\n",
              " \"pluckin'\": 52294,\n",
              " 'ogles': 40941,\n",
              " 'heavyweight': 11932,\n",
              " 'aada': 82190,\n",
              " 'chopping': 11312,\n",
              " 'strongboy': 61534,\n",
              " 'hegemonic': 41342,\n",
              " 'adorns': 40942,\n",
              " 'xxth': 41346,\n",
              " 'nobuhiro': 34751,\n",
              " 'capitães': 52298,\n",
              " 'kavogianni': 52299,\n",
              " 'antwerp': 13422,\n",
              " 'celebrated': 6538,\n",
              " 'roarke': 52300,\n",
              " 'baggins': 40943,\n",
              " 'cheeseburgers': 31270,\n",
              " 'matras': 52301,\n",
              " \"nineties'\": 52302,\n",
              " \"'craig'\": 52303,\n",
              " 'celebrates': 12999,\n",
              " 'unintentionally': 3383,\n",
              " 'drafted': 14362,\n",
              " 'climby': 52304,\n",
              " '303': 52305,\n",
              " 'oldies': 18520,\n",
              " 'climbs': 9096,\n",
              " 'honour': 9655,\n",
              " 'plucking': 34752,\n",
              " '305': 30074,\n",
              " 'address': 5514,\n",
              " 'menjou': 40944,\n",
              " \"'freak'\": 42592,\n",
              " 'dwindling': 19508,\n",
              " 'benson': 9458,\n",
              " 'white’s': 52307,\n",
              " 'shamelessness': 40945,\n",
              " 'impacted': 21925,\n",
              " 'upatz': 52308,\n",
              " 'cusack': 3840,\n",
              " \"flavia's\": 37567,\n",
              " 'effette': 52309,\n",
              " 'influx': 34753,\n",
              " 'boooooooo': 52310,\n",
              " 'dimitrova': 52311,\n",
              " 'houseman': 13423,\n",
              " 'bigas': 25259,\n",
              " 'boylen': 52312,\n",
              " 'phillipenes': 52313,\n",
              " 'fakery': 40946,\n",
              " \"grandpa's\": 27658,\n",
              " 'darnell': 27659,\n",
              " 'undergone': 19509,\n",
              " 'handbags': 52315,\n",
              " 'perished': 21926,\n",
              " 'pooped': 37778,\n",
              " 'vigour': 27660,\n",
              " 'opposed': 3627,\n",
              " 'etude': 52316,\n",
              " \"caine's\": 11799,\n",
              " 'doozers': 52317,\n",
              " 'photojournals': 34754,\n",
              " 'perishes': 52318,\n",
              " 'constrains': 34755,\n",
              " 'migenes': 40948,\n",
              " 'consoled': 30605,\n",
              " 'alastair': 16827,\n",
              " 'wvs': 52319,\n",
              " 'ooooooh': 52320,\n",
              " 'approving': 34756,\n",
              " 'consoles': 40949,\n",
              " 'disparagement': 52064,\n",
              " 'futureistic': 52322,\n",
              " 'rebounding': 52323,\n",
              " \"'date\": 52324,\n",
              " 'gregoire': 52325,\n",
              " 'rutherford': 21927,\n",
              " 'americanised': 34757,\n",
              " 'novikov': 82196,\n",
              " 'following': 1042,\n",
              " 'munroe': 34758,\n",
              " \"morita'\": 52326,\n",
              " 'christenssen': 52327,\n",
              " 'oatmeal': 23106,\n",
              " 'fossey': 25260,\n",
              " 'livered': 40950,\n",
              " 'listens': 13000,\n",
              " \"'marci\": 76164,\n",
              " \"otis's\": 52330,\n",
              " 'thanking': 23387,\n",
              " 'maude': 16019,\n",
              " 'extensions': 34759,\n",
              " 'ameteurish': 52332,\n",
              " \"commender's\": 52333,\n",
              " 'agricultural': 27661,\n",
              " 'convincingly': 4518,\n",
              " 'fueled': 17639,\n",
              " 'mahattan': 54014,\n",
              " \"paris's\": 40952,\n",
              " 'vulkan': 52336,\n",
              " 'stapes': 52337,\n",
              " 'odysessy': 52338,\n",
              " 'harmon': 12259,\n",
              " 'surfing': 4252,\n",
              " 'halloran': 23494,\n",
              " 'unbelieveably': 49580,\n",
              " \"'offed'\": 52339,\n",
              " 'quadrant': 30607,\n",
              " 'inhabiting': 19510,\n",
              " 'nebbish': 34760,\n",
              " 'forebears': 40953,\n",
              " 'skirmish': 34761,\n",
              " 'ocassionally': 52340,\n",
              " \"'resist\": 52341,\n",
              " 'impactful': 21928,\n",
              " 'spicier': 52342,\n",
              " 'touristy': 40954,\n",
              " \"'football'\": 52343,\n",
              " 'webpage': 40955,\n",
              " 'exurbia': 52345,\n",
              " 'jucier': 52346,\n",
              " 'professors': 14901,\n",
              " 'structuring': 34762,\n",
              " 'jig': 30608,\n",
              " 'overlord': 40956,\n",
              " 'disconnect': 25261,\n",
              " 'sniffle': 82201,\n",
              " 'slimeball': 40957,\n",
              " 'jia': 40958,\n",
              " 'milked': 16828,\n",
              " 'banjoes': 40959,\n",
              " 'jim': 1237,\n",
              " 'workforces': 52348,\n",
              " 'jip': 52349,\n",
              " 'rotweiller': 52350,\n",
              " 'mundaneness': 34763,\n",
              " \"'ninja'\": 52351,\n",
              " \"dead'\": 11040,\n",
              " \"cipriani's\": 40960,\n",
              " 'modestly': 20608,\n",
              " \"professor'\": 52352,\n",
              " 'shacked': 40961,\n",
              " 'bashful': 34764,\n",
              " 'sorter': 23388,\n",
              " 'overpowering': 16120,\n",
              " 'workmanlike': 18521,\n",
              " 'henpecked': 27662,\n",
              " 'sorted': 18522,\n",
              " \"jōb's\": 52354,\n",
              " \"'always\": 52355,\n",
              " \"'baptists\": 34765,\n",
              " 'dreamcatchers': 52356,\n",
              " \"'silence'\": 52357,\n",
              " 'hickory': 21929,\n",
              " 'fun\\x97yet': 52358,\n",
              " 'breakumentary': 52359,\n",
              " 'didn': 15496,\n",
              " 'didi': 52360,\n",
              " 'pealing': 52361,\n",
              " 'dispite': 40962,\n",
              " \"italy's\": 25262,\n",
              " 'instability': 21930,\n",
              " 'quarter': 6539,\n",
              " 'quartet': 12608,\n",
              " 'padmé': 52362,\n",
              " \"'bleedmedry\": 52363,\n",
              " 'pahalniuk': 52364,\n",
              " 'honduras': 52365,\n",
              " 'bursting': 10786,\n",
              " \"pablo's\": 41465,\n",
              " 'irremediably': 52367,\n",
              " 'presages': 40963,\n",
              " 'bowlegged': 57832,\n",
              " 'dalip': 65183,\n",
              " 'entering': 6260,\n",
              " 'newsradio': 76172,\n",
              " 'presaged': 54150,\n",
              " \"giallo's\": 27663,\n",
              " 'bouyant': 40964,\n",
              " 'amerterish': 52368,\n",
              " 'rajni': 18523,\n",
              " 'leeves': 30610,\n",
              " 'macauley': 34767,\n",
              " 'seriously': 612,\n",
              " 'sugercoma': 52369,\n",
              " 'grimstead': 52370,\n",
              " \"'fairy'\": 52371,\n",
              " 'zenda': 30611,\n",
              " \"'twins'\": 52372,\n",
              " 'realisation': 17640,\n",
              " 'highsmith': 27664,\n",
              " 'raunchy': 7817,\n",
              " 'incentives': 40965,\n",
              " 'flatson': 52374,\n",
              " 'snooker': 35097,\n",
              " 'crazies': 16829,\n",
              " 'crazier': 14902,\n",
              " 'grandma': 7094,\n",
              " 'napunsaktha': 52375,\n",
              " 'workmanship': 30612,\n",
              " 'reisner': 52376,\n",
              " \"sanford's\": 61306,\n",
              " '\\x91doña': 52377,\n",
              " 'modest': 6108,\n",
              " \"everything's\": 19153,\n",
              " 'hamer': 40966,\n",
              " \"couldn't'\": 52379,\n",
              " 'quibble': 13001,\n",
              " 'socking': 52380,\n",
              " 'tingler': 21931,\n",
              " 'gutman': 52381,\n",
              " 'lachlan': 40967,\n",
              " 'tableaus': 52382,\n",
              " 'headbanger': 52383,\n",
              " 'spoken': 2847,\n",
              " 'cerebrally': 34768,\n",
              " \"'road\": 23490,\n",
              " 'tableaux': 21932,\n",
              " \"proust's\": 40968,\n",
              " 'periodical': 40969,\n",
              " \"shoveller's\": 52385,\n",
              " 'tamara': 25263,\n",
              " 'affords': 17641,\n",
              " 'concert': 3249,\n",
              " \"yara's\": 87955,\n",
              " 'someome': 52386,\n",
              " 'lingering': 8424,\n",
              " \"abraham's\": 41511,\n",
              " 'beesley': 34769,\n",
              " 'cherbourg': 34770,\n",
              " 'kagan': 28624,\n",
              " 'snatch': 9097,\n",
              " \"miyazaki's\": 9260,\n",
              " 'absorbs': 25264,\n",
              " \"koltai's\": 40970,\n",
              " 'tingled': 64027,\n",
              " 'crossroads': 19511,\n",
              " 'rehab': 16121,\n",
              " 'falworth': 52389,\n",
              " 'sequals': 52390,\n",
              " ...}"
            ]
          },
          "metadata": {},
          "execution_count": 22
        }
      ]
    },
    {
      "cell_type": "markdown",
      "metadata": {
        "id": "Q17pmUFaJ9nn"
      },
      "source": [
        "### Preparing the data"
      ]
    },
    {
      "cell_type": "markdown",
      "metadata": {
        "id": "0gzXZVeoJ9nn"
      },
      "source": [
        "**Encoding the integer sequences via multi-hot encoding**"
      ]
    },
    {
      "cell_type": "code",
      "source": [
        "train_data.shape"
      ],
      "metadata": {
        "colab": {
          "base_uri": "https://localhost:8080/"
        },
        "id": "-L1CBlBcTTjd",
        "outputId": "7ea3c969-4fb5-4305-d707-267c9da7de3c"
      },
      "execution_count": 23,
      "outputs": [
        {
          "output_type": "execute_result",
          "data": {
            "text/plain": [
              "(25000,)"
            ]
          },
          "metadata": {},
          "execution_count": 23
        }
      ]
    },
    {
      "cell_type": "code",
      "source": [
        "len(train_data[0])"
      ],
      "metadata": {
        "colab": {
          "base_uri": "https://localhost:8080/"
        },
        "id": "6F3r-_E1TXJU",
        "outputId": "c06deb2f-5d6d-4f19-b6f8-20451ed21f44"
      },
      "execution_count": 24,
      "outputs": [
        {
          "output_type": "execute_result",
          "data": {
            "text/plain": [
              "218"
            ]
          },
          "metadata": {},
          "execution_count": 24
        }
      ]
    },
    {
      "cell_type": "code",
      "source": [
        "# 모두 다른 길이를 가지고 있음\n",
        "len(train_data[1])"
      ],
      "metadata": {
        "colab": {
          "base_uri": "https://localhost:8080/"
        },
        "id": "4VeJXMbvTcr5",
        "outputId": "4648bab7-e3a8-444d-9366-d94e6e43b817"
      },
      "execution_count": 25,
      "outputs": [
        {
          "output_type": "execute_result",
          "data": {
            "text/plain": [
              "189"
            ]
          },
          "metadata": {},
          "execution_count": 25
        }
      ]
    },
    {
      "cell_type": "code",
      "execution_count": 26,
      "metadata": {
        "id": "Zf0SQ8wdJ9nn"
      },
      "outputs": [],
      "source": [
        "import numpy as np\n",
        "def vectorize_sequences(sequences, dimension=10000):\n",
        "    results = np.zeros((len(sequences), dimension))\n",
        "    for i, sequence in enumerate(sequences):\n",
        "        for j in sequence:\n",
        "            results[i, j] = 1.\n",
        "    return results\n",
        "x_train = vectorize_sequences(train_data)\n",
        "x_test = vectorize_sequences(test_data)"
      ]
    },
    {
      "cell_type": "code",
      "execution_count": 27,
      "metadata": {
        "id": "Q5Un9Ko5J9no",
        "colab": {
          "base_uri": "https://localhost:8080/"
        },
        "outputId": "c98af091-c650-4c94-ab53-bb52eea7ce83"
      },
      "outputs": [
        {
          "output_type": "execute_result",
          "data": {
            "text/plain": [
              "array([0., 1., 1., ..., 0., 0., 0.])"
            ]
          },
          "metadata": {},
          "execution_count": 27
        }
      ],
      "source": [
        "x_train[0]"
      ]
    },
    {
      "cell_type": "code",
      "source": [
        "x_train.shape"
      ],
      "metadata": {
        "colab": {
          "base_uri": "https://localhost:8080/"
        },
        "id": "lQMqxk0sT-JS",
        "outputId": "4f41d3a2-40dd-4daf-9238-c326d71e69db"
      },
      "execution_count": 28,
      "outputs": [
        {
          "output_type": "execute_result",
          "data": {
            "text/plain": [
              "(25000, 10000)"
            ]
          },
          "metadata": {},
          "execution_count": 28
        }
      ]
    },
    {
      "cell_type": "code",
      "execution_count": 29,
      "metadata": {
        "id": "c94azC0mJ9no"
      },
      "outputs": [],
      "source": [
        "y_train = np.asarray(train_labels).astype(\"float32\")\n",
        "y_test = np.asarray(test_labels).astype(\"float32\")"
      ]
    },
    {
      "cell_type": "markdown",
      "metadata": {
        "id": "imdOPpQgJ9no"
      },
      "source": [
        "### Building your model"
      ]
    },
    {
      "cell_type": "markdown",
      "metadata": {
        "id": "5Ar_Nn00J9no"
      },
      "source": [
        "**Model definition**"
      ]
    },
    {
      "cell_type": "code",
      "execution_count": 30,
      "metadata": {
        "id": "8LZMPFehJ9no"
      },
      "outputs": [],
      "source": [
        "from tensorflow import keras\n",
        "from tensorflow.keras import layers\n",
        "\n",
        "model = keras.Sequential([\n",
        "    layers.Dense(16, activation=\"relu\"),\n",
        "    layers.Dense(16, activation=\"relu\"),\n",
        "    layers.Dense(1, activation=\"sigmoid\")\n",
        "])"
      ]
    },
    {
      "cell_type": "markdown",
      "metadata": {
        "id": "kA9-yNGrJ9np"
      },
      "source": [
        "**Compiling the model**"
      ]
    },
    {
      "cell_type": "code",
      "execution_count": 31,
      "metadata": {
        "id": "aC0sI8M6J9np"
      },
      "outputs": [],
      "source": [
        "model.compile(optimizer=\"rmsprop\",\n",
        "              loss=\"binary_crossentropy\",\n",
        "              metrics=[\"accuracy\"])"
      ]
    },
    {
      "cell_type": "markdown",
      "metadata": {
        "id": "0BmhZ3ZyJ9np"
      },
      "source": [
        "### Validating your approach"
      ]
    },
    {
      "cell_type": "markdown",
      "metadata": {
        "id": "nYtJqDpdJ9np"
      },
      "source": [
        "**Setting aside a validation set**"
      ]
    },
    {
      "cell_type": "code",
      "execution_count": 32,
      "metadata": {
        "id": "6WAgXAgiJ9np"
      },
      "outputs": [],
      "source": [
        "x_val = x_train[:10000]\n",
        "partial_x_train = x_train[10000:]\n",
        "y_val = y_train[:10000]\n",
        "partial_y_train = y_train[10000:]"
      ]
    },
    {
      "cell_type": "markdown",
      "metadata": {
        "id": "P1ALbx3hJ9nq"
      },
      "source": [
        "**Training your model**"
      ]
    },
    {
      "cell_type": "code",
      "execution_count": 33,
      "metadata": {
        "id": "wzO4qbLdJ9nq",
        "colab": {
          "base_uri": "https://localhost:8080/"
        },
        "outputId": "0134d997-4a4c-4ad5-8751-e1feba77ea98"
      },
      "outputs": [
        {
          "output_type": "stream",
          "name": "stdout",
          "text": [
            "Epoch 1/20\n",
            "30/30 [==============================] - 3s 85ms/step - loss: 0.5618 - accuracy: 0.7713 - val_loss: 0.4479 - val_accuracy: 0.8576\n",
            "Epoch 2/20\n",
            "30/30 [==============================] - 1s 42ms/step - loss: 0.3709 - accuracy: 0.8878 - val_loss: 0.3482 - val_accuracy: 0.8764\n",
            "Epoch 3/20\n",
            "30/30 [==============================] - 2s 51ms/step - loss: 0.2818 - accuracy: 0.9094 - val_loss: 0.3075 - val_accuracy: 0.8828\n",
            "Epoch 4/20\n",
            "30/30 [==============================] - 1s 37ms/step - loss: 0.2265 - accuracy: 0.9283 - val_loss: 0.2838 - val_accuracy: 0.8867\n",
            "Epoch 5/20\n",
            "30/30 [==============================] - 1s 34ms/step - loss: 0.1900 - accuracy: 0.9403 - val_loss: 0.2734 - val_accuracy: 0.8890\n",
            "Epoch 6/20\n",
            "30/30 [==============================] - 1s 35ms/step - loss: 0.1587 - accuracy: 0.9504 - val_loss: 0.2912 - val_accuracy: 0.8840\n",
            "Epoch 7/20\n",
            "30/30 [==============================] - 1s 32ms/step - loss: 0.1372 - accuracy: 0.9601 - val_loss: 0.2864 - val_accuracy: 0.8842\n",
            "Epoch 8/20\n",
            "30/30 [==============================] - 1s 33ms/step - loss: 0.1159 - accuracy: 0.9670 - val_loss: 0.2898 - val_accuracy: 0.8873\n",
            "Epoch 9/20\n",
            "30/30 [==============================] - 1s 32ms/step - loss: 0.1000 - accuracy: 0.9716 - val_loss: 0.3085 - val_accuracy: 0.8796\n",
            "Epoch 10/20\n",
            "30/30 [==============================] - 1s 48ms/step - loss: 0.0830 - accuracy: 0.9789 - val_loss: 0.3133 - val_accuracy: 0.8822\n",
            "Epoch 11/20\n",
            "30/30 [==============================] - 2s 58ms/step - loss: 0.0709 - accuracy: 0.9829 - val_loss: 0.3300 - val_accuracy: 0.8781\n",
            "Epoch 12/20\n",
            "30/30 [==============================] - 1s 34ms/step - loss: 0.0601 - accuracy: 0.9863 - val_loss: 0.3413 - val_accuracy: 0.8796\n",
            "Epoch 13/20\n",
            "30/30 [==============================] - 1s 31ms/step - loss: 0.0496 - accuracy: 0.9899 - val_loss: 0.3607 - val_accuracy: 0.8801\n",
            "Epoch 14/20\n",
            "30/30 [==============================] - 1s 33ms/step - loss: 0.0398 - accuracy: 0.9927 - val_loss: 0.3807 - val_accuracy: 0.8789\n",
            "Epoch 15/20\n",
            "30/30 [==============================] - 1s 32ms/step - loss: 0.0338 - accuracy: 0.9946 - val_loss: 0.4037 - val_accuracy: 0.8711\n",
            "Epoch 16/20\n",
            "30/30 [==============================] - 1s 31ms/step - loss: 0.0268 - accuracy: 0.9968 - val_loss: 0.4150 - val_accuracy: 0.8765\n",
            "Epoch 17/20\n",
            "30/30 [==============================] - 1s 32ms/step - loss: 0.0213 - accuracy: 0.9980 - val_loss: 0.4376 - val_accuracy: 0.8718\n",
            "Epoch 18/20\n",
            "30/30 [==============================] - 1s 32ms/step - loss: 0.0188 - accuracy: 0.9984 - val_loss: 0.4633 - val_accuracy: 0.8693\n",
            "Epoch 19/20\n",
            "30/30 [==============================] - 1s 33ms/step - loss: 0.0132 - accuracy: 0.9996 - val_loss: 0.5292 - val_accuracy: 0.8587\n",
            "Epoch 20/20\n",
            "30/30 [==============================] - 1s 31ms/step - loss: 0.0122 - accuracy: 0.9993 - val_loss: 0.4987 - val_accuracy: 0.8729\n"
          ]
        }
      ],
      "source": [
        "history = model.fit(partial_x_train,\n",
        "                    partial_y_train,\n",
        "                    epochs=20,\n",
        "                    batch_size=512,\n",
        "                    validation_data=(x_val, y_val))"
      ]
    },
    {
      "cell_type": "code",
      "execution_count": 34,
      "metadata": {
        "id": "1RhEst7cJ9nq",
        "colab": {
          "base_uri": "https://localhost:8080/"
        },
        "outputId": "4975bc1e-d49d-4e91-a18f-a58760000221"
      },
      "outputs": [
        {
          "output_type": "execute_result",
          "data": {
            "text/plain": [
              "dict_keys(['loss', 'accuracy', 'val_loss', 'val_accuracy'])"
            ]
          },
          "metadata": {},
          "execution_count": 34
        }
      ],
      "source": [
        "history_dict = history.history\n",
        "history_dict.keys()"
      ]
    },
    {
      "cell_type": "markdown",
      "metadata": {
        "id": "CTZV6meLJ9nq"
      },
      "source": [
        "**Plotting the training and validation loss**"
      ]
    },
    {
      "cell_type": "code",
      "execution_count": 35,
      "metadata": {
        "id": "AphwTN4cJ9nq",
        "colab": {
          "base_uri": "https://localhost:8080/",
          "height": 472
        },
        "outputId": "07db3400-b6d1-4cbb-e969-aeabbba0e2ee"
      },
      "outputs": [
        {
          "output_type": "display_data",
          "data": {
            "text/plain": [
              "<Figure size 640x480 with 1 Axes>"
            ],
            "image/png": "[encoded data removed]"
          },
          "metadata": {}
        }
      ],
      "source": [
        "# training loss는 항상 줄어들고 있음. validation loss는 줄어들때도 상승할때도 있음. 특히 4번째 epoch 이후로는 상승세를 보임\n",
        "import matplotlib.pyplot as plt\n",
        "history_dict = history.history\n",
        "loss_values = history_dict[\"loss\"]\n",
        "val_loss_values = history_dict[\"val_loss\"]\n",
        "epochs = range(1, len(loss_values) + 1)\n",
        "plt.plot(epochs, loss_values, \"bo\", label=\"Training loss\")\n",
        "plt.plot(epochs, val_loss_values, \"b\", label=\"Validation loss\")\n",
        "plt.title(\"Training and validation loss\")\n",
        "plt.xlabel(\"Epochs\")\n",
        "plt.ylabel(\"Loss\")\n",
        "plt.legend()\n",
        "plt.show()"
      ]
    },
    {
      "cell_type": "markdown",
      "metadata": {
        "id": "ZhFKyawxJ9nr"
      },
      "source": [
        "**Plotting the training and validation accuracy**"
      ]
    },
    {
      "cell_type": "code",
      "execution_count": 36,
      "metadata": {
        "id": "IVFUANShJ9nr",
        "colab": {
          "base_uri": "https://localhost:8080/",
          "height": 472
        },
        "outputId": "f71f7354-59c4-4301-9001-d2bf71683443"
      },
      "outputs": [
        {
          "output_type": "display_data",
          "data": {
            "text/plain": [
              "<Figure size 640x480 with 1 Axes>"
            ],
            "image/png": "[encoded data removed]"
          },
          "metadata": {}
        }
      ],
      "source": [
        "plt.clf()\n",
        "acc = history_dict[\"accuracy\"]\n",
        "val_acc = history_dict[\"val_accuracy\"]\n",
        "plt.plot(epochs, acc, \"bo\", label=\"Training acc\")\n",
        "plt.plot(epochs, val_acc, \"b\", label=\"Validation acc\")\n",
        "plt.title(\"Training and validation accuracy\")\n",
        "plt.xlabel(\"Epochs\")\n",
        "plt.ylabel(\"Accuracy\")\n",
        "plt.legend()\n",
        "plt.show()"
      ]
    },
    {
      "cell_type": "code",
      "source": [
        "from tensorflow import keras\n",
        "from tensorflow.keras import layers\n",
        "\n",
        "model2 = keras.Sequential([\n",
        "    layers.Dense(1, activation=\"sigmoid\")\n",
        "])"
      ],
      "metadata": {
        "id": "KjGpI31aVy7V"
      },
      "execution_count": 37,
      "outputs": []
    },
    {
      "cell_type": "code",
      "source": [
        "model2.compile(optimizer=\"rmsprop\",\n",
        "              loss=\"binary_crossentropy\",\n",
        "              metrics=[\"accuracy\"])"
      ],
      "metadata": {
        "id": "GkhtPe2IV-BV"
      },
      "execution_count": 38,
      "outputs": []
    },
    {
      "cell_type": "code",
      "source": [
        "history2 = model2.fit(partial_x_train,\n",
        "                    partial_y_train,\n",
        "                    epochs=20,\n",
        "                    batch_size=512,\n",
        "                    validation_data=(x_val, y_val))"
      ],
      "metadata": {
        "colab": {
          "base_uri": "https://localhost:8080/"
        },
        "id": "P1hHyV6DWE0-",
        "outputId": "8a8b2b75-359e-405a-f7f9-ade16445911e"
      },
      "execution_count": 39,
      "outputs": [
        {
          "output_type": "stream",
          "name": "stdout",
          "text": [
            "Epoch 1/20\n",
            "30/30 [==============================] - 3s 67ms/step - loss: 0.6121 - accuracy: 0.7566 - val_loss: 0.5603 - val_accuracy: 0.8190\n",
            "Epoch 2/20\n",
            "30/30 [==============================] - 1s 23ms/step - loss: 0.5158 - accuracy: 0.8472 - val_loss: 0.4979 - val_accuracy: 0.8389\n",
            "Epoch 3/20\n",
            "30/30 [==============================] - 1s 20ms/step - loss: 0.4557 - accuracy: 0.8699 - val_loss: 0.4532 - val_accuracy: 0.8517\n",
            "Epoch 4/20\n",
            "30/30 [==============================] - 1s 20ms/step - loss: 0.4108 - accuracy: 0.8843 - val_loss: 0.4207 - val_accuracy: 0.8584\n",
            "Epoch 5/20\n",
            "30/30 [==============================] - 1s 22ms/step - loss: 0.3760 - accuracy: 0.8933 - val_loss: 0.3942 - val_accuracy: 0.8668\n",
            "Epoch 6/20\n",
            "30/30 [==============================] - 1s 23ms/step - loss: 0.3481 - accuracy: 0.9011 - val_loss: 0.3739 - val_accuracy: 0.8717\n",
            "Epoch 7/20\n",
            "30/30 [==============================] - 1s 19ms/step - loss: 0.3251 - accuracy: 0.9059 - val_loss: 0.3577 - val_accuracy: 0.8754\n",
            "Epoch 8/20\n",
            "30/30 [==============================] - 1s 19ms/step - loss: 0.3062 - accuracy: 0.9109 - val_loss: 0.3451 - val_accuracy: 0.8792\n",
            "Epoch 9/20\n",
            "30/30 [==============================] - 1s 22ms/step - loss: 0.2903 - accuracy: 0.9157 - val_loss: 0.3342 - val_accuracy: 0.8805\n",
            "Epoch 10/20\n",
            "30/30 [==============================] - 1s 20ms/step - loss: 0.2762 - accuracy: 0.9209 - val_loss: 0.3248 - val_accuracy: 0.8844\n",
            "Epoch 11/20\n",
            "30/30 [==============================] - 1s 21ms/step - loss: 0.2639 - accuracy: 0.9231 - val_loss: 0.3174 - val_accuracy: 0.8851\n",
            "Epoch 12/20\n",
            "30/30 [==============================] - 1s 20ms/step - loss: 0.2531 - accuracy: 0.9269 - val_loss: 0.3109 - val_accuracy: 0.8875\n",
            "Epoch 13/20\n",
            "30/30 [==============================] - 1s 19ms/step - loss: 0.2435 - accuracy: 0.9294 - val_loss: 0.3055 - val_accuracy: 0.8882\n",
            "Epoch 14/20\n",
            "30/30 [==============================] - 1s 19ms/step - loss: 0.2347 - accuracy: 0.9325 - val_loss: 0.3025 - val_accuracy: 0.8877\n",
            "Epoch 15/20\n",
            "30/30 [==============================] - 1s 22ms/step - loss: 0.2270 - accuracy: 0.9349 - val_loss: 0.2970 - val_accuracy: 0.8905\n",
            "Epoch 16/20\n",
            "30/30 [==============================] - 1s 24ms/step - loss: 0.2196 - accuracy: 0.9376 - val_loss: 0.2958 - val_accuracy: 0.8874\n",
            "Epoch 17/20\n",
            "30/30 [==============================] - 1s 39ms/step - loss: 0.2132 - accuracy: 0.9391 - val_loss: 0.2908 - val_accuracy: 0.8888\n",
            "Epoch 18/20\n",
            "30/30 [==============================] - 1s 28ms/step - loss: 0.2071 - accuracy: 0.9413 - val_loss: 0.2880 - val_accuracy: 0.8896\n",
            "Epoch 19/20\n",
            "30/30 [==============================] - 1s 27ms/step - loss: 0.2016 - accuracy: 0.9432 - val_loss: 0.2863 - val_accuracy: 0.8890\n",
            "Epoch 20/20\n",
            "30/30 [==============================] - 1s 21ms/step - loss: 0.1964 - accuracy: 0.9446 - val_loss: 0.2839 - val_accuracy: 0.8899\n"
          ]
        }
      ]
    },
    {
      "cell_type": "code",
      "source": [
        "history2_dict = history2.history\n",
        "history2_dict.keys()"
      ],
      "metadata": {
        "colab": {
          "base_uri": "https://localhost:8080/"
        },
        "id": "O0FOoE92WKbp",
        "outputId": "2cdc2e30-37a9-412f-ccab-3b9b8ace36fa"
      },
      "execution_count": 40,
      "outputs": [
        {
          "output_type": "execute_result",
          "data": {
            "text/plain": [
              "dict_keys(['loss', 'accuracy', 'val_loss', 'val_accuracy'])"
            ]
          },
          "metadata": {},
          "execution_count": 40
        }
      ]
    },
    {
      "cell_type": "code",
      "source": [
        "import matplotlib.pyplot as plt\n",
        "history2_dict = history2.history\n",
        "loss_values = history2_dict[\"loss\"]\n",
        "val_loss_values = history2_dict[\"val_loss\"]\n",
        "epochs = range(1, len(loss_values) + 1)\n",
        "plt.plot(epochs, loss_values, \"bo\", label=\"Training loss\")\n",
        "plt.plot(epochs, val_loss_values, \"b\", label=\"Validation loss\")\n",
        "plt.title(\"Training and validation loss\")\n",
        "plt.xlabel(\"Epochs\")\n",
        "plt.ylabel(\"Loss\")\n",
        "plt.legend()\n",
        "plt.show()"
      ],
      "metadata": {
        "colab": {
          "base_uri": "https://localhost:8080/",
          "height": 472
        },
        "id": "0N_cYlJfWSZd",
        "outputId": "14bd350c-c087-4ff6-86e1-e4f56b709bc4"
      },
      "execution_count": 41,
      "outputs": [
        {
          "output_type": "display_data",
          "data": {
            "text/plain": [
              "<Figure size 640x480 with 1 Axes>"
            ],
            "image/png": "[encoded data removed]"
          },
          "metadata": {}
        }
      ]
    },
    {
      "cell_type": "code",
      "source": [
        "plt.clf()\n",
        "acc = history2_dict[\"accuracy\"]\n",
        "val_acc = history2_dict[\"val_accuracy\"]\n",
        "plt.plot(epochs, acc, \"bo\", label=\"Training acc\")\n",
        "plt.plot(epochs, val_acc, \"b\", label=\"Validation acc\")\n",
        "plt.title(\"Training and validation accuracy\")\n",
        "plt.xlabel(\"Epochs\")\n",
        "plt.ylabel(\"Accuracy\")\n",
        "plt.legend()\n",
        "plt.show()"
      ],
      "metadata": {
        "colab": {
          "base_uri": "https://localhost:8080/",
          "height": 472
        },
        "id": "SrOczeYoWgAM",
        "outputId": "c5e970a4-9025-465d-aae0-56014fc2d8f8"
      },
      "execution_count": 42,
      "outputs": [
        {
          "output_type": "display_data",
          "data": {
            "text/plain": [
              "<Figure size 640x480 with 1 Axes>"
            ],
            "image/png": "[encoded data removed]"
          },
          "metadata": {}
        }
      ]
    },
    {
      "cell_type": "markdown",
      "metadata": {
        "id": "KPcwRuq9J9nr"
      },
      "source": [
        "**Retraining a model from scratch**"
      ]
    },
    {
      "cell_type": "code",
      "execution_count": 43,
      "metadata": {
        "id": "2JG-dVUdJ9nr",
        "colab": {
          "base_uri": "https://localhost:8080/"
        },
        "outputId": "57818f3d-70d9-492b-b53e-63f61cb1e0f4"
      },
      "outputs": [
        {
          "output_type": "stream",
          "name": "stdout",
          "text": [
            "Epoch 1/4\n",
            "49/49 [==============================] - 2s 34ms/step - loss: 0.4596 - accuracy: 0.8165\n",
            "Epoch 2/4\n",
            "49/49 [==============================] - 1s 30ms/step - loss: 0.2739 - accuracy: 0.9016\n",
            "Epoch 3/4\n",
            "49/49 [==============================] - 1s 23ms/step - loss: 0.2156 - accuracy: 0.9225\n",
            "Epoch 4/4\n",
            "49/49 [==============================] - 1s 22ms/step - loss: 0.1847 - accuracy: 0.9332\n",
            "782/782 [==============================] - 2s 2ms/step - loss: 0.2893 - accuracy: 0.8836\n"
          ]
        }
      ],
      "source": [
        "model = keras.Sequential([\n",
        "    layers.Dense(16, activation=\"relu\"),\n",
        "    layers.Dense(16, activation=\"relu\"),\n",
        "    layers.Dense(1, activation=\"sigmoid\")\n",
        "])\n",
        "model.compile(optimizer=\"rmsprop\",\n",
        "              loss=\"binary_crossentropy\",\n",
        "              metrics=[\"accuracy\"])\n",
        "model.fit(x_train, y_train, epochs=4, batch_size=512)\n",
        "results = model.evaluate(x_test, y_test)"
      ]
    },
    {
      "cell_type": "code",
      "execution_count": 44,
      "metadata": {
        "id": "kCXA95oRJ9nr",
        "colab": {
          "base_uri": "https://localhost:8080/"
        },
        "outputId": "7c77ef16-667a-4422-b3dd-a80978c8dbab"
      },
      "outputs": [
        {
          "output_type": "execute_result",
          "data": {
            "text/plain": [
              "[0.28928762674331665, 0.8835600018501282]"
            ]
          },
          "metadata": {},
          "execution_count": 44
        }
      ],
      "source": [
        "results"
      ]
    },
    {
      "cell_type": "markdown",
      "metadata": {
        "id": "FLkBYbduJ9nr"
      },
      "source": [
        "### Using a trained model to generate predictions on new data"
      ]
    },
    {
      "cell_type": "code",
      "execution_count": 45,
      "metadata": {
        "id": "rZYc-Y3eJ9ns",
        "colab": {
          "base_uri": "https://localhost:8080/"
        },
        "outputId": "8e62a34f-598c-4ce2-ba66-4b2ff4d09a81"
      },
      "outputs": [
        {
          "output_type": "stream",
          "name": "stdout",
          "text": [
            "782/782 [==============================] - 2s 3ms/step\n"
          ]
        },
        {
          "output_type": "execute_result",
          "data": {
            "text/plain": [
              "array([[0.23110409],\n",
              "       [0.9992931 ],\n",
              "       [0.93525934],\n",
              "       ...,\n",
              "       [0.1421493 ],\n",
              "       [0.09811917],\n",
              "       [0.6617347 ]], dtype=float32)"
            ]
          },
          "metadata": {},
          "execution_count": 45
        }
      ],
      "source": [
        "model.predict(x_test)"
      ]
    },
    {
      "cell_type": "markdown",
      "metadata": {
        "id": "WAyEAYAtJ9ns"
      },
      "source": [
        "### Further experiments"
      ]
    },
    {
      "cell_type": "markdown",
      "metadata": {
        "id": "rNw4To3GJ9ns"
      },
      "source": [
        "### Wrapping up"
      ]
    },
    {
      "cell_type": "markdown",
      "metadata": {
        "id": "2AmFtzuVJ9ns"
      },
      "source": [
        "## Classifying newswires: A multiclass classification example"
      ]
    },
    {
      "cell_type": "markdown",
      "metadata": {
        "id": "ZLgR8SQfJ9nt"
      },
      "source": [
        "### The Reuters dataset"
      ]
    },
    {
      "cell_type": "markdown",
      "metadata": {
        "id": "KTLQHiKDJ9nt"
      },
      "source": [
        "**Loading the Reuters dataset**"
      ]
    },
    {
      "cell_type": "code",
      "execution_count": 46,
      "metadata": {
        "id": "rPErGvvcJ9nu"
      },
      "outputs": [],
      "source": [
        "from tensorflow.keras.datasets import reuters\n",
        "(train_data, train_labels), (test_data, test_labels) = reuters.load_data(\n",
        "    num_words=10000)"
      ]
    },
    {
      "cell_type": "code",
      "execution_count": 47,
      "metadata": {
        "id": "KRTEfpK9J9nu",
        "colab": {
          "base_uri": "https://localhost:8080/"
        },
        "outputId": "f8f844d1-e46d-4b57-c473-96ddcf94ad95"
      },
      "outputs": [
        {
          "output_type": "execute_result",
          "data": {
            "text/plain": [
              "8982"
            ]
          },
          "metadata": {},
          "execution_count": 47
        }
      ],
      "source": [
        "len(train_data)"
      ]
    },
    {
      "cell_type": "code",
      "source": [
        "train_labels[:10]"
      ],
      "metadata": {
        "colab": {
          "base_uri": "https://localhost:8080/"
        },
        "id": "MgZSfpdCY7HZ",
        "outputId": "62cfc2c0-2e6f-4061-fe27-7367a6ee5b32"
      },
      "execution_count": 48,
      "outputs": [
        {
          "output_type": "execute_result",
          "data": {
            "text/plain": [
              "array([ 3,  4,  3,  4,  4,  4,  4,  3,  3, 16])"
            ]
          },
          "metadata": {},
          "execution_count": 48
        }
      ]
    },
    {
      "cell_type": "code",
      "execution_count": 49,
      "metadata": {
        "id": "jx1gzFx-J9nw",
        "colab": {
          "base_uri": "https://localhost:8080/"
        },
        "outputId": "fc5f9eda-58ae-4723-f124-7196a3138653"
      },
      "outputs": [
        {
          "output_type": "execute_result",
          "data": {
            "text/plain": [
              "2246"
            ]
          },
          "metadata": {},
          "execution_count": 49
        }
      ],
      "source": [
        "len(test_data)"
      ]
    },
    {
      "cell_type": "code",
      "execution_count": 50,
      "metadata": {
        "id": "EjjsPMBeJ9nw",
        "colab": {
          "base_uri": "https://localhost:8080/"
        },
        "outputId": "981ab2d3-18ee-4ba7-e150-6582e778150e"
      },
      "outputs": [
        {
          "output_type": "execute_result",
          "data": {
            "text/plain": [
              "[1,\n",
              " 245,\n",
              " 273,\n",
              " 207,\n",
              " 156,\n",
              " 53,\n",
              " 74,\n",
              " 160,\n",
              " 26,\n",
              " 14,\n",
              " 46,\n",
              " 296,\n",
              " 26,\n",
              " 39,\n",
              " 74,\n",
              " 2979,\n",
              " 3554,\n",
              " 14,\n",
              " 46,\n",
              " 4689,\n",
              " 4329,\n",
              " 86,\n",
              " 61,\n",
              " 3499,\n",
              " 4795,\n",
              " 14,\n",
              " 61,\n",
              " 451,\n",
              " 4329,\n",
              " 17,\n",
              " 12]"
            ]
          },
          "metadata": {},
          "execution_count": 50
        }
      ],
      "source": [
        "train_data[10]"
      ]
    },
    {
      "cell_type": "markdown",
      "metadata": {
        "id": "hjrfjbogJ9nx"
      },
      "source": [
        "**Decoding newswires back to text**"
      ]
    },
    {
      "cell_type": "code",
      "execution_count": 51,
      "metadata": {
        "id": "o4V7c88dJ9nx"
      },
      "outputs": [],
      "source": [
        "word_index = reuters.get_word_index()\n",
        "reverse_word_index = dict([(value, key) for (key, value) in word_index.items()])\n",
        "decoded_newswire = \" \".join([reverse_word_index.get(i - 3, \"?\") for i in\n",
        "    train_data[0]])"
      ]
    },
    {
      "cell_type": "code",
      "execution_count": 52,
      "metadata": {
        "id": "F5Ka7dlNJ9nx",
        "colab": {
          "base_uri": "https://localhost:8080/"
        },
        "outputId": "6c0b7a7e-8098-4d45-b747-9de7b3ab3eb7"
      },
      "outputs": [
        {
          "output_type": "execute_result",
          "data": {
            "text/plain": [
              "3"
            ]
          },
          "metadata": {},
          "execution_count": 52
        }
      ],
      "source": [
        "train_labels[10]"
      ]
    },
    {
      "cell_type": "markdown",
      "metadata": {
        "id": "-uvbG-PoJ9nx"
      },
      "source": [
        "### Preparing the data"
      ]
    },
    {
      "cell_type": "markdown",
      "metadata": {
        "id": "JcDOa04UJ9nx"
      },
      "source": [
        "**Encoding the input data**"
      ]
    },
    {
      "cell_type": "code",
      "execution_count": 53,
      "metadata": {
        "id": "xDsQ_pRYJ9ny"
      },
      "outputs": [],
      "source": [
        "x_train = vectorize_sequences(train_data)\n",
        "x_test = vectorize_sequences(test_data)"
      ]
    },
    {
      "cell_type": "markdown",
      "metadata": {
        "id": "EdxDVxmCJ9ny"
      },
      "source": [
        "**Encoding the labels**"
      ]
    },
    {
      "cell_type": "code",
      "execution_count": 54,
      "metadata": {
        "id": "Rh5Z9uClJ9ny"
      },
      "outputs": [],
      "source": [
        "def to_one_hot(labels, dimension=46):\n",
        "    results = np.zeros((len(labels), dimension))\n",
        "    for i, label in enumerate(labels):\n",
        "        results[i, label] = 1.\n",
        "    return results\n",
        "y_train = to_one_hot(train_labels)\n",
        "y_test = to_one_hot(test_labels)"
      ]
    },
    {
      "cell_type": "code",
      "execution_count": 55,
      "metadata": {
        "id": "FLp9s7hDJ9ny"
      },
      "outputs": [],
      "source": [
        "from tensorflow.keras.utils import to_categorical\n",
        "y_train = to_categorical(train_labels)\n",
        "y_test = to_categorical(test_labels)"
      ]
    },
    {
      "cell_type": "markdown",
      "metadata": {
        "id": "IOAJFuHBJ9nz"
      },
      "source": [
        "### Building your model"
      ]
    },
    {
      "cell_type": "markdown",
      "metadata": {
        "id": "SVd2IqahJ9nz"
      },
      "source": [
        "**Model definition**"
      ]
    },
    {
      "cell_type": "code",
      "execution_count": 56,
      "metadata": {
        "id": "CbS9p-MwJ9nz"
      },
      "outputs": [],
      "source": [
        "model = keras.Sequential([\n",
        "    layers.Dense(64, activation=\"relu\"),\n",
        "    layers.Dense(64, activation=\"relu\"),\n",
        "    layers.Dense(46, activation=\"softmax\")\n",
        "])"
      ]
    },
    {
      "cell_type": "markdown",
      "metadata": {
        "id": "M2CfJUPgJ9nz"
      },
      "source": [
        "**Compiling the model**"
      ]
    },
    {
      "cell_type": "code",
      "execution_count": 57,
      "metadata": {
        "id": "WlxWcveAJ9nz"
      },
      "outputs": [],
      "source": [
        "model.compile(optimizer=\"rmsprop\",\n",
        "              loss=\"categorical_crossentropy\",\n",
        "              metrics=[\"accuracy\"])"
      ]
    },
    {
      "cell_type": "markdown",
      "metadata": {
        "id": "GohXxLYBJ9nz"
      },
      "source": [
        "### Validating your approach"
      ]
    },
    {
      "cell_type": "markdown",
      "metadata": {
        "id": "NRnB3zLpJ9n0"
      },
      "source": [
        "**Setting aside a validation set**"
      ]
    },
    {
      "cell_type": "code",
      "execution_count": 58,
      "metadata": {
        "id": "zS95iS96J9n0"
      },
      "outputs": [],
      "source": [
        "x_val = x_train[:1000]\n",
        "partial_x_train = x_train[1000:]\n",
        "y_val = y_train[:1000]\n",
        "partial_y_train = y_train[1000:]"
      ]
    },
    {
      "cell_type": "markdown",
      "metadata": {
        "id": "p3-bs3RMJ9n0"
      },
      "source": [
        "**Training the model**"
      ]
    },
    {
      "cell_type": "code",
      "execution_count": 59,
      "metadata": {
        "id": "Q1Ws29c4J9n0",
        "colab": {
          "base_uri": "https://localhost:8080/"
        },
        "outputId": "de599e1f-b8dc-4cf1-8e72-3014ef708d5b"
      },
      "outputs": [
        {
          "output_type": "stream",
          "name": "stdout",
          "text": [
            "Epoch 1/20\n",
            "16/16 [==============================] - 2s 67ms/step - loss: 2.8357 - accuracy: 0.4945 - val_loss: 1.9414 - val_accuracy: 0.6130\n",
            "Epoch 2/20\n",
            "16/16 [==============================] - 1s 49ms/step - loss: 1.6063 - accuracy: 0.6756 - val_loss: 1.4001 - val_accuracy: 0.6940\n",
            "Epoch 3/20\n",
            "16/16 [==============================] - 1s 47ms/step - loss: 1.1908 - accuracy: 0.7429 - val_loss: 1.1958 - val_accuracy: 0.7410\n",
            "Epoch 4/20\n",
            "16/16 [==============================] - 1s 47ms/step - loss: 0.9709 - accuracy: 0.7913 - val_loss: 1.0803 - val_accuracy: 0.7750\n",
            "Epoch 5/20\n",
            "16/16 [==============================] - 1s 45ms/step - loss: 0.8049 - accuracy: 0.8280 - val_loss: 1.0184 - val_accuracy: 0.7870\n",
            "Epoch 6/20\n",
            "16/16 [==============================] - 1s 55ms/step - loss: 0.6707 - accuracy: 0.8588 - val_loss: 0.9807 - val_accuracy: 0.7870\n",
            "Epoch 7/20\n",
            "16/16 [==============================] - 1s 80ms/step - loss: 0.5626 - accuracy: 0.8815 - val_loss: 0.9391 - val_accuracy: 0.7960\n",
            "Epoch 8/20\n",
            "16/16 [==============================] - 1s 72ms/step - loss: 0.4727 - accuracy: 0.9003 - val_loss: 0.8794 - val_accuracy: 0.8160\n",
            "Epoch 9/20\n",
            "16/16 [==============================] - 1s 47ms/step - loss: 0.4017 - accuracy: 0.9142 - val_loss: 0.8881 - val_accuracy: 0.8130\n",
            "Epoch 10/20\n",
            "16/16 [==============================] - 1s 45ms/step - loss: 0.3411 - accuracy: 0.9273 - val_loss: 0.9354 - val_accuracy: 0.7850\n",
            "Epoch 11/20\n",
            "16/16 [==============================] - 1s 45ms/step - loss: 0.3000 - accuracy: 0.9317 - val_loss: 0.9174 - val_accuracy: 0.7980\n",
            "Epoch 12/20\n",
            "16/16 [==============================] - 1s 48ms/step - loss: 0.2623 - accuracy: 0.9401 - val_loss: 0.8992 - val_accuracy: 0.8050\n",
            "Epoch 13/20\n",
            "16/16 [==============================] - 1s 49ms/step - loss: 0.2296 - accuracy: 0.9454 - val_loss: 0.9330 - val_accuracy: 0.8050\n",
            "Epoch 14/20\n",
            "16/16 [==============================] - 1s 43ms/step - loss: 0.2076 - accuracy: 0.9484 - val_loss: 0.8982 - val_accuracy: 0.8100\n",
            "Epoch 15/20\n",
            "16/16 [==============================] - 1s 45ms/step - loss: 0.1933 - accuracy: 0.9519 - val_loss: 0.9087 - val_accuracy: 0.8180\n",
            "Epoch 16/20\n",
            "16/16 [==============================] - 1s 44ms/step - loss: 0.1743 - accuracy: 0.9515 - val_loss: 0.9188 - val_accuracy: 0.8200\n",
            "Epoch 17/20\n",
            "16/16 [==============================] - 1s 46ms/step - loss: 0.1574 - accuracy: 0.9548 - val_loss: 0.9549 - val_accuracy: 0.8060\n",
            "Epoch 18/20\n",
            "16/16 [==============================] - 1s 42ms/step - loss: 0.1493 - accuracy: 0.9558 - val_loss: 0.9895 - val_accuracy: 0.8050\n",
            "Epoch 19/20\n",
            "16/16 [==============================] - 1s 47ms/step - loss: 0.1416 - accuracy: 0.9568 - val_loss: 0.9648 - val_accuracy: 0.8110\n",
            "Epoch 20/20\n",
            "16/16 [==============================] - 1s 46ms/step - loss: 0.1364 - accuracy: 0.9544 - val_loss: 0.9482 - val_accuracy: 0.8010\n"
          ]
        }
      ],
      "source": [
        "history = model.fit(partial_x_train,\n",
        "                    partial_y_train,\n",
        "                    epochs=20,\n",
        "                    batch_size=512,\n",
        "                    validation_data=(x_val, y_val))"
      ]
    },
    {
      "cell_type": "markdown",
      "metadata": {
        "id": "4vEafsGcJ9n0"
      },
      "source": [
        "**Plotting the training and validation loss**"
      ]
    },
    {
      "cell_type": "code",
      "execution_count": 60,
      "metadata": {
        "id": "U7K1JFBGJ9n1",
        "colab": {
          "base_uri": "https://localhost:8080/",
          "height": 472
        },
        "outputId": "1dbdfd48-1d6e-4672-ecd5-b8b3005fec81"
      },
      "outputs": [
        {
          "output_type": "display_data",
          "data": {
            "text/plain": [
              "<Figure size 640x480 with 1 Axes>"
            ],
            "image/png": "[encoded data removed]"
          },
          "metadata": {}
        }
      ],
      "source": [
        "loss = history.history[\"loss\"]\n",
        "val_loss = history.history[\"val_loss\"]\n",
        "epochs = range(1, len(loss) + 1)\n",
        "plt.plot(epochs, loss, \"bo\", label=\"Training loss\")\n",
        "plt.plot(epochs, val_loss, \"b\", label=\"Validation loss\")\n",
        "plt.title(\"Training and validation loss\")\n",
        "plt.xlabel(\"Epochs\")\n",
        "plt.ylabel(\"Loss\")\n",
        "plt.legend()\n",
        "plt.show()"
      ]
    },
    {
      "cell_type": "markdown",
      "metadata": {
        "id": "BACg6z52J9n2"
      },
      "source": [
        "**Plotting the training and validation accuracy**"
      ]
    },
    {
      "cell_type": "code",
      "execution_count": 61,
      "metadata": {
        "id": "dsgR4s70J9n2",
        "colab": {
          "base_uri": "https://localhost:8080/",
          "height": 472
        },
        "outputId": "dbc9e916-18ef-42d9-99d7-3913651fdae6"
      },
      "outputs": [
        {
          "output_type": "display_data",
          "data": {
            "text/plain": [
              "<Figure size 640x480 with 1 Axes>"
            ],
            "image/png": "[encoded data removed]"
          },
          "metadata": {}
        }
      ],
      "source": [
        "plt.clf()\n",
        "acc = history.history[\"accuracy\"]\n",
        "val_acc = history.history[\"val_accuracy\"]\n",
        "plt.plot(epochs, acc, \"bo\", label=\"Training accuracy\")\n",
        "plt.plot(epochs, val_acc, \"b\", label=\"Validation accuracy\")\n",
        "plt.title(\"Training and validation accuracy\")\n",
        "plt.xlabel(\"Epochs\")\n",
        "plt.ylabel(\"Accuracy\")\n",
        "plt.legend()\n",
        "plt.show()"
      ]
    },
    {
      "cell_type": "markdown",
      "metadata": {
        "id": "Ho2FPWWcJ9n2"
      },
      "source": [
        "**Retraining a model from scratch**"
      ]
    },
    {
      "cell_type": "code",
      "execution_count": 62,
      "metadata": {
        "id": "aWYgPYAbJ9n2",
        "colab": {
          "base_uri": "https://localhost:8080/"
        },
        "outputId": "987052c7-2ab9-4030-c639-91916edb4b69"
      },
      "outputs": [
        {
          "output_type": "stream",
          "name": "stdout",
          "text": [
            "Epoch 1/9\n",
            "18/18 [==============================] - 2s 49ms/step - loss: 2.6224 - accuracy: 0.5313\n",
            "Epoch 2/9\n",
            "18/18 [==============================] - 1s 40ms/step - loss: 1.4459 - accuracy: 0.6937\n",
            "Epoch 3/9\n",
            "18/18 [==============================] - 1s 41ms/step - loss: 1.1033 - accuracy: 0.7585\n",
            "Epoch 4/9\n",
            "18/18 [==============================] - 1s 41ms/step - loss: 0.9027 - accuracy: 0.8018\n",
            "Epoch 5/9\n",
            "18/18 [==============================] - 1s 43ms/step - loss: 0.7499 - accuracy: 0.8361\n",
            "Epoch 6/9\n",
            "18/18 [==============================] - 1s 67ms/step - loss: 0.6187 - accuracy: 0.8674\n",
            "Epoch 7/9\n",
            "18/18 [==============================] - 1s 63ms/step - loss: 0.5141 - accuracy: 0.8916\n",
            "Epoch 8/9\n",
            "18/18 [==============================] - 1s 46ms/step - loss: 0.4314 - accuracy: 0.9058\n",
            "Epoch 9/9\n",
            "18/18 [==============================] - 1s 40ms/step - loss: 0.3628 - accuracy: 0.9235\n",
            "71/71 [==============================] - 1s 6ms/step - loss: 0.9101 - accuracy: 0.7934\n"
          ]
        }
      ],
      "source": [
        "model = keras.Sequential([\n",
        "  layers.Dense(64, activation=\"relu\"),\n",
        "  layers.Dense(64, activation=\"relu\"),\n",
        "  layers.Dense(46, activation=\"softmax\")\n",
        "])\n",
        "model.compile(optimizer=\"rmsprop\",\n",
        "              loss=\"categorical_crossentropy\",\n",
        "              metrics=[\"accuracy\"])\n",
        "model.fit(x_train,\n",
        "          y_train,\n",
        "          epochs=9,\n",
        "          batch_size=512)\n",
        "results = model.evaluate(x_test, y_test)"
      ]
    },
    {
      "cell_type": "code",
      "execution_count": 63,
      "metadata": {
        "id": "H-79IAFNJ9n3",
        "colab": {
          "base_uri": "https://localhost:8080/"
        },
        "outputId": "f2f4fdc5-ab14-4901-bdf3-301560a22594"
      },
      "outputs": [
        {
          "output_type": "execute_result",
          "data": {
            "text/plain": [
              "[0.9101163744926453, 0.7934104800224304]"
            ]
          },
          "metadata": {},
          "execution_count": 63
        }
      ],
      "source": [
        "results"
      ]
    },
    {
      "cell_type": "code",
      "execution_count": 64,
      "metadata": {
        "id": "scgkDVCyJ9n3",
        "colab": {
          "base_uri": "https://localhost:8080/"
        },
        "outputId": "be8a7ce2-3039-4c77-c0d5-dd20636ed637"
      },
      "outputs": [
        {
          "output_type": "execute_result",
          "data": {
            "text/plain": [
              "0.18388245770258238"
            ]
          },
          "metadata": {},
          "execution_count": 64
        }
      ],
      "source": [
        "import copy\n",
        "test_labels_copy = copy.copy(test_labels)\n",
        "np.random.shuffle(test_labels_copy)\n",
        "hits_array = np.array(test_labels) == np.array(test_labels_copy)\n",
        "hits_array.mean()"
      ]
    },
    {
      "cell_type": "markdown",
      "metadata": {
        "id": "8dueaHDBJ9n3"
      },
      "source": [
        "### Generating predictions on new data"
      ]
    },
    {
      "cell_type": "code",
      "execution_count": 65,
      "metadata": {
        "id": "s8qHGmkiJ9n3",
        "colab": {
          "base_uri": "https://localhost:8080/"
        },
        "outputId": "09775ed1-2241-42c0-f2ee-807b4d459b1a"
      },
      "outputs": [
        {
          "output_type": "stream",
          "name": "stdout",
          "text": [
            "71/71 [==============================] - 0s 5ms/step\n"
          ]
        }
      ],
      "source": [
        "predictions = model.predict(x_test)"
      ]
    },
    {
      "cell_type": "code",
      "execution_count": 66,
      "metadata": {
        "id": "htAd6C-sJ9n3",
        "colab": {
          "base_uri": "https://localhost:8080/"
        },
        "outputId": "7091d909-408e-46dc-c318-d0e32668fcf3"
      },
      "outputs": [
        {
          "output_type": "execute_result",
          "data": {
            "text/plain": [
              "(46,)"
            ]
          },
          "metadata": {},
          "execution_count": 66
        }
      ],
      "source": [
        "predictions[0].shape"
      ]
    },
    {
      "cell_type": "code",
      "execution_count": 67,
      "metadata": {
        "id": "t4eB-xUMJ9n4",
        "colab": {
          "base_uri": "https://localhost:8080/"
        },
        "outputId": "c2bf702b-1a6e-42db-ab3a-873b325965b7"
      },
      "outputs": [
        {
          "output_type": "execute_result",
          "data": {
            "text/plain": [
              "1.0"
            ]
          },
          "metadata": {},
          "execution_count": 67
        }
      ],
      "source": [
        "np.sum(predictions[0])"
      ]
    },
    {
      "cell_type": "code",
      "execution_count": 68,
      "metadata": {
        "id": "FyU1bjIkJ9n4",
        "colab": {
          "base_uri": "https://localhost:8080/"
        },
        "outputId": "e5ba60fb-1133-4efd-a0a5-a92791afaa6c"
      },
      "outputs": [
        {
          "output_type": "execute_result",
          "data": {
            "text/plain": [
              "3"
            ]
          },
          "metadata": {},
          "execution_count": 68
        }
      ],
      "source": [
        "np.argmax(predictions[0])"
      ]
    },
    {
      "cell_type": "markdown",
      "metadata": {
        "id": "Uf7rx7SmJ9n4"
      },
      "source": [
        "### A different way to handle the labels and the loss"
      ]
    },
    {
      "cell_type": "code",
      "execution_count": 69,
      "metadata": {
        "id": "toWUFU4gJ9n4"
      },
      "outputs": [],
      "source": [
        "y_train = np.array(train_labels)\n",
        "y_test = np.array(test_labels)"
      ]
    },
    {
      "cell_type": "code",
      "execution_count": 70,
      "metadata": {
        "id": "8qU-p152J9n4"
      },
      "outputs": [],
      "source": [
        "model.compile(optimizer=\"rmsprop\",\n",
        "              loss=\"sparse_categorical_crossentropy\",\n",
        "              metrics=[\"accuracy\"])"
      ]
    },
    {
      "cell_type": "markdown",
      "metadata": {
        "id": "S9YKnLkIJ9n4"
      },
      "source": [
        "### The importance of having sufficiently large intermediate layers"
      ]
    },
    {
      "cell_type": "markdown",
      "metadata": {
        "id": "dSUNo7e3J9n5"
      },
      "source": [
        "**A model with an information bottleneck**"
      ]
    },
    {
      "cell_type": "code",
      "execution_count": 71,
      "metadata": {
        "id": "RMZmXzOaJ9n7",
        "colab": {
          "base_uri": "https://localhost:8080/"
        },
        "outputId": "612f25c3-a9de-448e-b1a2-27270bc1c69a"
      },
      "outputs": [
        {
          "output_type": "stream",
          "name": "stdout",
          "text": [
            "Epoch 1/20\n",
            "63/63 [==============================] - 2s 19ms/step - loss: 3.7098 - accuracy: 0.1145 - val_loss: 3.5309 - val_accuracy: 0.0630\n",
            "Epoch 2/20\n",
            "63/63 [==============================] - 1s 15ms/step - loss: 3.1917 - accuracy: 0.0758 - val_loss: 2.7119 - val_accuracy: 0.0890\n",
            "Epoch 3/20\n",
            "63/63 [==============================] - 1s 15ms/step - loss: 2.0957 - accuracy: 0.3973 - val_loss: 1.7951 - val_accuracy: 0.4510\n",
            "Epoch 4/20\n",
            "63/63 [==============================] - 1s 15ms/step - loss: 1.5743 - accuracy: 0.5857 - val_loss: 1.5592 - val_accuracy: 0.6150\n",
            "Epoch 5/20\n",
            "63/63 [==============================] - 1s 15ms/step - loss: 1.3687 - accuracy: 0.6312 - val_loss: 1.4584 - val_accuracy: 0.6220\n",
            "Epoch 6/20\n",
            "63/63 [==============================] - 1s 15ms/step - loss: 1.2335 - accuracy: 0.6503 - val_loss: 1.3991 - val_accuracy: 0.6350\n",
            "Epoch 7/20\n",
            "63/63 [==============================] - 1s 16ms/step - loss: 1.1163 - accuracy: 0.6873 - val_loss: 1.3677 - val_accuracy: 0.6520\n",
            "Epoch 8/20\n",
            "63/63 [==============================] - 1s 15ms/step - loss: 1.0140 - accuracy: 0.7314 - val_loss: 1.3179 - val_accuracy: 0.6820\n",
            "Epoch 9/20\n",
            "63/63 [==============================] - 1s 15ms/step - loss: 0.9207 - accuracy: 0.7669 - val_loss: 1.3051 - val_accuracy: 0.7020\n",
            "Epoch 10/20\n",
            "63/63 [==============================] - 1s 23ms/step - loss: 0.8411 - accuracy: 0.7879 - val_loss: 1.2995 - val_accuracy: 0.7120\n",
            "Epoch 11/20\n",
            "63/63 [==============================] - 1s 22ms/step - loss: 0.7734 - accuracy: 0.8054 - val_loss: 1.2932 - val_accuracy: 0.7150\n",
            "Epoch 12/20\n",
            "63/63 [==============================] - 1s 15ms/step - loss: 0.7150 - accuracy: 0.8150 - val_loss: 1.2943 - val_accuracy: 0.7140\n",
            "Epoch 13/20\n",
            "63/63 [==============================] - 1s 15ms/step - loss: 0.6627 - accuracy: 0.8257 - val_loss: 1.3335 - val_accuracy: 0.7140\n",
            "Epoch 14/20\n",
            "63/63 [==============================] - 1s 15ms/step - loss: 0.6187 - accuracy: 0.8327 - val_loss: 1.3346 - val_accuracy: 0.7160\n",
            "Epoch 15/20\n",
            "63/63 [==============================] - 1s 16ms/step - loss: 0.5812 - accuracy: 0.8391 - val_loss: 1.3839 - val_accuracy: 0.7210\n",
            "Epoch 16/20\n",
            "63/63 [==============================] - 1s 16ms/step - loss: 0.5481 - accuracy: 0.8464 - val_loss: 1.4415 - val_accuracy: 0.7150\n",
            "Epoch 17/20\n",
            "63/63 [==============================] - 1s 16ms/step - loss: 0.5167 - accuracy: 0.8554 - val_loss: 1.4484 - val_accuracy: 0.7150\n",
            "Epoch 18/20\n",
            "63/63 [==============================] - 1s 15ms/step - loss: 0.4938 - accuracy: 0.8634 - val_loss: 1.4400 - val_accuracy: 0.7140\n",
            "Epoch 19/20\n",
            "63/63 [==============================] - 1s 15ms/step - loss: 0.4676 - accuracy: 0.8708 - val_loss: 1.4834 - val_accuracy: 0.7130\n",
            "Epoch 20/20\n",
            "63/63 [==============================] - 1s 15ms/step - loss: 0.4476 - accuracy: 0.8760 - val_loss: 1.5468 - val_accuracy: 0.7120\n"
          ]
        },
        {
          "output_type": "execute_result",
          "data": {
            "text/plain": [
              "<keras.src.callbacks.History at 0x78c34a747d30>"
            ]
          },
          "metadata": {},
          "execution_count": 71
        }
      ],
      "source": [
        "# sparse_categorical_crossentropy와 categorical_crossentropy를 사용하는 시점의 차이를 알아야 함.\n",
        "# 전자의 경우 데이터가 기본적인 정수 형태([1,2,3])라면, 후자의 경우는 원-핫 벡터 형태([0,1,0])로 변형되었음.\n",
        "model = keras.Sequential([\n",
        "    layers.Dense(64, activation=\"relu\"),\n",
        "    layers.Dense(4, activation=\"relu\"),\n",
        "    layers.Dense(46, activation=\"softmax\")\n",
        "])\n",
        "model.compile(optimizer=\"rmsprop\",\n",
        "              loss=\"categorical_crossentropy\",\n",
        "              metrics=[\"accuracy\"])\n",
        "model.fit(partial_x_train,\n",
        "          partial_y_train,\n",
        "          epochs=20,\n",
        "          batch_size=128,\n",
        "          validation_data=(x_val, y_val))"
      ]
    },
    {
      "cell_type": "markdown",
      "metadata": {
        "id": "2tXLH1HbJ9n7"
      },
      "source": [
        "### Further experiments"
      ]
    },
    {
      "cell_type": "markdown",
      "metadata": {
        "id": "2GpIVMH8J9n8"
      },
      "source": [
        "### Wrapping up"
      ]
    },
    {
      "cell_type": "markdown",
      "metadata": {
        "id": "Y5p3Cp3ZJ9n8"
      },
      "source": [
        "## Predicting house prices: A regression example"
      ]
    },
    {
      "cell_type": "markdown",
      "metadata": {
        "id": "UmIpOuM3J9n8"
      },
      "source": [
        "### The Boston Housing Price dataset"
      ]
    },
    {
      "cell_type": "markdown",
      "metadata": {
        "id": "Uy_NayNVJ9n8"
      },
      "source": [
        "**Loading the Boston housing dataset**"
      ]
    },
    {
      "cell_type": "code",
      "execution_count": 72,
      "metadata": {
        "id": "qF677VkrJ9n8",
        "colab": {
          "base_uri": "https://localhost:8080/"
        },
        "outputId": "28988e17-3941-4b3a-e0d9-647af6b7d49e"
      },
      "outputs": [
        {
          "output_type": "stream",
          "name": "stdout",
          "text": [
            "Downloading data from https://storage.googleapis.com/tensorflow/tf-keras-datasets/boston_housing.npz\n",
            "57026/57026 [==============================] - 0s 0us/step\n"
          ]
        }
      ],
      "source": [
        "from tensorflow.keras.datasets import boston_housing\n",
        "(train_data, train_targets), (test_data, test_targets) = boston_housing.load_data()"
      ]
    },
    {
      "cell_type": "code",
      "execution_count": 73,
      "metadata": {
        "id": "9VcimB2IJ9n8",
        "colab": {
          "base_uri": "https://localhost:8080/"
        },
        "outputId": "9e71ee40-92a4-40c9-c33c-7bd0ad47cb72"
      },
      "outputs": [
        {
          "output_type": "execute_result",
          "data": {
            "text/plain": [
              "(404, 13)"
            ]
          },
          "metadata": {},
          "execution_count": 73
        }
      ],
      "source": [
        "train_data.shape"
      ]
    },
    {
      "cell_type": "code",
      "execution_count": 74,
      "metadata": {
        "id": "aAVl4Sh5J9n9",
        "colab": {
          "base_uri": "https://localhost:8080/"
        },
        "outputId": "cf436dc7-2b22-4ad2-a631-7f41a0e9a64a"
      },
      "outputs": [
        {
          "output_type": "execute_result",
          "data": {
            "text/plain": [
              "(102, 13)"
            ]
          },
          "metadata": {},
          "execution_count": 74
        }
      ],
      "source": [
        "test_data.shape"
      ]
    },
    {
      "cell_type": "code",
      "execution_count": 75,
      "metadata": {
        "id": "4G2vnoqFJ9n9",
        "colab": {
          "base_uri": "https://localhost:8080/"
        },
        "outputId": "d6233b2b-f832-45c7-a315-adb8b232e0ab"
      },
      "outputs": [
        {
          "output_type": "execute_result",
          "data": {
            "text/plain": [
              "array([15.2, 42.3, 50. , 21.1, 17.7, 18.5, 11.3, 15.6, 15.6, 14.4, 12.1,\n",
              "       17.9, 23.1, 19.9, 15.7,  8.8, 50. , 22.5, 24.1, 27.5, 10.9, 30.8,\n",
              "       32.9, 24. , 18.5, 13.3, 22.9, 34.7, 16.6, 17.5, 22.3, 16.1, 14.9,\n",
              "       23.1, 34.9, 25. , 13.9, 13.1, 20.4, 20. , 15.2, 24.7, 22.2, 16.7,\n",
              "       12.7, 15.6, 18.4, 21. , 30.1, 15.1, 18.7,  9.6, 31.5, 24.8, 19.1,\n",
              "       22. , 14.5, 11. , 32. , 29.4, 20.3, 24.4, 14.6, 19.5, 14.1, 14.3,\n",
              "       15.6, 10.5,  6.3, 19.3, 19.3, 13.4, 36.4, 17.8, 13.5, 16.5,  8.3,\n",
              "       14.3, 16. , 13.4, 28.6, 43.5, 20.2, 22. , 23. , 20.7, 12.5, 48.5,\n",
              "       14.6, 13.4, 23.7, 50. , 21.7, 39.8, 38.7, 22.2, 34.9, 22.5, 31.1,\n",
              "       28.7, 46. , 41.7, 21. , 26.6, 15. , 24.4, 13.3, 21.2, 11.7, 21.7,\n",
              "       19.4, 50. , 22.8, 19.7, 24.7, 36.2, 14.2, 18.9, 18.3, 20.6, 24.6,\n",
              "       18.2,  8.7, 44. , 10.4, 13.2, 21.2, 37. , 30.7, 22.9, 20. , 19.3,\n",
              "       31.7, 32. , 23.1, 18.8, 10.9, 50. , 19.6,  5. , 14.4, 19.8, 13.8,\n",
              "       19.6, 23.9, 24.5, 25. , 19.9, 17.2, 24.6, 13.5, 26.6, 21.4, 11.9,\n",
              "       22.6, 19.6,  8.5, 23.7, 23.1, 22.4, 20.5, 23.6, 18.4, 35.2, 23.1,\n",
              "       27.9, 20.6, 23.7, 28. , 13.6, 27.1, 23.6, 20.6, 18.2, 21.7, 17.1,\n",
              "        8.4, 25.3, 13.8, 22.2, 18.4, 20.7, 31.6, 30.5, 20.3,  8.8, 19.2,\n",
              "       19.4, 23.1, 23. , 14.8, 48.8, 22.6, 33.4, 21.1, 13.6, 32.2, 13.1,\n",
              "       23.4, 18.9, 23.9, 11.8, 23.3, 22.8, 19.6, 16.7, 13.4, 22.2, 20.4,\n",
              "       21.8, 26.4, 14.9, 24.1, 23.8, 12.3, 29.1, 21. , 19.5, 23.3, 23.8,\n",
              "       17.8, 11.5, 21.7, 19.9, 25. , 33.4, 28.5, 21.4, 24.3, 27.5, 33.1,\n",
              "       16.2, 23.3, 48.3, 22.9, 22.8, 13.1, 12.7, 22.6, 15. , 15.3, 10.5,\n",
              "       24. , 18.5, 21.7, 19.5, 33.2, 23.2,  5. , 19.1, 12.7, 22.3, 10.2,\n",
              "       13.9, 16.3, 17. , 20.1, 29.9, 17.2, 37.3, 45.4, 17.8, 23.2, 29. ,\n",
              "       22. , 18. , 17.4, 34.6, 20.1, 25. , 15.6, 24.8, 28.2, 21.2, 21.4,\n",
              "       23.8, 31. , 26.2, 17.4, 37.9, 17.5, 20. ,  8.3, 23.9,  8.4, 13.8,\n",
              "        7.2, 11.7, 17.1, 21.6, 50. , 16.1, 20.4, 20.6, 21.4, 20.6, 36.5,\n",
              "        8.5, 24.8, 10.8, 21.9, 17.3, 18.9, 36.2, 14.9, 18.2, 33.3, 21.8,\n",
              "       19.7, 31.6, 24.8, 19.4, 22.8,  7.5, 44.8, 16.8, 18.7, 50. , 50. ,\n",
              "       19.5, 20.1, 50. , 17.2, 20.8, 19.3, 41.3, 20.4, 20.5, 13.8, 16.5,\n",
              "       23.9, 20.6, 31.5, 23.3, 16.8, 14. , 33.8, 36.1, 12.8, 18.3, 18.7,\n",
              "       19.1, 29. , 30.1, 50. , 50. , 22. , 11.9, 37.6, 50. , 22.7, 20.8,\n",
              "       23.5, 27.9, 50. , 19.3, 23.9, 22.6, 15.2, 21.7, 19.2, 43.8, 20.3,\n",
              "       33.2, 19.9, 22.5, 32.7, 22. , 17.1, 19. , 15. , 16.1, 25.1, 23.7,\n",
              "       28.7, 37.2, 22.6, 16.4, 25. , 29.8, 22.1, 17.4, 18.1, 30.3, 17.5,\n",
              "       24.7, 12.6, 26.5, 28.7, 13.3, 10.4, 24.4, 23. , 20. , 17.8,  7. ,\n",
              "       11.8, 24.4, 13.8, 19.4, 25.2, 19.4, 19.4, 29.1])"
            ]
          },
          "metadata": {},
          "execution_count": 75
        }
      ],
      "source": [
        "train_targets"
      ]
    },
    {
      "cell_type": "markdown",
      "metadata": {
        "id": "EJzsbWazJ9n9"
      },
      "source": [
        "### Preparing the data"
      ]
    },
    {
      "cell_type": "markdown",
      "metadata": {
        "id": "93oe7SIfJ9n9"
      },
      "source": [
        "**Normalizing the data**"
      ]
    },
    {
      "cell_type": "code",
      "execution_count": 76,
      "metadata": {
        "id": "sr96vEOaJ9n9"
      },
      "outputs": [],
      "source": [
        "mean = train_data.mean(axis=0)\n",
        "train_data -= mean\n",
        "std = train_data.std(axis=0)\n",
        "train_data /= std\n",
        "test_data -= mean\n",
        "test_data /= std"
      ]
    },
    {
      "cell_type": "markdown",
      "metadata": {
        "id": "1UOA7TJ-J9n-"
      },
      "source": [
        "### Building your model"
      ]
    },
    {
      "cell_type": "markdown",
      "metadata": {
        "id": "bE0P97nuJ9n-"
      },
      "source": [
        "**Model definition**"
      ]
    },
    {
      "cell_type": "code",
      "execution_count": 77,
      "metadata": {
        "id": "_YBS2osbJ9n-"
      },
      "outputs": [],
      "source": [
        "def build_model():\n",
        "    model = keras.Sequential([\n",
        "        layers.Dense(64, activation=\"relu\"),\n",
        "        layers.Dense(64, activation=\"relu\"),\n",
        "        layers.Dense(1)\n",
        "    ])\n",
        "    model.compile(optimizer=\"rmsprop\", loss=\"mse\", metrics=[\"mae\"])\n",
        "    return model"
      ]
    },
    {
      "cell_type": "markdown",
      "metadata": {
        "id": "7ql80xX0J9n-"
      },
      "source": [
        "### Validating your approach using K-fold validation"
      ]
    },
    {
      "cell_type": "markdown",
      "metadata": {
        "id": "3sCTYTToJ9n-"
      },
      "source": [
        "**K-fold validation**"
      ]
    },
    {
      "cell_type": "code",
      "execution_count": 78,
      "metadata": {
        "id": "0eiilsZWJ9n-",
        "colab": {
          "base_uri": "https://localhost:8080/"
        },
        "outputId": "c1e69613-0afa-4de2-a8f5-12562c2b9b61"
      },
      "outputs": [
        {
          "output_type": "stream",
          "name": "stdout",
          "text": [
            "Processing fold #0\n",
            "Processing fold #1\n",
            "Processing fold #2\n",
            "Processing fold #3\n"
          ]
        }
      ],
      "source": [
        "k = 4\n",
        "num_val_samples = len(train_data) // k\n",
        "num_epochs = 100\n",
        "all_scores = []\n",
        "for i in range(k):\n",
        "    print(f\"Processing fold #{i}\")\n",
        "    val_data = train_data[i * num_val_samples: (i + 1) * num_val_samples]\n",
        "    val_targets = train_targets[i * num_val_samples: (i + 1) * num_val_samples]\n",
        "    partial_train_data = np.concatenate(\n",
        "        [train_data[:i * num_val_samples],\n",
        "         train_data[(i + 1) * num_val_samples:]],\n",
        "        axis=0)\n",
        "    partial_train_targets = np.concatenate(\n",
        "        [train_targets[:i * num_val_samples],\n",
        "         train_targets[(i + 1) * num_val_samples:]],\n",
        "        axis=0)\n",
        "    model = build_model()\n",
        "    model.fit(partial_train_data, partial_train_targets,\n",
        "              epochs=num_epochs, batch_size=16, verbose=0)\n",
        "    val_mse, val_mae = model.evaluate(val_data, val_targets, verbose=0)\n",
        "    all_scores.append(val_mae)"
      ]
    },
    {
      "cell_type": "code",
      "execution_count": 79,
      "metadata": {
        "id": "TUxX7ySxJ9n_",
        "colab": {
          "base_uri": "https://localhost:8080/"
        },
        "outputId": "e46a9c92-36d7-4912-9b81-60a015f8b966"
      },
      "outputs": [
        {
          "output_type": "execute_result",
          "data": {
            "text/plain": [
              "[1.8636016845703125, 2.265979766845703, 2.4398162364959717, 2.4514808654785156]"
            ]
          },
          "metadata": {},
          "execution_count": 79
        }
      ],
      "source": [
        "all_scores"
      ]
    },
    {
      "cell_type": "code",
      "execution_count": 80,
      "metadata": {
        "id": "gEZ11GVnJ9n_",
        "colab": {
          "base_uri": "https://localhost:8080/"
        },
        "outputId": "43b79508-7a28-4767-92cb-d18486387552"
      },
      "outputs": [
        {
          "output_type": "execute_result",
          "data": {
            "text/plain": [
              "2.2552196383476257"
            ]
          },
          "metadata": {},
          "execution_count": 80
        }
      ],
      "source": [
        "np.mean(all_scores)"
      ]
    },
    {
      "cell_type": "markdown",
      "metadata": {
        "id": "l3uEZV2hJ9n_"
      },
      "source": [
        "**Saving the validation logs at each fold**"
      ]
    },
    {
      "cell_type": "code",
      "execution_count": 82,
      "metadata": {
        "id": "C3IprFQeJ9n_",
        "colab": {
          "base_uri": "https://localhost:8080/",
          "height": 360
        },
        "outputId": "950df954-b30a-4adb-82be-149344dbbc38"
      },
      "outputs": [
        {
          "metadata": {
            "tags": null
          },
          "name": "stdout",
          "output_type": "stream",
          "text": [
            "Processing fold #0\n"
          ]
        },
        {
          "ename": "KeyboardInterrupt",
          "evalue": "",
          "output_type": "error",
          "traceback": [
            "\u001b[0;31m---------------------------------------------------------------------------\u001b[0m",
            "\u001b[0;31mKeyboardInterrupt\u001b[0m                         Traceback (most recent call last)",
            "\u001b[0;32m<ipython-input-82-7b1b983d2b00>\u001b[0m in \u001b[0;36m<cell line: 3>\u001b[0;34m()\u001b[0m\n\u001b[1;32m     14\u001b[0m         axis=0)\n\u001b[1;32m     15\u001b[0m     \u001b[0mmodel\u001b[0m \u001b[0;34m=\u001b[0m \u001b[0mbuild_model\u001b[0m\u001b[0;34m(\u001b[0m\u001b[0;34m)\u001b[0m\u001b[0;34m\u001b[0m\u001b[0;34m\u001b[0m\u001b[0m\n\u001b[0;32m---> 16\u001b[0;31m     history = model.fit(partial_train_data, partial_train_targets,\n\u001b[0m\u001b[1;32m     17\u001b[0m                         \u001b[0mvalidation_data\u001b[0m\u001b[0;34m=\u001b[0m\u001b[0;34m(\u001b[0m\u001b[0mval_data\u001b[0m\u001b[0;34m,\u001b[0m \u001b[0mval_targets\u001b[0m\u001b[0;34m)\u001b[0m\u001b[0;34m,\u001b[0m\u001b[0;34m\u001b[0m\u001b[0;34m\u001b[0m\u001b[0m\n\u001b[1;32m     18\u001b[0m                         epochs=num_epochs, batch_size=16, verbose=0)\n",
            "\u001b[0;32m/usr/local/lib/python3.10/dist-packages/keras/src/utils/traceback_utils.py\u001b[0m in \u001b[0;36merror_handler\u001b[0;34m(*args, **kwargs)\u001b[0m\n\u001b[1;32m     63\u001b[0m         \u001b[0mfiltered_tb\u001b[0m \u001b[0;34m=\u001b[0m \u001b[0;32mNone\u001b[0m\u001b[0;34m\u001b[0m\u001b[0;34m\u001b[0m\u001b[0m\n\u001b[1;32m     64\u001b[0m         \u001b[0;32mtry\u001b[0m\u001b[0;34m:\u001b[0m\u001b[0;34m\u001b[0m\u001b[0;34m\u001b[0m\u001b[0m\n\u001b[0;32m---> 65\u001b[0;31m             \u001b[0;32mreturn\u001b[0m \u001b[0mfn\u001b[0m\u001b[0;34m(\u001b[0m\u001b[0;34m*\u001b[0m\u001b[0margs\u001b[0m\u001b[0;34m,\u001b[0m \u001b[0;34m**\u001b[0m\u001b[0mkwargs\u001b[0m\u001b[0;34m)\u001b[0m\u001b[0;34m\u001b[0m\u001b[0;34m\u001b[0m\u001b[0m\n\u001b[0m\u001b[1;32m     66\u001b[0m         \u001b[0;32mexcept\u001b[0m \u001b[0mException\u001b[0m \u001b[0;32mas\u001b[0m \u001b[0me\u001b[0m\u001b[0;34m:\u001b[0m\u001b[0;34m\u001b[0m\u001b[0;34m\u001b[0m\u001b[0m\n\u001b[1;32m     67\u001b[0m             \u001b[0mfiltered_tb\u001b[0m \u001b[0;34m=\u001b[0m \u001b[0m_process_traceback_frames\u001b[0m\u001b[0;34m(\u001b[0m\u001b[0me\u001b[0m\u001b[0;34m.\u001b[0m\u001b[0m__traceback__\u001b[0m\u001b[0;34m)\u001b[0m\u001b[0;34m\u001b[0m\u001b[0;34m\u001b[0m\u001b[0m\n",
            "\u001b[0;31mKeyboardInterrupt\u001b[0m: "
          ]
        }
      ],
      "source": [
        "num_epochs = 500\n",
        "all_mae_histories = []\n",
        "for i in range(k):\n",
        "    print(f\"Processing fold #{i}\")\n",
        "    val_data = train_data[i * num_val_samples: (i + 1) * num_val_samples]\n",
        "    val_targets = train_targets[i * num_val_samples: (i + 1) * num_val_samples]\n",
        "    partial_train_data = np.concatenate(\n",
        "        [train_data[:i * num_val_samples],\n",
        "         train_data[(i + 1) * num_val_samples:]],\n",
        "        axis=0)\n",
        "    partial_train_targets = np.concatenate(\n",
        "        [train_targets[:i * num_val_samples],\n",
        "         train_targets[(i + 1) * num_val_samples:]],\n",
        "        axis=0)\n",
        "    model = build_model()\n",
        "    history = model.fit(partial_train_data, partial_train_targets,\n",
        "                        validation_data=(val_data, val_targets),\n",
        "                        epochs=num_epochs, batch_size=16, verbose=0)\n",
        "    mae_history = history.history[\"val_mae\"]\n",
        "    all_mae_histories.append(mae_history)"
      ]
    },
    {
      "cell_type": "markdown",
      "metadata": {
        "id": "_q3xdCbKJ9n_"
      },
      "source": [
        "**Building the history of successive mean K-fold validation scores**"
      ]
    },
    {
      "cell_type": "code",
      "execution_count": null,
      "metadata": {
        "id": "utMX0FANJ9oA"
      },
      "outputs": [],
      "source": [
        "average_mae_history = [\n",
        "    np.mean([x[i] for x in all_mae_histories]) for i in range(num_epochs)]"
      ]
    },
    {
      "cell_type": "markdown",
      "metadata": {
        "id": "GqqcJxO8J9oA"
      },
      "source": [
        "**Plotting validation scores**"
      ]
    },
    {
      "cell_type": "code",
      "execution_count": null,
      "metadata": {
        "id": "X9WZY5gJJ9oA"
      },
      "outputs": [],
      "source": [
        "plt.plot(range(1, len(average_mae_history) + 1), average_mae_history)\n",
        "plt.xlabel(\"Epochs\")\n",
        "plt.ylabel(\"Validation MAE\")\n",
        "plt.show()"
      ]
    },
    {
      "cell_type": "markdown",
      "metadata": {
        "id": "N7y7I1k-J9oA"
      },
      "source": [
        "**Plotting validation scores, excluding the first 10 data points**"
      ]
    },
    {
      "cell_type": "code",
      "execution_count": null,
      "metadata": {
        "id": "HW7XEPF4J9oA"
      },
      "outputs": [],
      "source": [
        "truncated_mae_history = average_mae_history[10:]\n",
        "plt.plot(range(1, len(truncated_mae_history) + 1), truncated_mae_history)\n",
        "plt.xlabel(\"Epochs\")\n",
        "plt.ylabel(\"Validation MAE\")\n",
        "plt.show()"
      ]
    },
    {
      "cell_type": "markdown",
      "metadata": {
        "id": "6P8y7kRXJ9oA"
      },
      "source": [
        "**Training the final model**"
      ]
    },
    {
      "cell_type": "code",
      "execution_count": null,
      "metadata": {
        "id": "uA5AagboJ9oB"
      },
      "outputs": [],
      "source": [
        "model = build_model()\n",
        "model.fit(train_data, train_targets,\n",
        "          epochs=130, batch_size=16, verbose=0)\n",
        "test_mse_score, test_mae_score = model.evaluate(test_data, test_targets)"
      ]
    },
    {
      "cell_type": "code",
      "execution_count": null,
      "metadata": {
        "id": "Ycr1VDyrJ9oB"
      },
      "outputs": [],
      "source": [
        "test_mae_score"
      ]
    },
    {
      "cell_type": "markdown",
      "metadata": {
        "id": "QOHGmR3kJ9oB"
      },
      "source": [
        "### Generating predictions on new data"
      ]
    },
    {
      "cell_type": "code",
      "execution_count": null,
      "metadata": {
        "id": "aveaNWzYJ9oB"
      },
      "outputs": [],
      "source": [
        "predictions = model.predict(test_data)\n",
        "predictions[0]"
      ]
    },
    {
      "cell_type": "markdown",
      "metadata": {
        "id": "ssGRbHvOJ9oB"
      },
      "source": [
        "### Wrapping up"
      ]
    },
    {
      "cell_type": "markdown",
      "metadata": {
        "id": "bWhz1tnsJ9oC"
      },
      "source": [
        "## Summary"
      ]
    }
  ],
  "metadata": {
    "colab": {
      "provenance": [],
      "toc_visible": true,
      "include_colab_link": true
    },
    "kernelspec": {
      "display_name": "Python 3",
      "language": "python",
      "name": "python3"
    },
    "language_info": {
      "codemirror_mode": {
        "name": "ipython",
        "version": 3
      },
      "file_extension": ".py",
      "mimetype": "text/x-python",
      "name": "python",
      "nbconvert_exporter": "python",
      "pygments_lexer": "ipython3",
      "version": "3.7.0"
    }
  },
  "nbformat": 4,
  "nbformat_minor": 0
}